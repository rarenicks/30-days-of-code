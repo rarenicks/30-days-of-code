{
  "nbformat": 4,
  "nbformat_minor": 0,
  "metadata": {
    "colab": {
      "provenance": [],
      "authorship_tag": "ABX9TyOMD2zPxvGs5QbsN6Odigbt",
      "include_colab_link": true
    },
    "kernelspec": {
      "name": "python3",
      "display_name": "Python 3"
    },
    "language_info": {
      "name": "python"
    }
  },
  "cells": [
    {
      "cell_type": "markdown",
      "metadata": {
        "id": "view-in-github",
        "colab_type": "text"
      },
      "source": [
        "<a href=\"https://colab.research.google.com/github/rarenicks/30-days-of-code/blob/main/Tree.ipynb\" target=\"_parent\"><img src=\"https://colab.research.google.com/assets/colab-badge.svg\" alt=\"Open In Colab\"/></a>"
      ]
    },
    {
      "cell_type": "code",
      "execution_count": null,
      "metadata": {
        "id": "NRWwaHgdm4HO"
      },
      "outputs": [],
      "source": []
    },
    {
      "cell_type": "markdown",
      "source": [
        "### TREES"
      ],
      "metadata": {
        "id": "PDbjf0z8m4uk"
      }
    },
    {
      "cell_type": "markdown",
      "source": [
        "Types of trees:\n",
        "- General Tress\n",
        "- Binary Tree : Any node can have atmost 2 children\n",
        "- Binary search tree\n",
        "- AVL tree\n",
        "- Red black trees\n",
        "- B, B+ Trees[link text](https://)"
      ],
      "metadata": {
        "id": "zcBK2eeWZx1k"
      }
    },
    {
      "cell_type": "code",
      "source": [],
      "metadata": {
        "id": "nkucxpp0oEEX"
      },
      "execution_count": null,
      "outputs": []
    },
    {
      "cell_type": "code",
      "source": [],
      "metadata": {
        "id": "njFC1IpNoEQK"
      },
      "execution_count": null,
      "outputs": []
    },
    {
      "cell_type": "markdown",
      "source": [
        "# BFS"
      ],
      "metadata": {
        "id": "H1j5HRfqoEnA"
      }
    },
    {
      "cell_type": "code",
      "source": [
        "# Definition for a binary tree node.\n",
        "class TreeNode:\n",
        "    def __init__(self, val=0, left=None, right=None):\n",
        "        self.val = val\n",
        "        self.left = left\n",
        "        self.right = right\n",
        "\n",
        "t = TreeNode(1)\n",
        "t.left = TreeNode(2)\n",
        "t.right = TreeNode(3)\n",
        "t.left.left = TreeNode(4)\n",
        "t.left.right = TreeNode(5)\n",
        "t.right.left = TreeNode(6)\n",
        "t.right.right = TreeNode(7)"
      ],
      "metadata": {
        "id": "mZX4aZY9oG5G"
      },
      "execution_count": 5,
      "outputs": []
    },
    {
      "cell_type": "markdown",
      "source": [
        "# Traversal:\n",
        " - DFS : Depth First Search:  \n",
        "    - Preorder  : print(root), traverse(left), traverse(right)\n",
        "    - Inorder : print(left), traverse(root), traverse(right)\n",
        "    - Post order : print(left), traverse(right), traverse(root)\n",
        " - BFS : Breadth First Search / Level Order Traversal"
      ],
      "metadata": {
        "id": "OlDnyl8QasX0"
      }
    },
    {
      "cell_type": "markdown",
      "source": [],
      "metadata": {
        "id": "16UJWSn-asps"
      }
    },
    {
      "cell_type": "code",
      "source": [
        "def preOrder(node):\n",
        "  if node == None:\n",
        "    return\n",
        "\n",
        "  print(node.val, end = \" \")\n",
        "  preOrder(node.left)\n",
        "  preOrder(node.right)\n",
        "\n",
        "print(\"Pre Order ---\")\n",
        "print(preOrder(t))\n",
        "\n",
        "\n",
        "def inOrder(node):\n",
        "  if node == None:\n",
        "    return\n",
        "\n",
        "  inOrder(node.left)\n",
        "  print(node.val, end = \" \")\n",
        "  inOrder(node.right)\n",
        "\n",
        "print(\"In Order ---\")\n",
        "print(inOrder(t))\n",
        "\n",
        "\n",
        "def postOrder(node):\n",
        "  if node == None:\n",
        "    return\n",
        "\n",
        "  postOrder(node.left)\n",
        "  postOrder(node.right)\n",
        "  print(node.val, end = \" \")\n",
        "\n",
        "print(\"Post Order  ---\")\n",
        "print(postOrder(t))\n",
        "\n"
      ],
      "metadata": {
        "id": "-2OsnXrIbsjJ",
        "outputId": "049008e3-20a0-4022-913d-bb6edae574d1",
        "colab": {
          "base_uri": "https://localhost:8080/"
        }
      },
      "execution_count": 6,
      "outputs": [
        {
          "output_type": "stream",
          "name": "stdout",
          "text": [
            "Pre Order ---\n",
            "1 2 4 5 3 6 7 None\n",
            "In Order ---\n",
            "4 2 5 1 6 3 7 None\n",
            "Post Order  ---\n",
            "4 5 2 6 7 3 1 None\n"
          ]
        }
      ]
    },
    {
      "cell_type": "markdown",
      "source": [],
      "metadata": {
        "id": "WuVT8uPDexdX"
      }
    },
    {
      "cell_type": "code",
      "source": [
        "from collections import deque\n",
        "def bfs(node):\n",
        "  queue = deque()\n",
        "  queue.append(node)\n",
        "\n",
        "  while queue:\n",
        "    item = queue.popleft()\n",
        "    print(item.val, end = \" \")\n",
        "    if item.left:\n",
        "      queue.append(item.left)\n",
        "    if item.right:\n",
        "      queue.append(item.right)\n",
        "\n",
        "print(\"Level order traversal ---\")\n",
        "print(bfs(t))"
      ],
      "metadata": {
        "id": "8x561wSefQ5E",
        "outputId": "5a9dd682-8846-41ff-a3b8-2282530d4c03",
        "colab": {
          "base_uri": "https://localhost:8080/"
        }
      },
      "execution_count": 7,
      "outputs": [
        {
          "output_type": "stream",
          "name": "stdout",
          "text": [
            "Level order traversal ---\n",
            "1 2 3 4 5 6 7 None\n"
          ]
        }
      ]
    },
    {
      "cell_type": "markdown",
      "source": [
        "100. Same Tree\n",
        "Given the roots of two binary trees p and q, write a function to check if they are the same or not.\n",
        "\n",
        "Two binary trees are considered the same if they are structurally identical, and the nodes have the same value.\n",
        "\n",
        "Input: p = [1,2,3], q = [1,2,3]\n",
        "Output: true\n",
        "Input: p = [1\n",
        ",2], q = [1,null,2]\n",
        "Output: false"
      ],
      "metadata": {
        "id": "leLVqxAjm46y"
      }
    },
    {
      "cell_type": "code",
      "source": [
        "from typing import Optional"
      ],
      "metadata": {
        "id": "vA0HRz35nTsy"
      },
      "execution_count": 8,
      "outputs": []
    },
    {
      "cell_type": "code",
      "source": [
        "class Solution:\n",
        "    def isSameTree(self, p: Optional[TreeNode], q: Optional[TreeNode]) -> bool:\n",
        "\n",
        "        if p is None and q is None:\n",
        "            return True\n",
        "        if (p is None or q is None) or p.val != q.val:\n",
        "            return False\n",
        "\n",
        "        return (self.isSameTree(p.left, q.left) and\n",
        "        self.isSameTree(p.right, q.right))\n",
        "\n",
        "p,q = TreeNode(1), TreeNode(1)\n",
        "p.left, q.left =TreeNode(2), TreeNode(2)\n",
        "p.right, q.right =TreeNode(3), TreeNode(3)"
      ],
      "metadata": {
        "id": "WXz6c_ThnFL-"
      },
      "execution_count": 9,
      "outputs": []
    },
    {
      "cell_type": "code",
      "source": [
        "sol = Solution()\n",
        "print(sol.isSameTree(p,q))"
      ],
      "metadata": {
        "colab": {
          "base_uri": "https://localhost:8080/"
        },
        "id": "YNEvd_2TnLnf",
        "outputId": "b69b162e-f59a-433f-c550-6c1819931f3a"
      },
      "execution_count": 10,
      "outputs": [
        {
          "output_type": "stream",
          "name": "stdout",
          "text": [
            "True\n"
          ]
        }
      ]
    },
    {
      "cell_type": "code",
      "source": [],
      "metadata": {
        "id": "_PIV-Zvnn5Dd"
      },
      "execution_count": 10,
      "outputs": []
    },
    {
      "cell_type": "markdown",
      "source": [
        "# Left and Right View of the tree\n",
        "\n"
      ],
      "metadata": {
        "id": "UxPBx5za9Vse"
      }
    },
    {
      "cell_type": "code",
      "source": [
        "res = []\n",
        "def left_view(node, level):\n",
        "  global res\n",
        "\n",
        "  # iterative recursively\n",
        "  if not node:\n",
        "    return\n",
        "  if len(res) == level:\n",
        "    res.append(node.val)\n",
        "\n",
        "  left_view(node.left, level+1)\n",
        "  left_view(node.right, level+1)\n",
        "\n",
        "\n",
        "left_view(t,0)\n",
        "print(\"Left view of the tree :\", res)\n",
        "\n",
        "res=[]\n",
        "def right_view(node, level):\n",
        "  global res\n",
        "\n",
        "  # iterative recursively\n",
        "  if not node:\n",
        "    return\n",
        "  if len(res) == level:\n",
        "    res.append(node.val)\n",
        "\n",
        "  right_view(node.right, level+1)\n",
        "  right_view(node.left, level+1)\n",
        "\n",
        "\n",
        "right_view(t,0)\n",
        "print(\"Right view of the tree :\", res)\n"
      ],
      "metadata": {
        "id": "zYfMZNOw9YXh",
        "outputId": "8039ece0-8468-45d0-e947-742c1bcfce2c",
        "colab": {
          "base_uri": "https://localhost:8080/"
        }
      },
      "execution_count": 11,
      "outputs": [
        {
          "output_type": "stream",
          "name": "stdout",
          "text": [
            "Left view of the tree : [1, 2, 4]\n",
            "Right view of the tree : [1, 3, 7]\n"
          ]
        }
      ]
    },
    {
      "cell_type": "markdown",
      "source": [
        "# Top and Botton view"
      ],
      "metadata": {
        "id": "7xkbz9Fr_HgY"
      }
    },
    {
      "cell_type": "code",
      "source": [
        "# Top View\n",
        "\n",
        "res=[]\n",
        "visits = set()\n",
        "def top_view(node, orientation):\n",
        "  global res, visits\n",
        "\n",
        "  if node:\n",
        "    print(\"Val: \",  node.val, \"ori: \", orientation, end=\" \")\n",
        "    print(\"\")\n",
        "\n",
        "    if orientation not in visits:\n",
        "      print(\"Got New orientation : \", orientation, \"adding val : \", node.val)\n",
        "      res.append(node.val)\n",
        "      visits.add(orientation)\n",
        "\n",
        "    top_view(node.left, orientation-1)\n",
        "    top_view(node.right, orientation+1)\n",
        "\n",
        "\n",
        "\n",
        "top_view(t,0)\n",
        "print(res)"
      ],
      "metadata": {
        "id": "kao7z9aK-mbE",
        "outputId": "681f3c5f-7e46-4e85-953c-085bb972ed18",
        "colab": {
          "base_uri": "https://localhost:8080/"
        }
      },
      "execution_count": 12,
      "outputs": [
        {
          "output_type": "stream",
          "name": "stdout",
          "text": [
            "Val:  1 ori:  0 \n",
            "Got New orientation :  0 adding val :  1\n",
            "Val:  2 ori:  -1 \n",
            "Got New orientation :  -1 adding val :  2\n",
            "Val:  4 ori:  -2 \n",
            "Got New orientation :  -2 adding val :  4\n",
            "Val:  5 ori:  0 \n",
            "Val:  3 ori:  1 \n",
            "Got New orientation :  1 adding val :  3\n",
            "Val:  6 ori:  0 \n",
            "Val:  7 ori:  2 \n",
            "Got New orientation :  2 adding val :  7\n",
            "[1, 2, 4, 3, 7]\n"
          ]
        }
      ]
    },
    {
      "cell_type": "code",
      "source": [
        "res_map = {}\n",
        "\n",
        "def bottom_view(node, orientation):\n",
        "    global res_map\n",
        "\n",
        "    if node:\n",
        "        print(\"Val:\", node.val, \"Ori:\", orientation)\n",
        "\n",
        "        # Always overwrite the value at this orientation\n",
        "        res_map[orientation] = node.val\n",
        "\n",
        "        bottom_view(node.left, orientation - 1)\n",
        "        bottom_view(node.right, orientation + 1)\n",
        "\n",
        "# Call the function\n",
        "res_map = {}\n",
        "bottom_view(t, 0)\n",
        "# Extract values from the map in order of horizontal distance\n",
        "bottom_view_result = [res_map[k] for k in sorted(res_map)]\n",
        "print(bottom_view_result)\n"
      ],
      "metadata": {
        "id": "sNrYyIkrC7SV",
        "outputId": "4238d3b5-a919-45e2-f3d5-b72354396255",
        "colab": {
          "base_uri": "https://localhost:8080/"
        }
      },
      "execution_count": 13,
      "outputs": [
        {
          "output_type": "stream",
          "name": "stdout",
          "text": [
            "Val: 1 Ori: 0\n",
            "Val: 2 Ori: -1\n",
            "Val: 4 Ori: -2\n",
            "Val: 5 Ori: 0\n",
            "Val: 3 Ori: 1\n",
            "Val: 6 Ori: 0\n",
            "Val: 7 Ori: 2\n",
            "[4, 2, 6, 3, 7]\n"
          ]
        }
      ]
    },
    {
      "cell_type": "code",
      "source": [
        "a = []\n",
        "id = a.append(1)\n",
        "print(id)"
      ],
      "metadata": {
        "id": "S9k-Rn8AFuaJ",
        "outputId": "b19c9636-3a2f-4696-e5e0-27302d464ddd",
        "colab": {
          "base_uri": "https://localhost:8080/"
        }
      },
      "execution_count": 14,
      "outputs": [
        {
          "output_type": "stream",
          "name": "stdout",
          "text": [
            "None\n"
          ]
        }
      ]
    },
    {
      "cell_type": "code",
      "source": [],
      "metadata": {
        "id": "HzGTxs_WGoGA"
      },
      "execution_count": 14,
      "outputs": []
    },
    {
      "cell_type": "markdown",
      "source": [
        "# Sum of the left leaves"
      ],
      "metadata": {
        "id": "1C8FaFkQOlrC"
      }
    },
    {
      "cell_type": "code",
      "source": [
        "class Solution:\n",
        "    def sumOfLeftLeaves(self, root: Optional[TreeNode]) -> int:\n",
        "        self.res = 0\n",
        "\n",
        "        def helper(cur):\n",
        "            if not cur:\n",
        "                return\n",
        "            if cur.left and not cur.left.left and not cur.left.right:\n",
        "                self.res += cur.left.val\n",
        "            helper(cur.left)\n",
        "            helper(cur.right)\n",
        "\n",
        "        helper(root)\n",
        "        return self.res\n",
        "\n",
        "\n",
        "print(\"Sum of left leaves : \", Solution().sumOfLeftLeaves(t))"
      ],
      "metadata": {
        "id": "_ZvqsrrzOnNm",
        "outputId": "d5d1d9e5-3a11-48eb-9372-9da83945dc49",
        "colab": {
          "base_uri": "https://localhost:8080/"
        }
      },
      "execution_count": 15,
      "outputs": [
        {
          "output_type": "stream",
          "name": "stdout",
          "text": [
            "Sum of left leaves :  10\n"
          ]
        }
      ]
    },
    {
      "cell_type": "code",
      "source": [
        "class Solution:\n",
        "    def sumOfRightLeaves(self, root: Optional[TreeNode]) -> int:\n",
        "        self.res = 0\n",
        "\n",
        "        def helper(cur):\n",
        "            if not cur:\n",
        "                return\n",
        "            if cur.right and not cur.left.left and not cur.left.right:\n",
        "                self.res += cur.right.val\n",
        "            helper(cur.left)\n",
        "            helper(cur.right)\n",
        "\n",
        "        helper(root)\n",
        "        return self.res\n",
        "\n",
        "\n",
        "print(\"Sum of left leaves : \", Solution().sumOfRightLeaves(t))"
      ],
      "metadata": {
        "id": "kSkK_iD9OyMD",
        "outputId": "f0b830d8-80c0-4678-c35a-f017b29119cf",
        "colab": {
          "base_uri": "https://localhost:8080/"
        }
      },
      "execution_count": 16,
      "outputs": [
        {
          "output_type": "stream",
          "name": "stdout",
          "text": [
            "Sum of left leaves :  12\n"
          ]
        }
      ]
    },
    {
      "cell_type": "code",
      "source": [],
      "metadata": {
        "id": "2jcCzlHOPMt6"
      },
      "execution_count": 16,
      "outputs": []
    },
    {
      "cell_type": "markdown",
      "source": [
        "# Find Bottom Left Tree Value"
      ],
      "metadata": {
        "id": "2WmdrCe1TGlW"
      }
    },
    {
      "cell_type": "code",
      "source": [
        "class Solution:\n",
        "    def findBottomLeftValue(self, root: Optional[TreeNode]) -> int:\n",
        "        self.max_depth = -1\n",
        "        self.res = root.val\n",
        "\n",
        "        def helper(node, depth):\n",
        "            if not node:\n",
        "                return\n",
        "            # If it's a leaf\n",
        "            if not node.left and not node.right:\n",
        "                if depth > self.max_depth:\n",
        "                    self.max_depth = depth\n",
        "                    self.res = node.val\n",
        "            # Traverse left before right to ensure leftmost priority\n",
        "            helper(node.left, depth + 1)\n",
        "            helper(node.right, depth + 1)\n",
        "\n",
        "        helper(root, 0)\n",
        "        return self.res\n",
        "\n",
        "\n",
        "print(\"Bottom left leaf Value : \", Solution().findBottomLeftValue(t))"
      ],
      "metadata": {
        "id": "VXc7SKdUTIRg",
        "outputId": "6654e9b8-330d-42b9-de98-ddfe4d042daf",
        "colab": {
          "base_uri": "https://localhost:8080/"
        }
      },
      "execution_count": 17,
      "outputs": [
        {
          "output_type": "stream",
          "name": "stdout",
          "text": [
            "Bottom left leaf Value :  4\n"
          ]
        }
      ]
    },
    {
      "cell_type": "code",
      "source": [
        "class Solution:\n",
        "    def findBottomRightValue(self, root: Optional[TreeNode]) -> int:\n",
        "        self.max_depth = -1\n",
        "        self.res = root.val\n",
        "\n",
        "        def helper(node, depth):\n",
        "            if not node:\n",
        "                return\n",
        "            # If it's a leaf\n",
        "            if not node.left and not node.right:\n",
        "                if depth > self.max_depth:\n",
        "                    self.max_depth = depth\n",
        "                    self.res = node.val\n",
        "            # Traverse right before left to ensure leftmost priority\n",
        "            helper(node.right, depth + 1)\n",
        "            helper(node.left, depth + 1)\n",
        "\n",
        "        helper(root, 0)\n",
        "        return self.res\n",
        "\n",
        "\n",
        "print(\"Bottom Right leaf Value : \", Solution().findBottomRightValue(t))"
      ],
      "metadata": {
        "id": "8PSbIqjTTNj_",
        "outputId": "79098285-4c35-4c82-b635-560c843ce1f6",
        "colab": {
          "base_uri": "https://localhost:8080/"
        }
      },
      "execution_count": 18,
      "outputs": [
        {
          "output_type": "stream",
          "name": "stdout",
          "text": [
            "Bottom Right leaf Value :  7\n"
          ]
        }
      ]
    },
    {
      "cell_type": "code",
      "source": [],
      "metadata": {
        "id": "JetNCOxLTeqN"
      },
      "execution_count": 18,
      "outputs": []
    },
    {
      "cell_type": "markdown",
      "source": [
        "# Tree creation using Inorder, preorder and postorder traversals\n",
        "\n",
        "1. Inorder and Preorder\n",
        "2. Inorder and Postorder\n",
        "\n",
        "Pre Order ---\n",
        "1 2 4 5 3 6 7\n",
        "In Order ---\n",
        "4 2 5 1 6 3 7\n",
        "Post Order  ---\n",
        "4 5 2 6 7 3 1"
      ],
      "metadata": {
        "id": "x4XWNf4GVykn"
      }
    },
    {
      "cell_type": "code",
      "source": [
        "# Inorder and preorder :\n",
        "\n",
        "\n",
        "def inPreTreeCreation(inorder, preorder, left, right):\n",
        "\n",
        "  # Pre - first is root, check that in preorder- its left is left tree and its right\n",
        "  # it right sub tree, and then repeat for left and right recursively\n",
        "\n",
        "  global index\n",
        "  if left > right or index >= len(preorder):\n",
        "    return None\n",
        "\n",
        "  curElem = preorder[index]\n",
        "  index += 1\n",
        "  print(index)\n",
        "  inOrderPos = inorder.index(curElem)\n",
        "\n",
        "  curNode = TreeNode(curElem)\n",
        "\n",
        "  curNode.left = inPreTreeCreation(inorder, preorder, left, inOrderPos -1)\n",
        "  curNode.right = inPreTreeCreation(inorder, preorder, inOrderPos + 1, right)\n",
        "\n",
        "  return curNode"
      ],
      "metadata": {
        "id": "eBNMssGRV8AV"
      },
      "execution_count": 68,
      "outputs": []
    },
    {
      "cell_type": "code",
      "source": [
        "class TreeNode:\n",
        "    def __init__(self, val):\n",
        "        self.val = val\n",
        "        self.left = None\n",
        "        self.right = None\n",
        "\n",
        "def inOrder(node):\n",
        "    if not node:\n",
        "        return []\n",
        "    return inOrder(node.left) + [node.val] + inOrder(node.right)\n",
        "\n",
        "def preOrder(node):\n",
        "    if not node:\n",
        "        return []\n",
        "    return [node.val] + preOrder(node.left) + preOrder(node.right)\n",
        "\n",
        "def inPreTreeCreation(inorder, preorder, left, right, in_map):\n",
        "    global index\n",
        "    if left > right or index >= len(preorder):\n",
        "        return None\n",
        "\n",
        "    curElem = preorder[index]\n",
        "    index += 1\n",
        "    inOrderPos = in_map[curElem]\n",
        "\n",
        "    curNode = TreeNode(curElem)\n",
        "    curNode.left = inPreTreeCreation(inorder, preorder, left, inOrderPos - 1, in_map)\n",
        "    curNode.right = inPreTreeCreation(inorder, preorder, inOrderPos + 1, right, in_map)\n",
        "\n",
        "    return curNode\n",
        "\n",
        "# Inputs\n",
        "preorder = [4, 5, 2, 6, 7, 3, 1]\n",
        "inorder = [1, 2, 4, 5, 3, 6, 7]\n",
        "\n",
        "# Build value-to-index map for inorder traversal\n",
        "in_map = {val: idx for idx, val in enumerate(inorder)}\n",
        "\n",
        "# Call the function\n",
        "index = 0\n",
        "root = inPreTreeCreation(inorder, preorder, 0, len(inorder) - 1, in_map)\n",
        "\n",
        "# Output traversals to verify correctness\n",
        "print(\"Inorder  :\", inOrder(root))\n",
        "print(\"Preorder :\", preOrder(root))\n"
      ],
      "metadata": {
        "id": "QVCj2n_tYr2s",
        "outputId": "cf2e40d5-297a-4111-b345-ec9916b8b102",
        "colab": {
          "base_uri": "https://localhost:8080/"
        }
      },
      "execution_count": 64,
      "outputs": [
        {
          "output_type": "stream",
          "name": "stdout",
          "text": [
            "Inorder  : [1, 3, 7, 6, 2, 5, 4]\n",
            "Preorder : [4, 5, 2, 6, 7, 3, 1]\n"
          ]
        }
      ]
    },
    {
      "cell_type": "code",
      "source": [
        "preorder = [4, 5, 2, 6, 7, 3, 1]\n",
        "inorder = [1, 2, 4, 5, 3, 6, 7]\n",
        "\n",
        "left, right = 0, len(preorder) - 1\n",
        "index = 0\n",
        "root  = inPreTreeCreation(inorder, preorder, left, right)\n",
        "print(\"Inorder : \", inOrder(root))\n",
        "print(\"PreOrder : \", preOrder(root))"
      ],
      "metadata": {
        "id": "5pp7uHw4WraQ",
        "outputId": "01372fa3-14cf-4365-a9ed-ff0c4a131dbe",
        "colab": {
          "base_uri": "https://localhost:8080/"
        }
      },
      "execution_count": 69,
      "outputs": [
        {
          "output_type": "stream",
          "name": "stdout",
          "text": [
            "1\n",
            "2\n",
            "3\n",
            "4\n",
            "5\n",
            "6\n",
            "7\n",
            "Inorder :  [1, 3, 7, 6, 2, 5, 4]\n",
            "PreOrder :  [4, 5, 2, 6, 7, 3, 1]\n"
          ]
        }
      ]
    },
    {
      "cell_type": "code",
      "source": [],
      "metadata": {
        "id": "yHvJVg76XOrZ"
      },
      "execution_count": 61,
      "outputs": []
    },
    {
      "cell_type": "markdown",
      "source": [
        "✅ Problem Statement Recap:\n",
        "Given the root of a binary tree and a target node (value), you need to compute the minimum time (in seconds) to burn the entire tree.\n",
        "\n",
        "- Approach Overview:\n",
        " - Build Parent Mapping: Since tree nodes don’t have parent pointers, do a BFS/DFS to map each node to its parent.\n",
        "\n",
        " - Find Target Node: Traverse to find the target node reference.\n",
        "\n",
        " - BFS Simulation: Perform BFS starting from the target node. At each level, fire spreads to children and parent. Count how many levels it takes."
      ],
      "metadata": {
        "id": "UI8Llfd3ownk"
      }
    },
    {
      "cell_type": "code",
      "source": [
        "from collections import deque, defaultdict\n",
        "\n",
        "class TreeNode:\n",
        "    def __init__(self, val):\n",
        "        self.val = val\n",
        "        self.left = None\n",
        "        self.right = None\n",
        "\n",
        "def buildParentMap(root, parent_map, target_val):\n",
        "    q = deque([root])\n",
        "    target_node = None\n",
        "\n",
        "    while q:\n",
        "        node = q.popleft()\n",
        "        if node.val == target_val:\n",
        "            target_node = node\n",
        "\n",
        "        if node.left:\n",
        "            parent_map[node.left] = node\n",
        "            q.append(node.left)\n",
        "        if node.right:\n",
        "            parent_map[node.right] = node\n",
        "            q.append(node.right)\n",
        "\n",
        "    return target_node\n",
        "\n",
        "def minTimeToBurnTree(root, target_val):\n",
        "    if not root:\n",
        "        return 0\n",
        "\n",
        "    # Step 1: Build parent map and find target node\n",
        "    parent_map = {}\n",
        "    target_node = buildParentMap(root, parent_map, target_val)\n",
        "\n",
        "    # Step 2: BFS to simulate fire spread\n",
        "    visited = set()\n",
        "    q = deque()\n",
        "    q.append(target_node)\n",
        "    visited.add(target_node)\n",
        "\n",
        "    time = 0\n",
        "\n",
        "    while q:\n",
        "        level_size = len(q)\n",
        "        burned_this_level = False\n",
        "\n",
        "        for _ in range(level_size):\n",
        "            node = q.popleft()\n",
        "            for neighbor in [node.left, node.right, parent_map.get(node)]:\n",
        "                if neighbor and neighbor not in visited:\n",
        "                    visited.add(neighbor)\n",
        "                    q.append(neighbor)\n",
        "                    burned_this_level = True\n",
        "\n",
        "        if burned_this_level:\n",
        "            time += 1\n",
        "\n",
        "    return time\n"
      ],
      "metadata": {
        "id": "yB1Z_xQso9lA"
      },
      "execution_count": 71,
      "outputs": []
    },
    {
      "cell_type": "code",
      "source": [
        "# Create a tree\n",
        "#        1\n",
        "#      /   \\\n",
        "#     2     3\n",
        "#    / \\   / \\\n",
        "#   4   5 6   7\n",
        "\n",
        "root = TreeNode(1)\n",
        "root.left = TreeNode(2)\n",
        "root.right = TreeNode(3)\n",
        "root.left.left = TreeNode(4)\n",
        "root.left.right = TreeNode(5)\n",
        "root.right.left = TreeNode(6)\n",
        "root.right.right = TreeNode(7)\n",
        "\n",
        "print(\"Minimum time to burn the tree from node 5:\", minTimeToBurnTree(root, 5))  # Output: 4\n"
      ],
      "metadata": {
        "id": "J3Akxjb3pBZA",
        "outputId": "4094d8f1-c23b-4eda-b26b-27cc530940de",
        "colab": {
          "base_uri": "https://localhost:8080/"
        }
      },
      "execution_count": 72,
      "outputs": [
        {
          "output_type": "stream",
          "name": "stdout",
          "text": [
            "Minimum time to burn the tree from node 5: 4\n"
          ]
        }
      ]
    },
    {
      "cell_type": "code",
      "source": [],
      "metadata": {
        "id": "AIHS5a0opBto"
      },
      "execution_count": null,
      "outputs": []
    },
    {
      "cell_type": "markdown",
      "source": [
        "# BST\n",
        "\n",
        "- Creation of BST\n",
        "- Searching in BST\n",
        "- Checking if BST or not\n",
        "  - check inorder is sorted\n",
        "  - Check ranges left [: parent] and right [parent:] recursively.\n",
        "- LCA : Lowest common ancestor\n",
        "  - Approach Overview:\n",
        "   - Build Parent Mapping: Since tree nodes don’t have parent pointers, do a BFS/DFS to map each node to its parent.\n",
        "   - Find Target Node: Traverse to find the target node reference.\n",
        "   - BFS Simulation: Perform BFS starting from the target node. At each level, fire spreads to children and parent. Count how many levels it takes.\n",
        " -    \n",
        "```\n",
        "def lowestCommonAncestor(self, root: 'TreeNode', p: 'TreeNode', q: 'TreeNode') -> 'TreeNode':\n",
        "        cur = root         \n",
        "        while cur:\n",
        "            if p.val > cur.val and q.val > cur.val:\n",
        "                cur = cur.right\n",
        "            elif p.val < cur.val and  q.val < cur.val:\n",
        "                cur = cur.left\n",
        "            else:\n",
        "                return cur```\n",
        "```\n",
        "- Flatten the BST - > Convert to BST\n",
        "  - TIme C : 0(n) , Space : 0(h) = o(logn)\n",
        "  - Approch :\n",
        "   - Perform an inorder traversal (which visits BST nodes in ascending order).\n",
        "   - During traversal, re-link nodes so that the current node's right pointer points to the next node in inorder sequence.\n",
        "   - Set the left pointers to None.\n",
        "  -\n",
        "  ```\n",
        "def flattenBST(root):\n",
        "        prev = None\n",
        "        def inorder(node):\n",
        "            nonlocal prev\n",
        "            if not node:\n",
        "                return\n",
        "            \n",
        "            inorder(node.left)\n",
        "            \n",
        "            node.left = None\n",
        "            if prev:\n",
        "                prev.right = node\n",
        "            prev = node\n",
        "        \n",
        "            inorder(node.right)\n",
        "    \n",
        "      inorder(root)\n",
        "```\n",
        "\n",
        "\n",
        "- Construct BST from preorder Traversal\n",
        "\n",
        " - Approach:  \n",
        "    - Start with the first element of preorder — it is the root of the BST.\n",
        "    - The next values in preorder will be:\n",
        "      - First, all nodes in the left subtree (values < root).\n",
        "      - Then, nodes in the right subtree (values > root).\n",
        "    - We want to split preorder elements between left and right subtrees accordingly while preserving the preorder order.\n",
        " ```\n",
        " def bstFromPreorder(preorder):\n",
        "        index = 0\n",
        "        def helper(lower=float('-inf'), upper=float('inf')):\n",
        "          nonlocal index\n",
        "          if index == len(preorder):\n",
        "              return None\n",
        "          \n",
        "          val = preorder[index]\n",
        "          # If current val is not in the valid BST range, return None\n",
        "          if val < lower or val > upper:\n",
        "              return None\n",
        "          \n",
        "          # Construct node and move to next\n",
        "          index += 1\n",
        "          root = TreeNode(val)\n",
        "          root.left = helper(lower, val)\n",
        "          root.right = helper(val, upper)\n",
        "          return root\n",
        "        return helper()\n",
        "```\n",
        "\n",
        "    \n",
        "- Balancing a BST\n",
        " - What : height(left subtree)  - height(right subtree) <= 1\n",
        " - Why : Balanced BSTs, like AVL trees and Red-Black trees, guarantee O(log n) ( reduced from o(n) from unbalanced tree) time complexity in the worst case,  \n",
        " - How:\n",
        "  - Approach :\n",
        "    - Build a balanced BST from the sorted array (as BST) using recursion:\n",
        "      - The middle element becomes the root.\n",
        "      - Recursively build left subtree from left half.\n",
        "      - Recursively build right subtree from right half.\n",
        "  - Code\n",
        "```\n",
        "def buildBalancedBST(arr, start, end):\n",
        "      if start > end:\n",
        "          return None\n",
        "      mid = (start + end) // 2\n",
        "      root = TreeNode(arr[mid])\n",
        "      root.left = buildBalancedBST(arr, start, mid - 1)\n",
        "      root.right = buildBalancedBST(arr, mid + 1, end)\n",
        "      return root\n",
        "def balanceBST(root):\n",
        "      sorted_nodes = []\n",
        "      inorderTraversal(root, sorted_nodes)\n",
        "      return buildBalancedBST(sorted_nodes, 0, len(sorted_nodes) - 1)\n",
        "```\n",
        "```\n",
        "\n",
        "- Find Largest BST in a Binary tree\n",
        "- How :\n",
        "  - Approach:\n",
        "    - Use a postorder traversal (left, right, root).\n",
        "    - For each node, get info from left and right children:\n",
        "      - Whether left and right subtrees are BSTs.\n",
        "      - Min and max values in left and right subtrees.\n",
        "      - Size of largest BST in left and right subtrees.\n",
        "    - If current node value is greater than max in left subtree and less than min in right subtree, then current subtree is BST.\n",
        "    - Calculate current subtree size = left size + right size + 1.\n",
        "    - Update maximum size accordingly.\n",
        "  \n",
        "\n",
        "- Code:\n",
        "\n",
        "```\n",
        "def largestBSTSubtree(root):\n",
        "    max_size = 0\n",
        "    def postorder(node):\n",
        "        nonlocal max_size\n",
        "        if not node:\n",
        "            # isBST, size, min_val, max_val\n",
        "            return True, 0, float('inf'), float('-inf')\n",
        "        \n",
        "        left_isBST, left_size, left_min, left_max = postorder(node.left)\n",
        "        right_isBST, right_size, right_min, right_max = postorder(node.right)\n",
        "        \n",
        "        if left_isBST and right_isBST and left_max < node.val < right_min:\n",
        "            size = left_size + right_size + 1\n",
        "            max_size = max(max_size, size)\n",
        "            cur_min = min(left_min, node.val)\n",
        "            cur_max = max(right_max, node.val)\n",
        "            return True, size, cur_min, cur_max\n",
        "        else:\n",
        "            return False, 0, 0, 0\n",
        "      postorder(root)\n",
        "      return max_size\n",
        "\n",
        "```"
      ],
      "metadata": {
        "id": "iD1JvMdh0Rru"
      }
    },
    {
      "cell_type": "code",
      "source": [],
      "metadata": {
        "id": "JsfV_BL-0xAM"
      },
      "execution_count": null,
      "outputs": []
    }
  ]
}
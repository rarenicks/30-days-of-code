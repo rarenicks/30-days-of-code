{
  "nbformat": 4,
  "nbformat_minor": 0,
  "metadata": {
    "colab": {
      "provenance": [],
      "authorship_tag": "ABX9TyMNYpwpFnsi6Qx0cF5oOG25",
      "include_colab_link": true
    },
    "kernelspec": {
      "name": "python3",
      "display_name": "Python 3"
    },
    "language_info": {
      "name": "python"
    }
  },
  "cells": [
    {
      "cell_type": "markdown",
      "metadata": {
        "id": "view-in-github",
        "colab_type": "text"
      },
      "source": [
        "<a href=\"https://colab.research.google.com/github/rarenicks/30-days-of-code/blob/main/Tree.ipynb\" target=\"_parent\"><img src=\"https://colab.research.google.com/assets/colab-badge.svg\" alt=\"Open In Colab\"/></a>"
      ]
    },
    {
      "cell_type": "code",
      "execution_count": null,
      "metadata": {
        "id": "NRWwaHgdm4HO"
      },
      "outputs": [],
      "source": []
    },
    {
      "cell_type": "markdown",
      "source": [
        "### TREES"
      ],
      "metadata": {
        "id": "PDbjf0z8m4uk"
      }
    },
    {
      "cell_type": "code",
      "source": [],
      "metadata": {
        "id": "nkucxpp0oEEX"
      },
      "execution_count": null,
      "outputs": []
    },
    {
      "cell_type": "code",
      "source": [],
      "metadata": {
        "id": "njFC1IpNoEQK"
      },
      "execution_count": null,
      "outputs": []
    },
    {
      "cell_type": "markdown",
      "source": [
        "# BFS"
      ],
      "metadata": {
        "id": "H1j5HRfqoEnA"
      }
    },
    {
      "cell_type": "code",
      "source": [
        "# Definition for a binary tree node.\n",
        "class TreeNode:\n",
        "    def __init__(self, val=0, left=None, right=None):\n",
        "        self.val = val\n",
        "        self.left = left\n",
        "        self.right = right\n",
        "\n",
        "    def insert(val)"
      ],
      "metadata": {
        "id": "mZX4aZY9oG5G"
      },
      "execution_count": 10,
      "outputs": []
    },
    {
      "cell_type": "markdown",
      "source": [
        "100. Same Tree\n",
        "Given the roots of two binary trees p and q, write a function to check if they are the same or not.\n",
        "\n",
        "Two binary trees are considered the same if they are structurally identical, and the nodes have the same value.\n",
        "\n",
        "Input: p = [1,2,3], q = [1,2,3]\n",
        "Output: true\n",
        "Input: p = [1\n",
        ",2], q = [1,null,2]\n",
        "Output: false"
      ],
      "metadata": {
        "id": "leLVqxAjm46y"
      }
    },
    {
      "cell_type": "code",
      "source": [
        "from typing import Optional"
      ],
      "metadata": {
        "id": "vA0HRz35nTsy"
      },
      "execution_count": 2,
      "outputs": []
    },
    {
      "cell_type": "code",
      "source": [
        "class Solution:\n",
        "    def isSameTree(self, p: Optional[TreeNode], q: Optional[TreeNode]) -> bool:\n",
        "\n",
        "        if p is None and q is None:\n",
        "            return True\n",
        "        if (p is None or q is None) or p.val != q.val:\n",
        "            return False\n",
        "\n",
        "        return (self.isSameTree(p.left, q.left) and\n",
        "        self.isSameTree(p.right, q.right))\n",
        "\n",
        "p,q = TreeNode(1), TreeNode(1)\n",
        "p.left, q.left =TreeNode(2), TreeNode(2)\n",
        "p.right, q.right =TreeNode(3), TreeNode(3)"
      ],
      "metadata": {
        "id": "WXz6c_ThnFL-"
      },
      "execution_count": 9,
      "outputs": []
    },
    {
      "cell_type": "code",
      "source": [
        "sol = Solution()\n",
        "print(sol.isSameTree(p,q))"
      ],
      "metadata": {
        "colab": {
          "base_uri": "https://localhost:8080/"
        },
        "id": "YNEvd_2TnLnf",
        "outputId": "7e0d5d32-6fe4-474d-cae7-7d5c91eb1c66"
      },
      "execution_count": 8,
      "outputs": [
        {
          "output_type": "stream",
          "name": "stdout",
          "text": [
            "False\n"
          ]
        }
      ]
    },
    {
      "cell_type": "code",
      "source": [],
      "metadata": {
        "id": "_PIV-Zvnn5Dd"
      },
      "execution_count": null,
      "outputs": []
    }
  ]
}
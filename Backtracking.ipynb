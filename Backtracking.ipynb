{
  "nbformat": 4,
  "nbformat_minor": 0,
  "metadata": {
    "colab": {
      "provenance": [],
      "authorship_tag": "ABX9TyNC25/aqLTywowQStv2auwp",
      "include_colab_link": true
    },
    "kernelspec": {
      "name": "python3",
      "display_name": "Python 3"
    },
    "language_info": {
      "name": "python"
    }
  },
  "cells": [
    {
      "cell_type": "markdown",
      "metadata": {
        "id": "view-in-github",
        "colab_type": "text"
      },
      "source": [
        "<a href=\"https://colab.research.google.com/github/rarenicks/30-days-of-code/blob/main/Backtracking.ipynb\" target=\"_parent\"><img src=\"https://colab.research.google.com/assets/colab-badge.svg\" alt=\"Open In Colab\"/></a>"
      ]
    },
    {
      "cell_type": "markdown",
      "source": [
        "##Backtracking\n",
        "A method for solving problems by exploring all possible solutions and abandoning solutions that do not satisfy the problem constraints. [Optimized brute force]\n",
        "\n",
        "- Definition: A technique to build a complete solution by making a sequence of \"best selection\" steps\n",
        "- Focus: Simply on \"what is the best step from this point.\n",
        "Examples:\n",
        "-- Activity Selection Problem: Choosing the maximum number of non-overlapping activities.\n",
        "-- Fractional Knapsack Problem: Selecting items to maximize value within a weight limit.\n",
        "-- Sorting, Minimum Spanning Tree (MST), Hoffman Encoding.\n",
        "- Disadvantages:\n",
        "May not always produce the optimal solution where multiple look aheads are needed.\n"
      ],
      "metadata": {
        "id": "3lIWaVBfF6x2"
      }
    },
    {
      "cell_type": "code",
      "execution_count": null,
      "metadata": {
        "id": "mVDK4xEfFkO0"
      },
      "outputs": [],
      "source": []
    },
    {
      "cell_type": "code",
      "source": [],
      "metadata": {
        "id": "MP74A5jZF5VB"
      },
      "execution_count": null,
      "outputs": []
    },
    {
      "cell_type": "code",
      "source": [
        "## Rat in a Maze :"
      ],
      "metadata": {
        "id": "oIHZkucLGbSK"
      },
      "execution_count": null,
      "outputs": []
    },
    {
      "cell_type": "markdown",
      "source": [
        "## Rat in a Maze\n"
      ],
      "metadata": {
        "id": "cd7P5ff2Gedf"
      }
    },
    {
      "cell_type": "code",
      "source": [
        "ansCount = 0\n",
        "possiblePath = [[-1,0], [1,0], [0,-1], [0,1]]\n",
        "\n",
        "def checkValidMove(grid, i, j, visitedGrid):\n",
        "  n = len(grid)\n",
        "  m = len(grid[0])\n",
        "  if i < 0 or i >= n or j < 0 or j >= m:\n",
        "    return False\n",
        "  if grid[i][j] == 0 or visitedGrid[i][j] == 1:\n",
        "      # It means that no path to i,j exists or already visited\n",
        "      return False\n",
        "  return True\n",
        "\n",
        "def solve(grid, i, j, visitedGrid):\n",
        "  global ansCount\n",
        "  n = len(grid)\n",
        "  m = len(grid[0])\n",
        "  if i+1 == n and j+1 == m:\n",
        "    if grid[i][j]==1:\n",
        "    # It means we have arrived, return from recursion\n",
        "      ansCount+=1\n",
        "      return\n",
        "\n",
        "  # Mark this cell as visited\n",
        "  visitedGrid[i][j] = 1\n",
        "  # Move the rat by moving L, R, U or D\n",
        "  for x,y in possiblePath:\n",
        "    newI = i + x\n",
        "    newJ = j + y\n",
        "    if checkValidMove(grid, newI, newJ, visitedGrid):\n",
        "      solve(grid, newI, newJ, visitedGrid)\n",
        "\n",
        "  #Backtracking here, clearing the visited cell and going again\n",
        "  visitedGrid[i][j] = 0\n",
        "\n",
        "def ratInMaze(grid):\n",
        "  global ansCount\n",
        "  n = len(grid )\n",
        "  m = len(grid[0])\n",
        "  visitedGrid = [[0 for i in range(m)] for i in range(n)]\n",
        "  solve(grid, 0,0, visitedGrid)\n",
        "  return ansCount\n",
        "\n",
        "grid = [[1,1,0], [1,1,1]]\n",
        "print(grid)\n",
        "print(\"Possible Routes: \", ratInMaze(grid))\n",
        "ansCount=0\n",
        "grid = [[1,1,1], [1,1,1]]\n",
        "print(grid)\n",
        "print(\"Possible Routes: \", ratInMaze(grid))"
      ],
      "metadata": {
        "colab": {
          "base_uri": "https://localhost:8080/"
        },
        "id": "ZKh1qy9iGdbf",
        "outputId": "50dbceac-3024-4c7d-93cd-ee05dcf8aa21"
      },
      "execution_count": null,
      "outputs": [
        {
          "output_type": "stream",
          "name": "stdout",
          "text": [
            "[[1, 1, 0], [1, 1, 1]]\n",
            "Possible Routes:  2\n",
            "[[1, 1, 1], [1, 1, 1]]\n",
            "Possible Routes:  4\n"
          ]
        }
      ]
    },
    {
      "cell_type": "markdown",
      "source": [
        "## N - Queen"
      ],
      "metadata": {
        "id": "UXKF9vqATsDB"
      }
    },
    {
      "cell_type": "code",
      "source": [
        "checkValid(nChess, currRow, currCol):\n",
        "  tempRow, tempCol = currRow, currCol\n",
        "  while tempRow > 0 and tempRow < len(nChess):\n",
        "    if\n",
        "\n",
        "n = 5\n",
        "nChess = [[\".\" for i in range(n)] for j in range(n)]\n",
        "for i in range(n):\n",
        "  print(\" \".join(nChess[i]))"
      ],
      "metadata": {
        "colab": {
          "base_uri": "https://localhost:8080/"
        },
        "id": "eXxr8qq3JZ1S",
        "outputId": "3296ac2c-6722-4aff-df7d-aabea75ee6c5"
      },
      "execution_count": null,
      "outputs": [
        {
          "output_type": "stream",
          "name": "stdout",
          "text": [
            ". . . . .\n",
            ". . . . .\n",
            ". . . . .\n",
            ". . . . .\n",
            ". . . . .\n"
          ]
        }
      ]
    },
    {
      "cell_type": "code",
      "source": [],
      "metadata": {
        "id": "0LLs5sWghy1W"
      },
      "execution_count": null,
      "outputs": []
    }
  ]
}
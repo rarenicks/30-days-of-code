{
  "nbformat": 4,
  "nbformat_minor": 0,
  "metadata": {
    "colab": {
      "provenance": [],
      "authorship_tag": "ABX9TyOj4qkqB/9/HOGdJxR8I+Lv",
      "include_colab_link": true
    },
    "kernelspec": {
      "name": "python3",
      "display_name": "Python 3"
    },
    "language_info": {
      "name": "python"
    }
  },
  "cells": [
    {
      "cell_type": "markdown",
      "metadata": {
        "id": "view-in-github",
        "colab_type": "text"
      },
      "source": [
        "<a href=\"https://colab.research.google.com/github/rarenicks/30-days-of-code/blob/main/Stacks.ipynb\" target=\"_parent\"><img src=\"https://colab.research.google.com/assets/colab-badge.svg\" alt=\"Open In Colab\"/></a>"
      ]
    },
    {
      "cell_type": "code",
      "execution_count": 26,
      "metadata": {
        "id": "fGw88WycNsp5"
      },
      "outputs": [],
      "source": [
        "from typing import List"
      ]
    },
    {
      "cell_type": "markdown",
      "source": [
        "#Stacks\n",
        "\n",
        "- insert / remove - O(1)"
      ],
      "metadata": {
        "id": "-sViakEaNwIa"
      }
    },
    {
      "cell_type": "code",
      "source": [
        "# Stack through List\n",
        "myStack = []\n",
        "\n",
        "myStack.append(1)\n",
        "myStack.append(2)\n",
        "myStack.append(3)\n",
        "\n",
        "print(myStack)\n",
        "print(myStack.pop())\n",
        "print(myStack)"
      ],
      "metadata": {
        "colab": {
          "base_uri": "https://localhost:8080/"
        },
        "id": "VXqjkBahN0Fp",
        "outputId": "04d338d1-cf59-4cfa-f9ab-e4fb0f6119e3"
      },
      "execution_count": 2,
      "outputs": [
        {
          "output_type": "stream",
          "name": "stdout",
          "text": [
            "[1, 2, 3]\n",
            "3\n",
            "[1, 2]\n"
          ]
        }
      ]
    },
    {
      "cell_type": "code",
      "source": [
        "# Stack using LinkedList\n",
        "\n",
        "# Add 1\n",
        "# dummy -> 1\n",
        "\n",
        "# Add 2\n",
        "# dummy -> 2 -> 1\n",
        "\n",
        "# Add 3\n",
        "# dummy -> 3 -> 2 -> 1\n",
        "\n",
        "# Pop\n",
        "# dummy ->2 -> 1\n",
        "print(1)"
      ],
      "metadata": {
        "colab": {
          "base_uri": "https://localhost:8080/"
        },
        "id": "phsL_8lFOBmK",
        "outputId": "07be3ae8-53a7-4b9d-c170-a6d016c3fcb6"
      },
      "execution_count": 8,
      "outputs": [
        {
          "output_type": "stream",
          "name": "stdout",
          "text": [
            "1\n"
          ]
        }
      ]
    },
    {
      "cell_type": "code",
      "source": [
        "class node:\n",
        "  def __init__(self, value):\n",
        "    self.value = value\n",
        "    self.next = None\n",
        "\n",
        "class Stack:\n",
        "  def __init__(self):\n",
        "    self.head = node(\"head\")\n",
        "    self.size = 0\n",
        "\n",
        "  # Push\n",
        "  def push(self, val):\n",
        "    temp = node(val)\n",
        "    temp.next = self.head.next\n",
        "    self.head.next = temp\n",
        "    self.size+=1\n",
        "\n",
        "  # Pop\n",
        "  def pop(self):\n",
        "    if self.size == 0:\n",
        "      return\n",
        "    deleted = self.head.next.value\n",
        "    self.head.next = self.head.next.next\n",
        "    self.size-=1\n",
        "    return deleted\n",
        "\n",
        "  # Peek : See top without deleting\n",
        "  def peek(self):\n",
        "    if self.size == 0:\n",
        "      return\n",
        "    return self.head.next.value\n",
        "\n",
        "  # Empty\n",
        "  def isEmpty(self):\n",
        "    if self.size()==0:\n",
        "      return True\n",
        "    return False\n",
        "\n",
        "  # GetSize\n",
        "  def getSize(self):\n",
        "    return self.size"
      ],
      "metadata": {
        "id": "QmQd_sHjPLaL"
      },
      "execution_count": 23,
      "outputs": []
    },
    {
      "cell_type": "code",
      "source": [
        "stack = Stack()\n",
        "stack.push(1)\n",
        "stack.push(2)\n",
        "stack.push(3)\n",
        "\n",
        "print(stack.getSize())\n",
        "print(stack.peek())\n",
        "\n",
        "print(stack.pop())\n",
        "print(stack.getSize())"
      ],
      "metadata": {
        "colab": {
          "base_uri": "https://localhost:8080/"
        },
        "id": "529QDLl-Ossf",
        "outputId": "9699c609-ca21-4b35-9bcf-8464a8f6302c"
      },
      "execution_count": 25,
      "outputs": [
        {
          "output_type": "stream",
          "name": "stdout",
          "text": [
            "3\n",
            "3\n",
            "3\n",
            "2\n"
          ]
        }
      ]
    },
    {
      "cell_type": "code",
      "source": [],
      "metadata": {
        "id": "RruSbQZMOzZC"
      },
      "execution_count": 21,
      "outputs": []
    },
    {
      "cell_type": "markdown",
      "source": [],
      "metadata": {
        "id": "DIimLnncTsix"
      }
    },
    {
      "cell_type": "markdown",
      "source": [
        "# QUESTIONS\n"
      ],
      "metadata": {
        "id": "oPsE-ii4Tsr3"
      }
    },
    {
      "cell_type": "code",
      "source": [],
      "metadata": {
        "id": "aBs7GofzTuQn"
      },
      "execution_count": null,
      "outputs": []
    },
    {
      "cell_type": "markdown",
      "source": [
        "1. Next Greater Element"
      ],
      "metadata": {
        "id": "CF_YRv2uTu1d"
      }
    },
    {
      "cell_type": "code",
      "source": [
        "def nextGreater(nums: List[int]) -> List[int]:\n",
        "    stack = []  # stores (num, index)\n",
        "    res = [-1] * len(nums)\n",
        "\n",
        "    for i in range(len(nums)):\n",
        "        cur = nums[i]\n",
        "        while stack and cur > stack[-1][0]: # Found the next greater at cur\n",
        "            val, idx = stack.pop()\n",
        "            res[idx] = cur\n",
        "        stack.append((cur, i))\n",
        "\n",
        "    return res"
      ],
      "metadata": {
        "id": "T-NG6JnDTxp0"
      },
      "execution_count": 53,
      "outputs": []
    },
    {
      "cell_type": "code",
      "source": [
        "nums = [1,10,30,2,5]\n",
        "print(nextGreater(nums))"
      ],
      "metadata": {
        "colab": {
          "base_uri": "https://localhost:8080/"
        },
        "id": "fD41muiBbdUu",
        "outputId": "686ec627-c411-4df8-ffe7-4f227905e313"
      },
      "execution_count": 54,
      "outputs": [
        {
          "output_type": "stream",
          "name": "stdout",
          "text": [
            "[10, 30, -1, 5, -1]\n"
          ]
        }
      ]
    },
    {
      "cell_type": "code",
      "source": [],
      "metadata": {
        "id": "UBVYD1Ctbjp7"
      },
      "execution_count": 54,
      "outputs": []
    },
    {
      "cell_type": "markdown",
      "source": [
        "# Equation Notation\n",
        "### Prefix : operator left right\n",
        "### InFix : left operator right\n",
        "### PostFix : left right operator"
      ],
      "metadata": {
        "id": "x2oT79U7pW5H"
      }
    },
    {
      "cell_type": "code",
      "source": [
        "def postFixEval(givenStr):\n",
        "  operators = ['+', '-'] # Lets consider only + and - for now\n",
        "  stack = []\n",
        "  for char in givenStr:\n",
        "    if char in operators:\n",
        "      # if len(stack) > 1:\n",
        "      second = stack.pop()\n",
        "      first = stack.pop()\n",
        "      if char == '+':\n",
        "        stack.append(first + second)\n",
        "      if char == \"-\":\n",
        "          stack.append(first - second)\n",
        "    else:\n",
        "      stack.append(int(char))\n",
        "\n",
        "  return stack.pop()"
      ],
      "metadata": {
        "id": "lA9B0C8JpoN-"
      },
      "execution_count": 95,
      "outputs": []
    },
    {
      "cell_type": "code",
      "source": [
        "givenStr = \"12+5-\"\n",
        "print(postFixEval(givenStr))"
      ],
      "metadata": {
        "colab": {
          "base_uri": "https://localhost:8080/"
        },
        "id": "_glVgcS1pt3e",
        "outputId": "38f5c0e3-020e-4e3e-944f-c0c90d11bb46"
      },
      "execution_count": 96,
      "outputs": [
        {
          "output_type": "stream",
          "name": "stdout",
          "text": [
            "-2\n"
          ]
        }
      ]
    },
    {
      "cell_type": "code",
      "source": [
        ""
      ],
      "metadata": {
        "id": "Tql41FIYqseb"
      },
      "execution_count": 92,
      "outputs": []
    },
    {
      "cell_type": "markdown",
      "source": [
        "# Rectangle Length"
      ],
      "metadata": {
        "id": "IP0hKjBPCKDS"
      }
    },
    {
      "cell_type": "code",
      "source": [
        "def nextSmallerHist(nums):\n",
        "  n = len(nums)\n",
        "  ans = [n] * n # stores index, default - till end if no smaller next present\n",
        "  stack = [] # stores val, idx\n",
        "\n",
        "  for i in range(n):\n",
        "    cur = nums[i]\n",
        "    while stack and cur < stack[-1][0]:\n",
        "      val, idx = stack.pop()\n",
        "      ans[idx] = i\n",
        "    stack.append((cur, i))\n",
        "  return ans"
      ],
      "metadata": {
        "id": "aI6JlrjCCMoN"
      },
      "execution_count": 131,
      "outputs": []
    },
    {
      "cell_type": "code",
      "source": [
        "def prevSmallerHist(nums):\n",
        "  n = len(nums)\n",
        "  ans = [-1] * n # stores index, default - till start if no smaller prev present\n",
        "  stack = [] # stores val, idx\n",
        "\n",
        "  for i in range(n-1, -1, -1):\n",
        "    cur = nums[i]\n",
        "    while stack and cur < stack[-1][0]:\n",
        "      val, idx = stack.pop()\n",
        "      ans[idx] = i\n",
        "    stack.append((nums[i], i))\n",
        "\n",
        "  return ans"
      ],
      "metadata": {
        "id": "uFhQ9pK7DWzK"
      },
      "execution_count": 132,
      "outputs": []
    },
    {
      "cell_type": "code",
      "source": [
        "def getHighArea(nums):\n",
        "  maxArea = 0\n",
        "  NSH = nextSmallerHist(nums)\n",
        "  PSH = prevSmallerHist(nums)\n",
        "  for i in range(len(nums)):\n",
        "    # area = curItem * (width)\n",
        "    curArea = nums[i] *  (NSH[i] - PSH[i] - 1)\n",
        "    maxArea = max(maxArea, curArea)\n",
        "  return maxArea"
      ],
      "metadata": {
        "id": "akBnGPwXHW5C"
      },
      "execution_count": 133,
      "outputs": []
    },
    {
      "cell_type": "code",
      "source": [],
      "metadata": {
        "colab": {
          "base_uri": "https://localhost:8080/"
        },
        "id": "qKH4Z0w5CNYR",
        "outputId": "8a555e7d-0d97-4e24-de34-45d728932eed"
      },
      "execution_count": 134,
      "outputs": [
        {
          "output_type": "stream",
          "name": "stdout",
          "text": [
            "Next Smaller Hist :  [1, 6, 4, 4, 6, 6]\n",
            "Prev Smaller Hist :  [-1, -1, 1, 2, 1, 4]\n",
            "Largest sum of Hist :  10\n",
            "------------------\n",
            "Next Smaller Hist :  [2, 2]\n",
            "Prev Smaller Hist :  [-1, 0]\n",
            "Largest sum of Hist :  4\n"
          ]
        }
      ]
    },
    {
      "cell_type": "code",
      "source": [],
      "metadata": {
        "id": "Rh5HYZ9VCmgB"
      },
      "execution_count": 122,
      "outputs": []
    },
    {
      "cell_type": "code",
      "source": [
        "#"
      ],
      "metadata": {
        "id": "pxruqrA_OQYu"
      },
      "execution_count": null,
      "outputs": []
    },
    {
      "cell_type": "markdown",
      "source": [
        "#### O(n) : solution for this"
      ],
      "metadata": {
        "id": "swY6F3UEORJh"
      }
    },
    {
      "cell_type": "code",
      "source": [
        "def largestRectArea(nums):\n",
        "  n = len(nums)\n",
        "  stack = [] # stores (idx, height)\n",
        "  maxArea = 0\n",
        "\n",
        "  for i in range(n):\n",
        "    cur = nums[i]\n",
        "    start = i\n",
        "    while stack and cur < stack[-1][1]: # Reached small right hist\n",
        "      idx, height = stack.pop()\n",
        "      curArea = height * (i-idx) # width = end - start\n",
        "      maxArea = max(maxArea,  curArea)\n",
        "      start = idx\n",
        "    stack.append((start, cur))\n",
        "\n",
        "  # Check for remaining items in stack\n",
        "  for i, h in stack:\n",
        "    curArea = h * (len(nums)- i)\n",
        "    maxArea = max(maxArea, curArea)\n",
        "\n",
        "  return maxArea\n"
      ],
      "metadata": {
        "id": "N_fpQN9tOT7Z"
      },
      "execution_count": 139,
      "outputs": []
    },
    {
      "cell_type": "code",
      "source": [
        "nums = [2,1,5,6,2,3]\n",
        "print(\"Next Smaller Hist : \", nextSmallerHist(nums))\n",
        "print(\"Prev Smaller Hist : \", prevSmallerHist(nums))\n",
        "print(\"Largest sum of Hist : \", getHighArea(nums))\n",
        "print(\"Largest sum of Hist  in O(n): \", largestRectArea(nums))\n",
        "\n",
        "print(\"------------------\")\n",
        "\n",
        "nums = [2,4]\n",
        "print(\"Next Smaller Hist : \", nextSmallerHist(nums))\n",
        "print(\"Prev Smaller Hist : \", prevSmallerHist(nums))\n",
        "print(\"Largest sum of Hist : \", getHighArea(nums))\n",
        "print(\"Largest sum of Hist  in O(n): \", largestRectArea(nums))\n"
      ],
      "metadata": {
        "colab": {
          "base_uri": "https://localhost:8080/"
        },
        "id": "z3K7zco5PT68",
        "outputId": "fb28122c-68c0-4b63-9280-455fbb84f989"
      },
      "execution_count": 141,
      "outputs": [
        {
          "output_type": "stream",
          "name": "stdout",
          "text": [
            "Next Smaller Hist :  [1, 6, 4, 4, 6, 6]\n",
            "Prev Smaller Hist :  [-1, -1, 1, 2, 1, 4]\n",
            "Largest sum of Hist :  10\n",
            "Largest sum of Hist  in O(n):  10\n",
            "------------------\n",
            "Next Smaller Hist :  [2, 2]\n",
            "Prev Smaller Hist :  [-1, 0]\n",
            "Largest sum of Hist :  4\n",
            "Largest sum of Hist  in O(n):  4\n"
          ]
        }
      ]
    },
    {
      "cell_type": "code",
      "source": [],
      "metadata": {
        "id": "bq3n0vaQPUdb"
      },
      "execution_count": 141,
      "outputs": []
    }
  ]
}
{
  "nbformat": 4,
  "nbformat_minor": 0,
  "metadata": {
    "colab": {
      "provenance": [],
      "authorship_tag": "ABX9TyMQCD+m1wgGUWy3cKz/0Efr",
      "include_colab_link": true
    },
    "kernelspec": {
      "name": "python3",
      "display_name": "Python 3"
    },
    "language_info": {
      "name": "python"
    }
  },
  "cells": [
    {
      "cell_type": "markdown",
      "metadata": {
        "id": "view-in-github",
        "colab_type": "text"
      },
      "source": [
        "<a href=\"https://colab.research.google.com/github/rarenicks/30-days-of-code/blob/main/Graph.ipynb\" target=\"_parent\"><img src=\"https://colab.research.google.com/assets/colab-badge.svg\" alt=\"Open In Colab\"/></a>"
      ]
    },
    {
      "cell_type": "code",
      "execution_count": null,
      "metadata": {
        "id": "n1SQxgSXMb0n"
      },
      "outputs": [],
      "source": []
    },
    {
      "cell_type": "markdown",
      "source": [
        "# 📘 Introduction to Graph Data Structures\n",
        "\n",
        "A **graph** is a powerful and flexible data structure used to model **relationships** between objects. It is composed of:\n",
        "\n",
        "- **Vertices (or Nodes)**: The fundamental units that represent entities (e.g., people, cities, web pages).\n",
        "- **Edges**: Connections between pairs of vertices that represent relationships (e.g., friendships, roads, hyperlinks).\n",
        "\n",
        "## 🔗 Types of Graphs\n",
        "\n",
        "- **Directed Graph (Digraph)**: Edges have a direction (A ➝ B).\n",
        "- **Undirected Graph**: Edges do not have direction (A — B).\n",
        "- **Weighted Graph**: Edges carry weights (e.g., distance, cost).\n",
        "- **Unweighted Graph**: All edges are considered equal.\n",
        "- **Cyclic vs. Acyclic**: Graphs with or without cycles.\n",
        "- **Connected Graph**: There is a path between every pair of nodes.\n",
        "\n",
        "## 🧠 Real-World Applications\n",
        "\n",
        "- **Social Networks**: Modeling users and their connections.\n",
        "- **Navigation Systems**: Finding the shortest path between locations.\n",
        "- **Recommendation Engines**: Suggesting products based on user-item\n",
        "relationships.\n",
        "- **Web Crawling**: Representing links between websites.\n",
        "- **Biological Networks**: Modeling protein interactions or gene regulation.\n",
        "\n",
        "## 🧰 Graph Representations\n",
        "\n",
        "1. **Adjacency List** – Efficient for sparse graphs.\n",
        "2. **Adjacency Matrix** – Efficient for dense graphs.\n",
        "3. **Edge List** – Simple and intuitive for small graphs."
      ],
      "metadata": {
        "id": "BuryhHvTNFE9"
      }
    },
    {
      "cell_type": "code",
      "source": [
        "# A way to represent graph.\n",
        "class node:\n",
        "  def __init(self, val):\n",
        "    self.data = val\n",
        "    self.edges = []\n",
        "\n",
        "To represent vertex\n",
        "\n",
        "To Represent edge\n",
        "- Edge List\n",
        "- Adjancecy list\n",
        "- Adjacency matrix\n"
      ],
      "metadata": {
        "id": "ngd2eUTGNFXq"
      },
      "execution_count": null,
      "outputs": []
    },
    {
      "cell_type": "markdown",
      "source": [
        "## 📍 Graph Representation Basics\n",
        "\n",
        "To work with graphs in code, we need ways to represent both **vertices** and **edges** efficiently.\n",
        "\n",
        "### 🧊 To Represent Vertices\n",
        "Vertices (also called nodes) can be represented in various ways depending on the implementation:\n",
        "- As elements in a list or set: `[\"A\", \"B\", \"C\"]`\n",
        "- As keys in a dictionary: `{ \"A\": [...], \"B\": [...] }`\n",
        "- As objects in a class-based graph representation\n",
        "\n",
        "---\n",
        "\n",
        "### 🔗 To Represent Edges\n",
        "\n",
        "Edges define the relationships or connections between vertices. There are three common ways to represent edges in a graph:\n",
        "\n",
        "#### 1. 📝 Edge List\n",
        "A list of all edges as pairs (or triplets if weighted):\n",
        "```python\n",
        "edges = [(\"A\", \"B\"), (\"A\", \"C\"), (\"B\", \"C\")]\n",
        "\n",
        "- For weighted graphs: [(\"A\", \"B\", 5), (\"A\", \"C\", 3)]\n",
        "\n",
        "2. 📋 Adjacency List\n",
        "A dictionary (or array) mapping each vertex to a list of its adjacent vertices:\n",
        "adj_list = {\n",
        "    \"A\": [\"B\", \"C\"],\n",
        "    \"B\": [\"C\"],\n",
        "    \"C\": []\n",
        "}\n",
        "\n",
        "- For weighted graphs: {\"A\": [(\"B\", 5), (\"C\", 3)], ...}\n",
        "3. 🧮 Adjacency Matrix\n",
        "A 2D array where matrix[i][j] = 1 (or weight) if there is an edge from vertex i to vertex j:\n",
        "\n",
        "- For vertices A, B, C\n",
        "\n",
        "matrix = [\n",
        "    [0, 1, 1],  # A -> B, A -> C\n",
        "    [0, 0, 1],  # B -> C\n",
        "    [0, 0, 0]   # C -> no one\n",
        "]\n",
        "Each representation has trade-offs in space and time complexity. You'll choose based on the graph's density, operations required, and memory constraints.\n"
      ],
      "metadata": {
        "id": "46yf6KLKO08W"
      }
    },
    {
      "cell_type": "code",
      "source": [
        "# Graph -> DFS Algo\n",
        "\n",
        "def dfs_iter(graph_matrix, start_vertex):\n",
        "  visited = [False] * len(graph_matrix)\n",
        "  nodes = [start_vertex] # Stack\n",
        "  visited[start_vertex] = True\n",
        "\n",
        "  while len(nodes) > 0:\n",
        "    curNode = nodes.pop()\n",
        "    print(curNode, end=\" \")\n",
        "\n",
        "    for neighborNode in range(len(graph_matrix)):\n",
        "      if graph_matrix[curNode][neighborNode] == 1 and not visited[neighborNode]:\n",
        "        visited[neighborNode] = True\n",
        "        nodes.append(neighborNode)"
      ],
      "metadata": {
        "id": "e7s2ooUjO1KB"
      },
      "execution_count": 51,
      "outputs": []
    },
    {
      "cell_type": "code",
      "source": [
        "def dfs(graph_matrix, vertex, visited=None):\n",
        "\n",
        "  if visited is None:\n",
        "    visited = [False] * len(graph_matrix)\n",
        "\n",
        "  visited[vertex] = True\n",
        "  print(vertex, end = \" \")\n",
        "\n",
        "  for neighbor in range(len(graph_matrix)):\n",
        "    if graph_matrix[vertex][neighbor] == 1 and not visited[neighbor]:\n",
        "      dfs(graph_matrix, neighbor, visited)"
      ],
      "metadata": {
        "id": "DYvjqmVMrVnS"
      },
      "execution_count": 52,
      "outputs": []
    },
    {
      "cell_type": "code",
      "source": [
        "\n",
        "# Graph 1: Simple Connected Graph (represented by adjacency matrix)\n",
        "#   0--1\n",
        "#   |  |\n",
        "#   2--3\n",
        "#   |\n",
        "#   4\n",
        "# Matrix representation:\n",
        "#   0 1 2 3 4\n",
        "# 0[0,1,1,0,0]\n",
        "# 1[1,0,0,1,0]\n",
        "# 2[1,0,0,1,1]\n",
        "# 3[0,1,1,0,0]\n",
        "# 4[0,0,1,0,0]\n",
        "graph_matrix1 = [\n",
        "    [0, 1, 1, 0, 0],  # Node 0\n",
        "    [1, 0, 0, 1, 0],  # Node 1\n",
        "    [1, 0, 0, 1, 1],  # Node 2\n",
        "    [0, 1, 1, 0, 0],  # Node 3\n",
        "]\n",
        "\n",
        "print(dfs(graph_matrix1, 1))\n",
        "\n",
        "graph_matrix2 = [\n",
        "    [0, 1, 1],  # Node 0\n",
        "    [1, 0, 1],  # Node 1\n",
        "    [1, 1, 0]   # Node 2\n",
        "]\n",
        "\n",
        "print(dfs(graph_matrix2, 1))\n",
        "print(dfs_iter(graph_matrix2, 1))\n",
        "print(\"----\")\n",
        "\n",
        "graph = [\n",
        "    [0, 1, 1, 0],\n",
        "    [1, 0, 0, 1],\n",
        "    [1, 0, 0, 1],\n",
        "    [0, 1, 1, 0]\n",
        "]\n",
        "\n",
        "dfs(graph, 0)\n",
        "print(\"iter\")\n",
        "dfs_iter(graph, 0)"
      ],
      "metadata": {
        "colab": {
          "base_uri": "https://localhost:8080/"
        },
        "id": "_O7kgQ2HlyKL",
        "outputId": "c9b696f3-ecfc-4c6e-aa12-b0e868aa42dc"
      },
      "execution_count": 56,
      "outputs": [
        {
          "output_type": "stream",
          "name": "stdout",
          "text": [
            "1 0 2 3 None\n",
            "1 0 2 None\n",
            "1 2 0 None\n",
            "----\n",
            "0 1 3 2 iter\n",
            "0 2 3 1 "
          ]
        }
      ]
    },
    {
      "cell_type": "code",
      "source": [
        "from collections import deque\n",
        "def bfs(adjacencyMatrix, startVertex):\n",
        "  visited = [False] * len(adjacencyMatrix)\n",
        "\n",
        "  queue = deque([startVertex])\n",
        "  result = []\n",
        "\n",
        "  visited[startVertex] = True\n",
        "\n",
        "  while queue:\n",
        "    currentNode = queue.popleft()\n",
        "    result.append(currentNode)\n",
        "\n",
        "    for neighbor in range(len(adjacencyMatrix)):\n",
        "      if adjacencyMatrix[currentNode][neighbor] == 1 and not visited[neighbor]:\n",
        "        visited[neighbor] = True\n",
        "        queue.append(neighbor)\n",
        "\n",
        "  return result"
      ],
      "metadata": {
        "id": "kLJja1MZkI09"
      },
      "execution_count": 61,
      "outputs": []
    },
    {
      "cell_type": "code",
      "source": [
        "graph = [\n",
        "    [0, 1, 1, 0],\n",
        "    [1, 0, 0, 1],\n",
        "    [1, 0, 0, 1],\n",
        "    [0, 1, 1, 0]\n",
        "]\n",
        "\n",
        "print(bfs(graph,0))"
      ],
      "metadata": {
        "colab": {
          "base_uri": "https://localhost:8080/"
        },
        "id": "EmRbgeh7vURG",
        "outputId": "27b2e51c-b47f-4f28-8b55-e5f330eaadd7"
      },
      "execution_count": 62,
      "outputs": [
        {
          "output_type": "stream",
          "name": "stdout",
          "text": [
            "[0, 1, 2, 3]\n"
          ]
        }
      ]
    },
    {
      "cell_type": "code",
      "source": [],
      "metadata": {
        "id": "8JL27UeyvbWo"
      },
      "execution_count": null,
      "outputs": []
    },
    {
      "cell_type": "markdown",
      "source": [
        "# ✅ Cycle Detection in Undirected Graph (DFS - Recursive Approach)\n"
      ],
      "metadata": {
        "id": "0EvphRCix67h"
      }
    },
    {
      "cell_type": "code",
      "source": [
        "def has_cycle_undirected(adjacencyMatrix):\n",
        "\n",
        "  visited = [False] * len(adjacencyMatrix)\n",
        "\n",
        "  def dfs(vertex, parent):\n",
        "    visited[vertex] = True\n",
        "    for neighbor in range(len(adjacencyMatrix)):\n",
        "      if adjacencyMatrix[vertex][neighbor] == 1:\n",
        "        if not visited[neighbor]:\n",
        "          isLoop = dfs(neighbor, vertex) #dfs(v, parent)\n",
        "          if isLoop:\n",
        "            return True\n",
        "        elif neighbor != parent:\n",
        "          return True # neighbor was visited and not a parent, cycle found\n",
        "\n",
        "    return False # No cycle found, return False\n",
        "\n",
        "  for vertex in range(len(adjacencyMatrix)):\n",
        "    if not visited[vertex]:\n",
        "      isLoop = dfs(vertex, -1) # dfs(v, parent)\n",
        "      if isLoop:\n",
        "        return True\n",
        "\n",
        "  return False"
      ],
      "metadata": {
        "id": "vq2XJiE_x8Z1"
      },
      "execution_count": 77,
      "outputs": []
    },
    {
      "cell_type": "code",
      "source": [
        "# Graph with a cycle: 0-1-3-2-0\n",
        "graph_with_cycle = [\n",
        "    [0, 1, 1, 0],\n",
        "    [1, 0, 0, 1],\n",
        "    [1, 0, 0, 1],\n",
        "    [0, 1, 1, 0]\n",
        "]\n",
        "\n",
        "# Graph without a cycle: 0-1-2-3 (tree)\n",
        "graph_no_cycle = [\n",
        "    [0, 1, 0, 0],\n",
        "    [1, 0, 1, 0],\n",
        "    [0, 1, 0, 1],\n",
        "    [0, 0, 1, 0]\n",
        "]\n",
        "\n",
        "print(\"Cycle in graph_with_cycle:\", has_cycle_undirected(graph_with_cycle))  # True\n",
        "print(\"Cycle in graph_no_cycle:\", has_cycle_undirected(graph_no_cycle))      # False"
      ],
      "metadata": {
        "colab": {
          "base_uri": "https://localhost:8080/"
        },
        "id": "RxFN9H04zbHm",
        "outputId": "ea542057-3232-4b63-de26-596e518d78a3"
      },
      "execution_count": 78,
      "outputs": [
        {
          "output_type": "stream",
          "name": "stdout",
          "text": [
            "Cycle in graph_with_cycle: True\n",
            "Cycle in graph_no_cycle: False\n"
          ]
        }
      ]
    },
    {
      "cell_type": "code",
      "source": [],
      "metadata": {
        "id": "C1cXt6GCzgbi"
      },
      "execution_count": 74,
      "outputs": []
    }
  ]
}
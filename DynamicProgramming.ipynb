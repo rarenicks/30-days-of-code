{
  "nbformat": 4,
  "nbformat_minor": 0,
  "metadata": {
    "colab": {
      "provenance": [],
      "authorship_tag": "ABX9TyMPBKwNRqAsYmRGxwoJV2r+",
      "include_colab_link": true
    },
    "kernelspec": {
      "name": "python3",
      "display_name": "Python 3"
    },
    "language_info": {
      "name": "python"
    }
  },
  "cells": [
    {
      "cell_type": "markdown",
      "metadata": {
        "id": "view-in-github",
        "colab_type": "text"
      },
      "source": [
        "<a href=\"https://colab.research.google.com/github/rarenicks/30-days-of-code/blob/main/DynamicProgramming.ipynb\" target=\"_parent\"><img src=\"https://colab.research.google.com/assets/colab-badge.svg\" alt=\"Open In Colab\"/></a>"
      ]
    },
    {
      "cell_type": "code",
      "execution_count": null,
      "metadata": {
        "id": "sUdJKpFuTKix"
      },
      "outputs": [],
      "source": []
    },
    {
      "cell_type": "markdown",
      "source": [
        "## Longest Incresing subsequence"
      ],
      "metadata": {
        "id": "kQX9rfZyTOeC"
      }
    },
    {
      "cell_type": "code",
      "source": [
        "from typing import List\n",
        "def longest_increasing_subseq(myList : List[int]) -> int:\n",
        "  dpList = [1] * len(myList)\n",
        "  ans = 1\n",
        "\n",
        "  for i in range(len(myList)):\n",
        "    # print(\"My List\",myList)\n",
        "    # print(\"DP List\", dpList)\n",
        "    for left in range(i):\n",
        "      if myList[left] < myList[i]:\n",
        "        if dpList[left] + 1 > dpList[i]:\n",
        "          dpList[i] = dpList[left] + 1\n",
        "    ans = max(dpList)\n",
        "\n",
        "  return ans"
      ],
      "metadata": {
        "id": "wsVoVHd_Tbes"
      },
      "execution_count": 20,
      "outputs": []
    },
    {
      "cell_type": "code",
      "source": [],
      "metadata": {
        "id": "BvvISl0aTn5x"
      },
      "execution_count": 18,
      "outputs": []
    },
    {
      "cell_type": "code",
      "source": [
        "myList = [0,1,0,3,2,3,5,2,1,2,5,6]\n",
        "print(longest_increasing_subseq(myList))"
      ],
      "metadata": {
        "colab": {
          "base_uri": "https://localhost:8080/"
        },
        "id": "49bH1ZFNTUw0",
        "outputId": "2e633fdd-7973-496d-a5b9-caaf48140376"
      },
      "execution_count": 21,
      "outputs": [
        {
          "output_type": "stream",
          "name": "stdout",
          "text": [
            "My List [0, 1, 0, 3, 2, 3, 5, 2, 1, 2, 5, 6]\n",
            "DP List [1, 1, 1, 1, 1, 1, 1, 1, 1, 1, 1, 1]\n",
            "My List [0, 1, 0, 3, 2, 3, 5, 2, 1, 2, 5, 6]\n",
            "DP List [1, 1, 1, 1, 1, 1, 1, 1, 1, 1, 1, 1]\n",
            "My List [0, 1, 0, 3, 2, 3, 5, 2, 1, 2, 5, 6]\n",
            "DP List [1, 2, 1, 1, 1, 1, 1, 1, 1, 1, 1, 1]\n",
            "My List [0, 1, 0, 3, 2, 3, 5, 2, 1, 2, 5, 6]\n",
            "DP List [1, 2, 1, 1, 1, 1, 1, 1, 1, 1, 1, 1]\n",
            "My List [0, 1, 0, 3, 2, 3, 5, 2, 1, 2, 5, 6]\n",
            "DP List [1, 2, 1, 3, 1, 1, 1, 1, 1, 1, 1, 1]\n",
            "My List [0, 1, 0, 3, 2, 3, 5, 2, 1, 2, 5, 6]\n",
            "DP List [1, 2, 1, 3, 3, 1, 1, 1, 1, 1, 1, 1]\n",
            "My List [0, 1, 0, 3, 2, 3, 5, 2, 1, 2, 5, 6]\n",
            "DP List [1, 2, 1, 3, 3, 4, 1, 1, 1, 1, 1, 1]\n",
            "My List [0, 1, 0, 3, 2, 3, 5, 2, 1, 2, 5, 6]\n",
            "DP List [1, 2, 1, 3, 3, 4, 5, 1, 1, 1, 1, 1]\n",
            "My List [0, 1, 0, 3, 2, 3, 5, 2, 1, 2, 5, 6]\n",
            "DP List [1, 2, 1, 3, 3, 4, 5, 3, 1, 1, 1, 1]\n",
            "My List [0, 1, 0, 3, 2, 3, 5, 2, 1, 2, 5, 6]\n",
            "DP List [1, 2, 1, 3, 3, 4, 5, 3, 2, 1, 1, 1]\n",
            "My List [0, 1, 0, 3, 2, 3, 5, 2, 1, 2, 5, 6]\n",
            "DP List [1, 2, 1, 3, 3, 4, 5, 3, 2, 3, 1, 1]\n",
            "My List [0, 1, 0, 3, 2, 3, 5, 2, 1, 2, 5, 6]\n",
            "DP List [1, 2, 1, 3, 3, 4, 5, 3, 2, 3, 5, 1]\n",
            "6\n"
          ]
        }
      ]
    },
    {
      "cell_type": "code",
      "source": [],
      "metadata": {
        "id": "QhntQzrmWAeh"
      },
      "execution_count": 21,
      "outputs": []
    }
  ]
}
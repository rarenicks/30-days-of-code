{
  "nbformat": 4,
  "nbformat_minor": 0,
  "metadata": {
    "colab": {
      "provenance": [],
      "include_colab_link": true
    },
    "kernelspec": {
      "name": "python3",
      "display_name": "Python 3"
    },
    "language_info": {
      "name": "python"
    }
  },
  "cells": [
    {
      "cell_type": "markdown",
      "metadata": {
        "id": "view-in-github",
        "colab_type": "text"
      },
      "source": [
        "<a href=\"https://colab.research.google.com/github/rarenicks/30-days-of-code/blob/main/LeetCode.ipynb\" target=\"_parent\"><img src=\"https://colab.research.google.com/assets/colab-badge.svg\" alt=\"Open In Colab\"/></a>"
      ]
    },
    {
      "cell_type": "code",
      "execution_count": null,
      "metadata": {
        "id": "74EMMFYBj695"
      },
      "outputs": [],
      "source": [
        "from typing import List"
      ]
    },
    {
      "cell_type": "markdown",
      "source": [
        "347. Top K Frequent Elements\n",
        "Medium\n",
        "Given an integer array nums and an integer k, return the k most frequent elements. You may return the answer in any order.\n",
        "\n",
        "\n",
        "\n",
        "Example 1:\n",
        "\n",
        "Input: nums = [1,1,1,2,2,3], k = 2\n",
        "Output: [1,2]\n",
        "Example 2:\n",
        "\n",
        "Input: nums = [1], k = 1\n",
        "Output: [1]\n"
      ],
      "metadata": {
        "id": "3rit2-3lAGGl"
      }
    },
    {
      "cell_type": "code",
      "source": [
        "from collections import Counter\n",
        "\n",
        "def topKFrequent(nums: List[int], k: int) -> List[int]:\n",
        "    # Solution :1\n",
        "    # # print(Counter(nums).items())\n",
        "    # counts = {k:v for k, v in sorted(Counter(nums).items(), key=lambda k:k[1])}\n",
        "    # # print(counts.values())\n",
        "    # res = list(counts.values())[:k]\n",
        "    # return res\n",
        "\n",
        "    # Solution 2: Bucket Sort. 0(n)\n",
        "    count = {}\n",
        "    res=[]\n",
        "    freqBucket = [[] for i in range(len(nums)+1)]\n",
        "    for n in nums:\n",
        "        count[n] = 1 + count.get(n,0)\n",
        "\n",
        "    for freq, item in count.items():\n",
        "      freqBucket[item].append(freq)\n",
        "      print(freqBucket)\n",
        "\n",
        "\n",
        "    for i in range(len(freqBucket)-1, 0, -1):\n",
        "      for num in freqBucket[i]:\n",
        "        print(num)\n",
        "        res.append(num)\n",
        "        if len(res) == k:\n",
        "          return res"
      ],
      "metadata": {
        "id": "zUBngSp3AIc7"
      },
      "execution_count": null,
      "outputs": []
    },
    {
      "cell_type": "code",
      "source": [
        "nums = [4,1,1,1,2,2,3]\n",
        "k = 2\n",
        "print(\"Top k freq elements : \", topKFrequent(nums, k))"
      ],
      "metadata": {
        "colab": {
          "base_uri": "https://localhost:8080/"
        },
        "id": "4RdJYABBA31x",
        "outputId": "b727e345-b5f2-4f4e-a5b4-f6bf3d02e81e"
      },
      "execution_count": null,
      "outputs": [
        {
          "output_type": "stream",
          "name": "stdout",
          "text": [
            "[[], [4], [], [], [], [], [], []]\n",
            "[[], [4], [], [1], [], [], [], []]\n",
            "[[], [4], [2], [1], [], [], [], []]\n",
            "[[], [4, 3], [2], [1], [], [], [], []]\n",
            "1\n",
            "2\n",
            "Top k freq elements :  [1, 2]\n"
          ]
        }
      ]
    },
    {
      "cell_type": "markdown",
      "source": [
        "Trick : Storing element as keys and storing freq. as there values  in a bucket sort, and then iterating from last to till last k values."
      ],
      "metadata": {
        "id": "t4u_4JdqKMrp"
      }
    },
    {
      "cell_type": "code",
      "source": [],
      "metadata": {
        "id": "vyOm_avQBC03"
      },
      "execution_count": null,
      "outputs": []
    },
    {
      "cell_type": "markdown",
      "source": [
        "49. Group Anagrams\n",
        "Medium\n",
        "\n",
        "Given an array of strings strs, group the anagrams together. You can return the answer in any order.\n",
        "\n",
        "\n",
        "\n",
        "Example 1:\n",
        "\n",
        "Input: strs = [\"eat\",\"tea\",\"tan\",\"ate\",\"nat\",\"bat\"]\n",
        "\n",
        "Output: [[\"bat\"],[\"nat\",\"tan\"],[\"ate\",\"eat\",\"tea\"]]\n",
        "\n",
        "Explanation:\n",
        "\n",
        "There is no string in strs that can be rearranged to form \"bat\".\n",
        "The strings \"nat\" and \"tan\" are anagrams as they can be rearranged to form each other.\n",
        "The strings \"ate\", \"eat\", and \"tea\" are anagrams as they can be rearranged to form each other.\n",
        "Example 2:\n",
        "\n",
        "Input: strs = [\"\"]\n",
        "\n",
        "Output: [[\"\"]]\n",
        "\n",
        "Example 3:\n",
        "\n",
        "Input: strs = [\"a\"]\n",
        "\n",
        "Output: [[\"a\"]]"
      ],
      "metadata": {
        "id": "VOwbQdPzM7vM"
      }
    },
    {
      "cell_type": "code",
      "source": [
        "from collections import Counter\n",
        "class Solution:\n",
        "    def groupAnagrams(self, strs: List[str]) -> List[List[str]]:\n",
        "        map = {}\n",
        "        for word in strs:\n",
        "            if word is None:\n",
        "                return [[\"\"]]\n",
        "            reword = \"\".join(sorted(word))\n",
        "            temp = map.get(reword,[])\n",
        "            temp.append(word)\n",
        "            map[reword] = temp\n",
        "\n",
        "        return list(map.values())\n"
      ],
      "metadata": {
        "id": "Aj9QWrQuM8Ey"
      },
      "execution_count": null,
      "outputs": []
    },
    {
      "cell_type": "code",
      "source": [],
      "metadata": {
        "id": "CC-6NMWdQK3n"
      },
      "execution_count": null,
      "outputs": []
    },
    {
      "cell_type": "code",
      "source": [
        "strs = [\"eat\",\"tea\",\"tan\",\"ate\",\"nat\",\"bat\"]\n",
        "solution = Solution()\n",
        "print(solution.groupAnagrams(strs))"
      ],
      "metadata": {
        "colab": {
          "base_uri": "https://localhost:8080/"
        },
        "id": "wiChwbkpNCSw",
        "outputId": "b0161b71-f431-4f61-8989-05972f02ae3d"
      },
      "execution_count": null,
      "outputs": [
        {
          "output_type": "stream",
          "name": "stdout",
          "text": [
            "{'aet': ['eat', 'tea', 'ate'], 'ant': ['tan', 'nat'], 'abt': ['bat']}\n",
            "[['eat', 'tea', 'ate'], ['tan', 'nat'], ['bat']]\n"
          ]
        }
      ]
    },
    {
      "cell_type": "code",
      "source": [],
      "metadata": {
        "id": "8KcrT4TbNLOo"
      },
      "execution_count": null,
      "outputs": []
    },
    {
      "cell_type": "markdown",
      "source": [
        "15. 3Sum\n",
        "Medium\n",
        "\n",
        "Given an integer array nums, return all the triplets [nums[i], nums[j], nums[k]] such that i != j, i != k, and j != k, and nums[i] + nums[j] + nums[k] == 0.\n",
        "\n",
        "Notice that the solution set must not contain duplicate triplets.\n",
        "\n",
        "\n",
        "\n",
        "Example 1:\n",
        "\n",
        "Input: nums = [-1,0,1,2,-1,-4]\n",
        "Output: [[-1,-1,2],[-1,0,1]]\n",
        "Explanation:\n",
        "nums[0] + nums[1] + nums[2] = (-1) + 0 + 1 = 0.\n",
        "nums[1] + nums[2] + nums[4] = 0 + 1 + (-1) = 0.\n",
        "nums[0] + nums[3] + nums[4] = (-1) + 2 + (-1) = 0.\n",
        "The distinct triplets are [-1,0,1] and [-1,-1,2].\n",
        "Notice that the order of the output and the order of the triplets does not matter.\n",
        "Example 2:\n",
        "\n",
        "Input: nums = [0,1,1]\n",
        "Output: []\n",
        "Explanation: The only possible triplet does not sum up to 0.\n",
        "Example 3:\n",
        "\n",
        "Input: nums = [0,0,0]\n",
        "Output: [[0,0,0]]\n",
        "Explanation: The only possible triplet sums up to 0.\n"
      ],
      "metadata": {
        "id": "rO8gZxyBdAdg"
      }
    },
    {
      "cell_type": "code",
      "source": [
        "class Solution:\n",
        "\n",
        "    def threeSum(self, nums: List[int]) -> List[List[int]]:\n",
        "        res= []\n",
        "        nums.sort()\n",
        "        for i in range(len(nums)):\n",
        "          if i > 0 and nums[i] == nums[i-1]:\n",
        "            continue # to avoid duplicates\n",
        "          left = i+1\n",
        "          right = len(nums) - 1\n",
        "          while left < right:\n",
        "\n",
        "            curSum = nums[i] + nums[left] + nums[right]\n",
        "            if curSum > 0:\n",
        "              right-=1\n",
        "            elif curSum < 0 :\n",
        "              left+=1\n",
        "            else:\n",
        "              res.append([nums[i], nums[left], nums[right]])\n",
        "              left+=1\n",
        "              while nums[left] == nums[left-1] and left < right:\n",
        "                left+=1\n",
        "\n",
        "        return res"
      ],
      "metadata": {
        "id": "ToEkWKaZOujj"
      },
      "execution_count": null,
      "outputs": []
    },
    {
      "cell_type": "code",
      "source": [
        "nums = [-1,0,1,2,-1,-4]\n",
        "solution = Solution()\n",
        "print(solution.threeSum(nums))"
      ],
      "metadata": {
        "colab": {
          "base_uri": "https://localhost:8080/"
        },
        "id": "RMYOekQLZqJy",
        "outputId": "9371c8d2-6cf0-4ec1-87d8-f41651e33e08"
      },
      "execution_count": null,
      "outputs": [
        {
          "output_type": "stream",
          "name": "stdout",
          "text": [
            "[[-1, -1, 2], [-1, 0, 1]]\n"
          ]
        }
      ]
    },
    {
      "cell_type": "code",
      "source": [
        "\n"
      ],
      "metadata": {
        "id": "xFa-NJPjdJBR"
      },
      "execution_count": null,
      "outputs": []
    },
    {
      "cell_type": "markdown",
      "source": [
        "#  994. Rotting Oranges\n",
        "Medium\n",
        "Topics\n",
        "Companies\n",
        "You are given an m x n grid where each cell can have one of three values:\n",
        "\n",
        "0 representing an empty cell,\n",
        "1 representing a fresh orange, or\n",
        "2 representing a rotten orange.\n",
        "Every minute, any fresh orange that is 4-directionally adjacent to a rotten orange becomes rotten.\n",
        "\n",
        "Return the minimum number of minutes that must elapse until no cell has a fresh orange. If this is impossible, return -1.\n",
        "\n",
        "\n",
        "\n",
        "Example 1:\n",
        "\n",
        "\n",
        "Input: grid = [[2,1,1],[1,1,0],[0,1,1]]\n",
        "Output: 4\n",
        "Example 2:\n",
        "\n",
        "Input: grid = [[2,1,1],[0,1,1],[1,0,1]]\n",
        "Output: -1\n",
        "Explanation: The orange in the bottom left corner (row 2, column 0) is never rotten, because rotting only happens 4-directionally.\n",
        "Example 3:\n",
        "\n",
        "Input: grid = [[0,2]]\n",
        "Output: 0\n",
        "Explanation: Since there are already no fresh oranges at minute 0, the answer is just 0."
      ],
      "metadata": {
        "id": "vApD-gO__pLb"
      }
    },
    {
      "cell_type": "code",
      "source": [
        "from collections import deque\n",
        "class Solution:\n",
        "    def isValid(self, grid: List[List[int]], r: int,c:int ) -> bool:\n",
        "      if (r < 0 or r >= len(grid)) or (c<0 or c>=len(grid[0])) or (grid[r][c]!=1):\n",
        "        return False\n",
        "      return True\n",
        "    def orangesRotting(self, grid: List[List[int]]) -> int:\n",
        "        queue = deque()\n",
        "        rows, cols = len(grid), len(grid[0])\n",
        "        freshCount = 0\n",
        "        for row in range(rows):\n",
        "            for col in range(cols):\n",
        "                if grid[row][col] == 2:\n",
        "                  queue.append([row, col])\n",
        "                elif grid[row][col] == 1:\n",
        "                  freshCount+=1\n",
        "\n",
        "        print(\"Fresh Count:\", freshCount)\n",
        "        time=0\n",
        "        neighbours = [[0,1], [0,-1], [1,0],[-1,0]]\n",
        "        while queue and freshCount > 0:\n",
        "          print(queue)\n",
        "          for i in range(len(queue)):\n",
        "            row, col = queue.popleft()\n",
        "            for nr, nc in neighbours:\n",
        "              newRow, newCol = row + nr, col + nc\n",
        "              valid = self.isValid(grid, newRow, newCol)\n",
        "              if not valid:\n",
        "                continue\n",
        "              grid[newRow][newCol]=2 # Now rotten\n",
        "              queue.append([newRow,newCol]) # Adding to queue for processing in next iteration\n",
        "              freshCount-=1  # One less fresh orange\n",
        "          time+=1     # One time unit passed\n",
        "\n",
        "        return time if freshCount==0 else -1"
      ],
      "metadata": {
        "id": "7kaFOAl9_pae"
      },
      "execution_count": null,
      "outputs": []
    },
    {
      "cell_type": "code",
      "source": [
        "grid = [[2,1,1],[1,1,0],[0,1,1]]\n",
        "sol = Solution()\n",
        "sol.orangesRotting(grid)"
      ],
      "metadata": {
        "colab": {
          "base_uri": "https://localhost:8080/"
        },
        "id": "WLJdWfXl_wPE",
        "outputId": "76d294ce-3f45-4553-fa4a-f38023b2de76"
      },
      "execution_count": null,
      "outputs": [
        {
          "output_type": "stream",
          "name": "stdout",
          "text": [
            "Fresh Count: 6\n",
            "deque([[0, 0]])\n",
            "deque([[0, 1], [1, 0]])\n",
            "deque([[0, 2], [1, 1]])\n",
            "deque([[2, 1]])\n"
          ]
        },
        {
          "output_type": "execute_result",
          "data": {
            "text/plain": [
              "4"
            ]
          },
          "metadata": {},
          "execution_count": 253
        }
      ]
    },
    {
      "cell_type": "code",
      "source": [],
      "metadata": {
        "id": "OVNEOqiLAZtl"
      },
      "execution_count": null,
      "outputs": []
    },
    {
      "cell_type": "markdown",
      "source": [
        "# 286. Walls and Gates\n",
        "Medium\n",
        "You are given an m x n grid rooms initialized with these three possible values.\n",
        "\n",
        "-1 A wall or an obstacle.\n",
        "0 A gate.\n",
        "INF Infinity means an empty room. We use the value 231 - 1 = 2147483647 to represent INF as you may assume that the distance to a gate is less than 2147483647.\n",
        "Fill each empty room with the distance to its nearest gate. If it is impossible to reach a gate, it should be filled with INF.\n",
        "\n",
        "\n",
        "\n",
        "Example 1:\n",
        "\n",
        "\n",
        "Input: rooms = [[2147483647,-1,0,2147483647],[2147483647,2147483647,2147483647,-1],[2147483647,-1,2147483647,-1],[0,-1,2147483647,2147483647]]\n",
        "Output: [[3,-1,0,1],[2,2,1,-1],[1,-1,2,-1],[0,-1,3,4]]\n",
        "Example 2:\n",
        "\n",
        "Input: rooms = [[-1]]\n",
        "Output: [[-1]]"
      ],
      "metadata": {
        "id": "sqTbr7QUXv4K"
      }
    },
    {
      "cell_type": "code",
      "source": [
        "from collections import deque\n",
        "class Solution:\n",
        "    def wallsAndGates(self, rooms: List[List[int]]) -> None:\n",
        "        \"\"\"\n",
        "        Do not return anything, modify rooms in-place instead.\n",
        "        \"\"\"\n",
        "\n",
        "        rows, cols = len(rooms), len(rooms[0])\n",
        "        visits = set()\n",
        "        queue = deque()\n",
        "\n",
        "        def isValid(rooms, visits, r, c):\n",
        "          if (r<0 or r>=rows) or (c<0 or c>=cols) or (r,c) in visits or rooms[r][c] == -1:\n",
        "            return False\n",
        "          return True\n",
        "\n",
        "        # Init the que and visits\n",
        "        for row in range(rows):\n",
        "          for col in range(cols):\n",
        "            if rooms[row][col]==0:\n",
        "              visits.add((row,col))\n",
        "              queue.append([row,col])\n",
        "\n",
        "        dist=0\n",
        "        neighbours = [[0,1], [0,-1], [1,0], [-1,0]]\n",
        "        while queue:\n",
        "            for i in range(len(queue)):\n",
        "              row, col = queue.popleft()\n",
        "              rooms[row][col] = dist\n",
        "              for nr, nc in neighbours:\n",
        "                newRow, newCol = row+nr, col+nc\n",
        "                valid = isValid(rooms, visits, newRow, newCol)\n",
        "                if not valid:\n",
        "                  continue\n",
        "                visits.add((newRow,newCol))\n",
        "                queue.append([newRow, newCol])\n",
        "\n",
        "            dist+=1"
      ],
      "metadata": {
        "id": "PgLlWQPiXybq"
      },
      "execution_count": null,
      "outputs": []
    },
    {
      "cell_type": "code",
      "source": [],
      "metadata": {
        "id": "SoUQG1cidWuQ"
      },
      "execution_count": null,
      "outputs": []
    },
    {
      "cell_type": "code",
      "source": [
        "rooms = [[2147483647,-1,0,2147483647],[2147483647,2147483647,2147483647,-1],[2147483647,-1,2147483647,-1],[0,-1,2147483647,2147483647]]\n",
        "sol = Solution()\n",
        "sol.wallsAndGates(rooms)\n",
        "print(rooms)"
      ],
      "metadata": {
        "colab": {
          "base_uri": "https://localhost:8080/"
        },
        "id": "xMUhMxLoX2ov",
        "outputId": "19c6f22b-3914-4e0e-f58f-5279703126d8"
      },
      "execution_count": null,
      "outputs": [
        {
          "output_type": "stream",
          "name": "stdout",
          "text": [
            "[[3, -1, 0, 1], [2, 2, 1, -1], [1, -1, 2, -1], [0, -1, 3, 4]]\n"
          ]
        }
      ]
    },
    {
      "cell_type": "code",
      "source": [],
      "metadata": {
        "id": "7V1fLBnDYBJS"
      },
      "execution_count": null,
      "outputs": []
    },
    {
      "cell_type": "markdown",
      "source": [
        "## 958. Check Completeness of a Binary Tree\n",
        "Medium\n",
        "Given the root of a binary tree, determine if it is a complete binary tree.\n",
        "\n",
        "In a complete binary tree, every level, except possibly the last, is completely filled, and all nodes in the last level are as far left as possible. It can have between 1 and 2h nodes inclusive at the last level h.\n",
        "\n",
        "\n",
        "\n",
        "Example 1:\n",
        "\n",
        "\n",
        "Input: root = [1,2,3,4,5,6]\n",
        "Output: true\n",
        "Explanation: Every level before the last is full (ie. levels with node-values {1} and {2, 3}), and all nodes in the last level ({4, 5, 6}) are as far left as possible.\n",
        "Example 2:\n",
        "\n",
        "\n",
        "Input: root = [1,2,3,4,5,null,7]\n",
        "Output: false\n",
        "Explanation: The node with value 7 isn't as far left as possible."
      ],
      "metadata": {
        "id": "-jyF-qC23wDY"
      }
    },
    {
      "cell_type": "code",
      "source": [
        "from collections import deque\n",
        "# Definition for a binary tree node.\n",
        "# class TreeNode:\n",
        "#     def __init__(self, val=0, left=None, right=None):\n",
        "#         self.val = val\n",
        "#         self.left = left\n",
        "#         self.right = right\n",
        "class Solution:\n",
        "    def isCompleteTree(self, root) -> bool:\n",
        "      queue = deque([root])\n",
        "      print(queue.popleft().left)\n",
        "\n",
        "      while queue:\n",
        "        node = queue.popleft()\n",
        "        if node:\n",
        "          queue.append(node.left)\n",
        "          queue.append(node.right)\n",
        "        else:\n",
        "          while queue:\n",
        "            # We've hit a None node; all following nodes must also be None\n",
        "            if queue.popleft():\n",
        "              return False  # Found a node after a None → not complete\n",
        "        return True"
      ],
      "metadata": {
        "id": "ERt--WpD3yHK"
      },
      "execution_count": null,
      "outputs": []
    },
    {
      "cell_type": "markdown",
      "source": [],
      "metadata": {
        "id": "b52fsfnAQSC0"
      }
    },
    {
      "cell_type": "code",
      "source": [
        "class TreeNode:\n",
        "    def __init__(self, val=0, left=None, right=None):\n",
        "        self.val = val\n",
        "        self.left = left\n",
        "        self.right = right\n",
        "\n",
        "root = TreeNode(1, TreeNode(2, TreeNode(4), TreeNode(5)), TreeNode(3, TreeNode(6), None))\n",
        "# root = [1,2,3,4,5,6]\n",
        "sol = Solution()\n",
        "print(sol.isCompleteTree(root))"
      ],
      "metadata": {
        "id": "Qh3LdfDt383X",
        "outputId": "d52f2e6f-c5ac-48b8-8a5f-abe390325124",
        "colab": {
          "base_uri": "https://localhost:8080/"
        }
      },
      "execution_count": null,
      "outputs": [
        {
          "output_type": "stream",
          "name": "stdout",
          "text": [
            "<__main__.TreeNode object at 0x7ff6c1826d50>\n",
            "None\n"
          ]
        }
      ]
    },
    {
      "cell_type": "code",
      "source": [],
      "metadata": {
        "id": "C6QIjK-a6YFC"
      },
      "execution_count": null,
      "outputs": []
    },
    {
      "cell_type": "markdown",
      "source": [
        "252. Meeting Rooms\n",
        "Solved\n",
        "Easy\n",
        "Topics\n",
        "Companies\n",
        "Given an array of meeting time intervals where intervals[i] = [starti, endi], determine if a person could attend all meetings.\n",
        "\n",
        "\n",
        "\n",
        "Example 1:\n",
        "\n",
        "Input: intervals = [[0,30],[5,10],[15,20]]\n",
        "Output: false\n",
        "Example 2:\n",
        "\n",
        "Input: intervals = [[7,10],[2,4]]\n",
        "Output: true\n"
      ],
      "metadata": {
        "id": "DEziDw-kQSvd"
      }
    },
    {
      "cell_type": "code",
      "source": [
        "# class Solution:\n",
        "#     def canAttendMeetings(self, intervals: List[List[int]]) -> bool:\n",
        "#         intervals.sort(key = lambda x : x[1])\n",
        "#         print(intervals)\n",
        "#         endsAt = -1\n",
        "#         for starts, ends in intervals:\n",
        "#             if starts < endsAt:\n",
        "#                 return False\n",
        "#             endsAt = ends\n",
        "#         return True"
      ],
      "metadata": {
        "id": "G9athHe1QS_K"
      },
      "execution_count": null,
      "outputs": []
    },
    {
      "cell_type": "code",
      "source": [],
      "metadata": {
        "id": "X8sfSnCWQUOm"
      },
      "execution_count": null,
      "outputs": []
    },
    {
      "cell_type": "markdown",
      "source": [
        "239. Sliding Window Maximum\n",
        "Hard\n",
        "Topics\n",
        "Companies\n",
        "Hint\n",
        "You are given an array of integers nums, there is a sliding window of size k which is moving from the very left of the array to the very right. You can only see the k numbers in the window. Each time the sliding window moves right by one position.\n",
        "\n",
        "Return the max sliding window.\n",
        "\n",
        "\n",
        "\n",
        "Example 1:\n",
        "\n",
        "Input: nums = [1,3,-1,-3,5,3,6,7], k = 3\n",
        "Output: [3,3,5,5,6,7]\n",
        "Explanation:\n",
        "Window position                Max\n",
        "---------------               -----\n",
        "[1  3  -1] -3  5  3  6  7       3\n",
        " 1 [3  -1  -3] 5  3  6  7       3\n",
        " 1  3 [-1  -3  5] 3  6  7       5\n",
        " 1  3  -1 [-3  5  3] 6  7       5\n",
        " 1  3  -1  -3 [5  3  6] 7       6\n",
        " 1  3  -1  -3  5 [3  6  7]      7\n",
        "Example 2:\n",
        "\n",
        "Input: nums = [1], k = 1\n",
        "Output: [1]\n"
      ],
      "metadata": {
        "id": "44eUAUP7QmSn"
      }
    },
    {
      "cell_type": "code",
      "source": [],
      "metadata": {
        "id": "192Gt1zoQmq0"
      },
      "execution_count": null,
      "outputs": []
    },
    {
      "cell_type": "markdown",
      "source": [
        "\n",
        "239. Sliding Window Maximum\n",
        "Hard\n",
        "Topics\n",
        "Companies\n",
        "Hint\n",
        "You are given an array of integers nums, there is a sliding window of size k which is moving from the very left of the array to the very right. You can only see the k numbers in the window. Each time the sliding window moves right by one position.\n",
        "\n",
        "Return the max sliding window.\n",
        "\n",
        "\n",
        "\n",
        "Example 1:\n",
        "\n",
        "Input: nums = [1,3,-1,-3,5,3,6,7], k = 3\n",
        "Output: [3,3,5,5,6,7]\n",
        "Explanation:\n",
        "Window position                Max\n",
        "---------------               -----\n",
        "[1  3  -1] -3  5  3  6  7       3\n",
        " 1 [3  -1  -3] 5  3  6  7       3\n",
        " 1  3 [-1  -3  5] 3  6  7       5\n",
        " 1  3  -1 [-3  5  3] 6  7       5\n",
        " 1  3  -1  -3 [5  3  6] 7       6\n",
        " 1  3  -1  -3  5 [3  6  7]      7\n",
        "Example 2:\n",
        "\n",
        "Input: nums = [1], k = 1\n",
        "Output: [1]"
      ],
      "metadata": {
        "id": "E3GNW0NkT10s"
      }
    },
    {
      "cell_type": "code",
      "source": [
        "from collections import deque\n",
        "\n",
        "def maxSlidingWindow(nums, k):\n",
        "  q = deque()\n",
        "  output = []\n",
        "  l = r = 0\n",
        "\n",
        "  while r < len(nums):\n",
        "\n",
        "    # Pop smaller values from q and add cur\n",
        "    while q and nums[q[-1]] < nums[r]:\n",
        "      q.pop()\n",
        "    q.append(r)\n",
        "\n",
        "    # Remove left from window\n",
        "    if l > q[0]:\n",
        "      q.popleft()\n",
        "\n",
        "    if (r+1) >= k:\n",
        "      output.append(nums[q[0]])\n",
        "      l+=1\n",
        "    r+=1\n",
        "  return output\n"
      ],
      "metadata": {
        "id": "_z8QgV4PT2Sb"
      },
      "execution_count": null,
      "outputs": []
    },
    {
      "cell_type": "code",
      "source": [
        "nums = [1,3,-1,-3,5,3,6,7]\n",
        "k = 3\n",
        "print(maxSlidingWindow(nums,k))"
      ],
      "metadata": {
        "id": "6BVfD5r4T88T",
        "outputId": "b31b0ca4-74c6-4f23-9061-69891d3518a7",
        "colab": {
          "base_uri": "https://localhost:8080/"
        }
      },
      "execution_count": null,
      "outputs": [
        {
          "output_type": "stream",
          "name": "stdout",
          "text": [
            "[3, 3, 5, 5, 6, 7]\n"
          ]
        }
      ]
    },
    {
      "cell_type": "code",
      "source": [],
      "metadata": {
        "id": "VF0TTAXoUC2U"
      },
      "execution_count": null,
      "outputs": []
    },
    {
      "cell_type": "markdown",
      "source": [
        "## 210. Course Schedule II\n",
        "\n",
        "There are a total of numCourses courses you have to take, labeled from 0 to numCourses - 1. You are given an array prerequisites where prerequisites[i] = [ai, bi] indicates that you must take course bi first if you want to take course ai.\n",
        "\n",
        "For example, the pair [0, 1], indicates that to take course 0 you have to first take course 1.\n",
        "Return the ordering of courses you should take to finish all courses. If there are many valid answers, return any of them. If it is impossible to finish all courses, return an empty array.\n",
        "\n",
        "\n",
        "\n",
        "Example 1:\n",
        "\n",
        "Input: numCourses = 2, prerequisites = [[1,0]]\n",
        "Output: [0,1]\n",
        "Explanation: There are a total of 2 courses to take. To take course 1 you should have finished course 0. So the correct course order is [0,1].\n",
        "Example 2:\n",
        "\n",
        "Input: numCourses = 4, prerequisites = [[1,0],[2,0],[3,1],[3,2]]\n",
        "Output: [0,2,1,3]\n",
        "Explanation: There are a total of 4 courses to take. To take course 3 you should have finished both courses 1 and 2. Both courses 1 and 2 should be taken after you finished course 0.\n",
        "So one correct course order is [0,1,2,3]. Another correct ordering is [0,2,1,3].\n",
        "Example 3:\n",
        "\n",
        "Input: numCourses = 1, prerequisites = []\n",
        "Output: [0]"
      ],
      "metadata": {
        "id": "E6u7xXjWuSVh"
      }
    },
    {
      "cell_type": "code",
      "source": [
        "from typing import List\n",
        "from collections import defaultdict, deque\n",
        "class Solution:\n",
        "    def find_order(self,numCourses, prerequisites):\n",
        "      graph = defaultdict(list)\n",
        "      indegree = [0] * numCourses\n",
        "\n",
        "      # Step 1: Build the graph and compute in-degrees\n",
        "      for dest, src in prerequisites:\n",
        "          graph[src].append(dest)      # Edge: src → dest\n",
        "          indegree[dest] += 1          # Increase indegree of destination\n",
        "\n",
        "      # Step 2: Initialize queue with nodes having 0 indegree\n",
        "      queue = deque([i for i in range(numCourses) if indegree[i] == 0])\n",
        "      topo_order = []\n",
        "\n",
        "      # Step 3: Process nodes in BFS order\n",
        "      while queue:\n",
        "          course = queue.popleft()\n",
        "          topo_order.append(course)\n",
        "\n",
        "          # Step 4: Decrease indegree of neighbors\n",
        "          for neighbor in graph[course]:\n",
        "              indegree[neighbor] -= 1\n",
        "              if indegree[neighbor] == 0:\n",
        "                  queue.append(neighbor)\n",
        "\n",
        "      # Step 5: Check for cycle\n",
        "      return topo_order if len(topo_order) == numCourses else []\n"
      ],
      "metadata": {
        "id": "5VVwsLiluT8U"
      },
      "execution_count": 29,
      "outputs": []
    },
    {
      "cell_type": "code",
      "source": [
        "numCourses = 2\n",
        "prerequisites = [[1,0]]\n",
        "print(Solution().find_order(numCourses, prerequisites))"
      ],
      "metadata": {
        "id": "A-kFTkGguV6i",
        "outputId": "5cd023b3-e580-4006-b633-a90d2ce06847",
        "colab": {
          "base_uri": "https://localhost:8080/"
        }
      },
      "execution_count": 30,
      "outputs": [
        {
          "output_type": "stream",
          "name": "stdout",
          "text": [
            "[0, 1]\n"
          ]
        }
      ]
    },
    {
      "cell_type": "code",
      "source": [],
      "metadata": {
        "id": "k3-cn1vbub2c"
      },
      "execution_count": 24,
      "outputs": []
    },
    {
      "cell_type": "markdown",
      "source": [
        "# 133. Clone Graph\n",
        "\n",
        "Given a reference of a node in a connected undirected graph.\n",
        "\n",
        "Return a deep copy (clone) of the graph.\n",
        "\n",
        "Each node in the graph contains a value (int) and a list (List[Node]) of its neighbors.\n",
        "\n",
        "class Node {\n",
        "    public int val;\n",
        "    public List<Node> neighbors;\n",
        "}\n",
        "\n",
        "\n",
        "Test case format:\n",
        "\n",
        "For simplicity, each node's value is the same as the node's index (1-indexed). For example, the first node with val == 1, the second node with val == 2, and so on. The graph is represented in the test case using an adjacency list.\n",
        "\n",
        "An adjacency list is a collection of unordered lists used to represent a finite graph. Each list describes the set of neighbors of a node in the graph.\n",
        "\n",
        "The given node will always be the first node with val = 1. You must return the copy of the given node as a reference to the cloned graph."
      ],
      "metadata": {
        "id": "WCc2sg49glwB"
      }
    },
    {
      "cell_type": "code",
      "source": [
        "\"\"\"\n",
        "# Definition for a Node.\n",
        "class Node:\n",
        "    def __init__(self, val = 0, neighbors = None):\n",
        "        self.val = val\n",
        "        self.neighbors = neighbors if neighbors is not None else []\n",
        "\"\"\"\n",
        "\n",
        "from typing import Optional\n",
        "class Solution:\n",
        "    def cloneGraph(self, node: Optional['Node']) -> Optional['Node']:\n",
        "        old_to_new = {}\n",
        "\n",
        "        def dfs(node):z\n",
        "\n",
        "            if node in old_to_new:\n",
        "                return old_to_new[node]\n",
        "\n",
        "            copy = Node(node.val)\n",
        "            old_to_new[node] = copy\n",
        "\n",
        "            for neighbor in node.neighbors:\n",
        "                copy.neighbors.append(dfs(neighbor))\n",
        "            return copy\n",
        "\n",
        "        return dfs(node) if node else None"
      ],
      "metadata": {
        "id": "c43fC7b_gniz"
      },
      "execution_count": null,
      "outputs": []
    }
  ]
}
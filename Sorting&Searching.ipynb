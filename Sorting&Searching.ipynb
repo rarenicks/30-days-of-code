{
  "nbformat": 4,
  "nbformat_minor": 0,
  "metadata": {
    "colab": {
      "provenance": [],
      "authorship_tag": "ABX9TyNLor/QCjoI1uEkotLbogDx",
      "include_colab_link": true
    },
    "kernelspec": {
      "name": "python3",
      "display_name": "Python 3"
    },
    "language_info": {
      "name": "python"
    }
  },
  "cells": [
    {
      "cell_type": "markdown",
      "metadata": {
        "id": "view-in-github",
        "colab_type": "text"
      },
      "source": [
        "<a href=\"https://colab.research.google.com/github/rarenicks/30-days-of-code/blob/main/Sorting%26Searching.ipynb\" target=\"_parent\"><img src=\"https://colab.research.google.com/assets/colab-badge.svg\" alt=\"Open In Colab\"/></a>"
      ]
    },
    {
      "cell_type": "code",
      "execution_count": null,
      "metadata": {
        "id": "RInUbVn38SCt"
      },
      "outputs": [],
      "source": []
    },
    {
      "cell_type": "markdown",
      "source": [
        "## Quick Sort\n",
        "\n",
        "Average and Best case time complexity : O(nlogn)\n",
        "Worst case : O(n2)"
      ],
      "metadata": {
        "id": "94e2A4qv8Wap"
      }
    },
    {
      "cell_type": "code",
      "source": [
        "def quick(nums, left, right):\n",
        "  if left < right:\n",
        "    pos = partition(nums,left,right)\n",
        "    quick(nums,left, pos-1)\n",
        "    quick(nums, pos-1, right)\n",
        "\n",
        "def partition(nums, l,r):\n",
        "  i=l\n",
        "  j=r-1\n",
        "  pivot=nums[r]\n",
        "\n",
        "  while i<j:\n",
        "\n",
        "    while i<r and nums[i] < pivot:\n",
        "      i=+1\n",
        "    while j<l and nums[j] > pivot:\n",
        "      j-=1\n",
        "\n",
        "    if i<j:\n",
        "      swap(nums[i], nums[j])\n",
        "\n",
        "    if nums[i] > pivot:\n",
        "      swap(nums[i], nums[r])\n",
        "\n",
        "    return i  #new pivot"
      ],
      "metadata": {
        "id": "sVpZSJDR8Y9L"
      },
      "execution_count": 3,
      "outputs": []
    },
    {
      "cell_type": "code",
      "source": [],
      "metadata": {
        "id": "m148dGRM8aIG"
      },
      "execution_count": null,
      "outputs": []
    },
    {
      "cell_type": "markdown",
      "source": [
        "## Merge Sort\n",
        "\n",
        "Worst, Average and Best case time complexity : O(nlogn)\n"
      ],
      "metadata": {
        "id": "qM38ufLp8psU"
      }
    },
    {
      "cell_type": "code",
      "source": [
        "def merge_sort(nums):\n",
        "  if len(nums) > 1:\n",
        "    left_sub = nums[:len(nums)//2]\n",
        "    right_sub = nums[len(nums)//2:]\n",
        "\n",
        "    merge_sort(left_sub)\n",
        "    merge_sort(right_sub)\n",
        "\n",
        "    i=0 # left subarr\n",
        "    j=0 # right subarr\n",
        "    k=0 # merged subarr\n",
        "\n",
        "    while i < len(left_sub) and j < len(right_sub):\n",
        "\n",
        "      # Compare left and right sub array and merge them\n",
        "      if left_sub[i] < right_sub[j]:\n",
        "        nums[k] = left_sub[i]\n",
        "        i+=1\n",
        "      else:\n",
        "        nums[k] = right_sub[j]\n",
        "        j+=1\n",
        "      k+=1\n",
        "\n",
        "      # After merging, if vals remain in left sub, add them to last in main arr\n",
        "      if i < len(left_sub):\n",
        "        nums[k] = left_sub[i]\n",
        "        i+=1\n",
        "        k+=1\n",
        "\n",
        "      if j < len(right_sub):\n",
        "        nums[k]= right_sub[j]\n",
        "        j+=1\n",
        "        k+=1\n",
        "\n",
        "\n",
        "arr = [21,24,12,1,4,2,1,122,45]\n",
        "merge_sort(arr)\n",
        "print(arr)"
      ],
      "metadata": {
        "colab": {
          "base_uri": "https://localhost:8080/"
        },
        "id": "IAf92Y2a8tkI",
        "outputId": "56ba6b0d-43eb-4fbe-aa7d-8216a2d4941f"
      },
      "execution_count": 7,
      "outputs": [
        {
          "output_type": "stream",
          "name": "stdout",
          "text": [
            "[1, 1, 2, 21, 12, 45, 1, 4, 45]\n"
          ]
        }
      ]
    },
    {
      "cell_type": "code",
      "source": [],
      "metadata": {
        "id": "1OgagKOP-Pkz"
      },
      "execution_count": null,
      "outputs": []
    }
  ]
}
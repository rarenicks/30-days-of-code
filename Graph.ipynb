{
  "nbformat": 4,
  "nbformat_minor": 0,
  "metadata": {
    "colab": {
      "provenance": [],
      "authorship_tag": "ABX9TyNlhRpF2hSLsk+R3Wxz1WTT",
      "include_colab_link": true
    },
    "kernelspec": {
      "name": "python3",
      "display_name": "Python 3"
    },
    "language_info": {
      "name": "python"
    }
  },
  "cells": [
    {
      "cell_type": "markdown",
      "metadata": {
        "id": "view-in-github",
        "colab_type": "text"
      },
      "source": [
        "<a href=\"https://colab.research.google.com/github/rarenicks/30-days-of-code/blob/main/Graph.ipynb\" target=\"_parent\"><img src=\"https://colab.research.google.com/assets/colab-badge.svg\" alt=\"Open In Colab\"/></a>"
      ]
    },
    {
      "cell_type": "code",
      "execution_count": null,
      "metadata": {
        "id": "n1SQxgSXMb0n"
      },
      "outputs": [],
      "source": []
    },
    {
      "cell_type": "markdown",
      "source": [
        "# 📘 Introduction to Graph Data Structures\n",
        "\n",
        "A **graph** is a powerful and flexible data structure used to model **relationships** between objects. It is composed of:\n",
        "\n",
        "- **Vertices (or Nodes)**: The fundamental units that represent entities (e.g., people, cities, web pages).\n",
        "- **Edges**: Connections between pairs of vertices that represent relationships (e.g., friendships, roads, hyperlinks).\n",
        "\n",
        "## 🔗 Types of Graphs\n",
        "\n",
        "- **Directed Graph (Digraph)**: Edges have a direction (A ➝ B).\n",
        "- **Undirected Graph**: Edges do not have direction (A — B).\n",
        "- **Weighted Graph**: Edges carry weights (e.g., distance, cost).\n",
        "- **Unweighted Graph**: All edges are considered equal.\n",
        "- **Cyclic vs. Acyclic**: Graphs with or without cycles.\n",
        "- **Connected Graph**: There is a path between every pair of nodes.\n",
        "\n",
        "## 🧠 Real-World Applications\n",
        "\n",
        "- **Social Networks**: Modeling users and their connections.\n",
        "- **Navigation Systems**: Finding the shortest path between locations.\n",
        "- **Recommendation Engines**: Suggesting products based on user-item\n",
        "relationships.\n",
        "- **Web Crawling**: Representing links between websites.\n",
        "- **Biological Networks**: Modeling protein interactions or gene regulation.\n",
        "\n",
        "## 🧰 Graph Representations\n",
        "\n",
        "1. **Adjacency List** – Efficient for sparse graphs.\n",
        "2. **Adjacency Matrix** – Efficient for dense graphs.\n",
        "3. **Edge List** – Simple and intuitive for small graphs."
      ],
      "metadata": {
        "id": "BuryhHvTNFE9"
      }
    },
    {
      "cell_type": "code",
      "source": [
        "# # A way to represent graph.\n",
        "# class node:\n",
        "#   def __init(self, val):\n",
        "#     self.data = val\n",
        "#     self.edges = []\n",
        "\n",
        "# To represent vertex\n",
        "\n",
        "# To Represent edge\n",
        "# - Edge List\n",
        "# - Adjancecy list\n",
        "# - Adjacency matrix\n"
      ],
      "metadata": {
        "id": "ngd2eUTGNFXq"
      },
      "execution_count": null,
      "outputs": []
    },
    {
      "cell_type": "markdown",
      "source": [
        "## 📍 Graph Representation Basics\n",
        "\n",
        "To work with graphs in code, we need ways to represent both **vertices** and **edges** efficiently.\n",
        "\n",
        "### 🧊 To Represent Vertices\n",
        "Vertices (also called nodes) can be represented in various ways depending on the implementation:\n",
        "- As elements in a list or set: `[\"A\", \"B\", \"C\"]`\n",
        "- As keys in a dictionary: `{ \"A\": [...], \"B\": [...] }`\n",
        "- As objects in a class-based graph representation\n",
        "\n",
        "---\n",
        "\n",
        "### 🔗 To Represent Edges\n",
        "\n",
        "Edges define the relationships or connections between vertices. There are three common ways to represent edges in a graph:\n",
        "\n",
        "#### 1. 📝 Edge List\n",
        "A list of all edges as pairs (or triplets if weighted):\n",
        "```python\n",
        "edges = [(\"A\", \"B\"), (\"A\", \"C\"), (\"B\", \"C\")]\n",
        "\n",
        "- For weighted graphs: [(\"A\", \"B\", 5), (\"A\", \"C\", 3)]\n",
        "\n",
        "2. 📋 Adjacency List\n",
        "A dictionary (or array) mapping each vertex to a list of its adjacent vertices:\n",
        "adj_list = {\n",
        "    \"A\": [\"B\", \"C\"],\n",
        "    \"B\": [\"C\"],\n",
        "    \"C\": []\n",
        "}\n",
        "\n",
        "- For weighted graphs: {\"A\": [(\"B\", 5), (\"C\", 3)], ...}\n",
        "3. 🧮 Adjacency Matrix\n",
        "A 2D array where matrix[i][j] = 1 (or weight) if there is an edge from vertex i to vertex j:\n",
        "\n",
        "- For vertices A, B, C\n",
        "\n",
        "matrix = [\n",
        "    [0, 1, 1],  # A -> B, A -> C\n",
        "    [0, 0, 1],  # B -> C\n",
        "    [0, 0, 0]   # C -> no one\n",
        "]\n",
        "Each representation has trade-offs in space and time complexity. You'll choose based on the graph's density, operations required, and memory constraints.\n"
      ],
      "metadata": {
        "id": "46yf6KLKO08W"
      }
    },
    {
      "cell_type": "code",
      "source": [
        "# Graph -> DFS Algo\n",
        "\n",
        "def dfs_iter(graph_matrix, start_vertex):\n",
        "  visited = [False] * len(graph_matrix)\n",
        "  nodes = [start_vertex] # Stack\n",
        "  visited[start_vertex] = True\n",
        "\n",
        "  while len(nodes) > 0:\n",
        "    curNode = nodes.pop()\n",
        "    print(curNode, end=\" \")\n",
        "\n",
        "    for neighborNode in range(len(graph_matrix)):\n",
        "      if graph_matrix[curNode][neighborNode] == 1 and not visited[neighborNode]:\n",
        "        visited[neighborNode] = True\n",
        "        nodes.append(neighborNode)"
      ],
      "metadata": {
        "id": "e7s2ooUjO1KB"
      },
      "execution_count": 51,
      "outputs": []
    },
    {
      "cell_type": "code",
      "source": [
        "def dfs(graph_matrix, vertex, visited=None):\n",
        "\n",
        "  if visited is None:\n",
        "    visited = [False] * len(graph_matrix)\n",
        "\n",
        "  visited[vertex] = True\n",
        "  print(vertex, end = \" \")\n",
        "\n",
        "  for neighbor in range(len(graph_matrix)):\n",
        "    if graph_matrix[vertex][neighbor] == 1 and not visited[neighbor]:\n",
        "      dfs(graph_matrix, neighbor, visited)"
      ],
      "metadata": {
        "id": "DYvjqmVMrVnS"
      },
      "execution_count": 52,
      "outputs": []
    },
    {
      "cell_type": "code",
      "source": [
        "\n",
        "# Graph 1: Simple Connected Graph (represented by adjacency matrix)\n",
        "#   0--1\n",
        "#   |  |\n",
        "#   2--3\n",
        "#   |\n",
        "#   4\n",
        "# Matrix representation:\n",
        "#   0 1 2 3 4\n",
        "# 0[0,1,1,0,0]\n",
        "# 1[1,0,0,1,0]\n",
        "# 2[1,0,0,1,1]\n",
        "# 3[0,1,1,0,0]\n",
        "# 4[0,0,1,0,0]\n",
        "graph_matrix1 = [\n",
        "    [0, 1, 1, 0, 0],  # Node 0\n",
        "    [1, 0, 0, 1, 0],  # Node 1\n",
        "    [1, 0, 0, 1, 1],  # Node 2\n",
        "    [0, 1, 1, 0, 0],  # Node 3\n",
        "]\n",
        "\n",
        "print(dfs(graph_matrix1, 1))\n",
        "\n",
        "graph_matrix2 = [\n",
        "    [0, 1, 1],  # Node 0\n",
        "    [1, 0, 1],  # Node 1\n",
        "    [1, 1, 0]   # Node 2\n",
        "]\n",
        "\n",
        "print(dfs(graph_matrix2, 1))\n",
        "print(dfs_iter(graph_matrix2, 1))\n",
        "print(\"----\")\n",
        "\n",
        "graph = [\n",
        "    [0, 1, 1, 0],\n",
        "    [1, 0, 0, 1],\n",
        "    [1, 0, 0, 1],\n",
        "    [0, 1, 1, 0]\n",
        "]\n",
        "\n",
        "dfs(graph, 0)\n",
        "print(\"iter\")\n",
        "dfs_iter(graph, 0)"
      ],
      "metadata": {
        "colab": {
          "base_uri": "https://localhost:8080/"
        },
        "id": "_O7kgQ2HlyKL",
        "outputId": "c9b696f3-ecfc-4c6e-aa12-b0e868aa42dc"
      },
      "execution_count": 56,
      "outputs": [
        {
          "output_type": "stream",
          "name": "stdout",
          "text": [
            "1 0 2 3 None\n",
            "1 0 2 None\n",
            "1 2 0 None\n",
            "----\n",
            "0 1 3 2 iter\n",
            "0 2 3 1 "
          ]
        }
      ]
    },
    {
      "cell_type": "code",
      "source": [
        "from collections import deque\n",
        "def bfs(adjacencyMatrix, startVertex):\n",
        "  visited = [False] * len(adjacencyMatrix)\n",
        "\n",
        "  queue = deque([startVertex])\n",
        "  result = []\n",
        "\n",
        "  visited[startVertex] = True\n",
        "\n",
        "  while queue:\n",
        "    currentNode = queue.popleft()\n",
        "    result.append(currentNode)\n",
        "\n",
        "    for neighbor in range(len(adjacencyMatrix)):\n",
        "      if adjacencyMatrix[currentNode][neighbor] == 1 and not visited[neighbor]:\n",
        "        visited[neighbor] = True\n",
        "        queue.append(neighbor)\n",
        "\n",
        "  return result"
      ],
      "metadata": {
        "id": "kLJja1MZkI09"
      },
      "execution_count": 61,
      "outputs": []
    },
    {
      "cell_type": "code",
      "source": [
        "graph = [\n",
        "    [0, 1, 1, 0],\n",
        "    [1, 0, 0, 1],\n",
        "    [1, 0, 0, 1],\n",
        "    [0, 1, 1, 0]\n",
        "]\n",
        "\n",
        "print(bfs(graph,0))"
      ],
      "metadata": {
        "colab": {
          "base_uri": "https://localhost:8080/"
        },
        "id": "EmRbgeh7vURG",
        "outputId": "27b2e51c-b47f-4f28-8b55-e5f330eaadd7"
      },
      "execution_count": 62,
      "outputs": [
        {
          "output_type": "stream",
          "name": "stdout",
          "text": [
            "[0, 1, 2, 3]\n"
          ]
        }
      ]
    },
    {
      "cell_type": "code",
      "source": [],
      "metadata": {
        "id": "8JL27UeyvbWo"
      },
      "execution_count": null,
      "outputs": []
    },
    {
      "cell_type": "markdown",
      "source": [
        "# ✅ Cycle Detection in Undirected Graph (DFS - Recursive Approach)\n"
      ],
      "metadata": {
        "id": "0EvphRCix67h"
      }
    },
    {
      "cell_type": "code",
      "source": [
        "def has_cycle_undirected(adjacencyMatrix):\n",
        "\n",
        "  visited = [False] * len(adjacencyMatrix)\n",
        "\n",
        "  def dfs(vertex, parent):\n",
        "    visited[vertex] = True\n",
        "    for neighbor in range(len(adjacencyMatrix)):\n",
        "      if adjacencyMatrix[vertex][neighbor] == 1:\n",
        "        if not visited[neighbor]:\n",
        "          isLoop = dfs(neighbor, vertex) #dfs(v, parent)\n",
        "          if isLoop:\n",
        "            return True\n",
        "        elif neighbor != parent:\n",
        "          return True # neighbor was visited and not a parent, cycle found\n",
        "\n",
        "    return False # No cycle found, return False\n",
        "\n",
        "  for vertex in range(len(adjacencyMatrix)):\n",
        "    if not visited[vertex]:\n",
        "      isLoop = dfs(vertex, -1) # dfs(v, parent)\n",
        "      if isLoop:\n",
        "        return True\n",
        "\n",
        "  return False"
      ],
      "metadata": {
        "id": "vq2XJiE_x8Z1"
      },
      "execution_count": 77,
      "outputs": []
    },
    {
      "cell_type": "code",
      "source": [
        "# Graph with a cycle: 0-1-3-2-0\n",
        "graph_with_cycle = [\n",
        "    [0, 1, 1, 0],\n",
        "    [1, 0, 0, 1],\n",
        "    [1, 0, 0, 1],\n",
        "    [0, 1, 1, 0]\n",
        "]\n",
        "\n",
        "# Graph without a cycle: 0-1-2-3 (tree)\n",
        "graph_no_cycle = [\n",
        "    [0, 1, 0, 0],\n",
        "    [1, 0, 1, 0],\n",
        "    [0, 1, 0, 1],\n",
        "    [0, 0, 1, 0]\n",
        "]\n",
        "\n",
        "print(\"Cycle in graph_with_cycle:\", has_cycle_undirected(graph_with_cycle))  # True\n",
        "print(\"Cycle in graph_no_cycle:\", has_cycle_undirected(graph_no_cycle))      # False"
      ],
      "metadata": {
        "colab": {
          "base_uri": "https://localhost:8080/"
        },
        "id": "RxFN9H04zbHm",
        "outputId": "ea542057-3232-4b63-de26-596e518d78a3"
      },
      "execution_count": 78,
      "outputs": [
        {
          "output_type": "stream",
          "name": "stdout",
          "text": [
            "Cycle in graph_with_cycle: True\n",
            "Cycle in graph_no_cycle: False\n"
          ]
        }
      ]
    },
    {
      "cell_type": "code",
      "source": [],
      "metadata": {
        "id": "C1cXt6GCzgbi"
      },
      "execution_count": 74,
      "outputs": []
    },
    {
      "cell_type": "markdown",
      "source": [
        "# ✅ Cycle Detection in Directed Graph (DFS - Recursive Approach)\n"
      ],
      "metadata": {
        "id": "0QFFapfAFhxn"
      }
    },
    {
      "cell_type": "code",
      "source": [
        "def has_cycle_directed(adjacencyMatrix):\n",
        "  n = len(adjacencyMatrix)\n",
        "\n",
        "  visited = rec_stack =  [False] * n\n",
        "\n",
        "  def dfs(vertex):\n",
        "\n",
        "    visited[vertex] = rec_stack[vertex] = True\n",
        "\n",
        "    for neighbor in range(n):\n",
        "      if adjacencyMatrix[vertex][neighbor] == 1:\n",
        "        if not visited[neighbor]:\n",
        "          if dfs(neighbor): # If not visited call DFS\n",
        "            return True\n",
        "        elif rec_stack[neighbor]: # If visited in this same rec stack\n",
        "          return True # Cycle Found\n",
        "\n",
        "    rec_stack[vertex] = False # No cycle found for this vertex, setting False\n",
        "    return False\n",
        "\n",
        "  for current_vertex in range(n):\n",
        "    if not visited[current_vertex]:\n",
        "      if dfs(current_vertex):\n",
        "        return True # Cycle found\n",
        "\n",
        "  return False # No cycle found"
      ],
      "metadata": {
        "id": "S3Vw5nhoFiJ9"
      },
      "execution_count": 80,
      "outputs": []
    },
    {
      "cell_type": "code",
      "source": [
        "# Directed graph with a cycle: 0 → 1 → 2 → 0\n",
        "graph_with_cycle = [\n",
        "    [0, 1, 0],\n",
        "    [0, 0, 1],\n",
        "    [1, 0, 0]\n",
        "]\n",
        "\n",
        "# Directed acyclic graph (DAG): 0 → 1 → 2 → 3\n",
        "graph_no_cycle = [\n",
        "    [0, 1, 0, 0],\n",
        "    [0, 0, 1, 0],\n",
        "    [0, 0, 0, 1],\n",
        "    [0, 0, 0, 0]\n",
        "]\n",
        "\n",
        "print(\"Cycle in directed graph_with_cycle:\", has_cycle_directed(graph_with_cycle))  # True\n",
        "print(\"Cycle in directed graph_no_cycle:\", has_cycle_directed(graph_no_cycle))      # False"
      ],
      "metadata": {
        "colab": {
          "base_uri": "https://localhost:8080/"
        },
        "id": "iimgXsH-IInd",
        "outputId": "f6bb924b-db2d-4371-a5bc-7ea491a19f4e"
      },
      "execution_count": 81,
      "outputs": [
        {
          "output_type": "stream",
          "name": "stdout",
          "text": [
            "Cycle in directed graph_with_cycle: True\n",
            "Cycle in directed graph_no_cycle: False\n"
          ]
        }
      ]
    },
    {
      "cell_type": "code",
      "source": [],
      "metadata": {
        "id": "LdPS4XJCII5B"
      },
      "execution_count": null,
      "outputs": []
    },
    {
      "cell_type": "markdown",
      "source": [
        "# Mininum Moves by the Knight"
      ],
      "metadata": {
        "id": "WVcjtndTJiFZ"
      }
    },
    {
      "cell_type": "code",
      "source": [
        "# def create_chess(n):\n",
        "#   n_chess = []\n",
        "#   for i in range(n):\n",
        "#     one_row = []\n",
        "#     for i in range(n):\n",
        "#       one_row.append(0)\n",
        "\n",
        "#     n_chess.append(one_row)\n",
        "#   return n_chess\n",
        "\n",
        "# print(create_chess(8))"
      ],
      "metadata": {
        "colab": {
          "base_uri": "https://localhost:8080/"
        },
        "id": "yS3fz49OJmuQ",
        "outputId": "7c11b582-a6e8-4c43-ad09-2ee79f96eca3"
      },
      "execution_count": 83,
      "outputs": [
        {
          "output_type": "stream",
          "name": "stdout",
          "text": [
            "[[0, 0, 0, 0, 0, 0, 0, 0], [0, 0, 0, 0, 0, 0, 0, 0], [0, 0, 0, 0, 0, 0, 0, 0], [0, 0, 0, 0, 0, 0, 0, 0], [0, 0, 0, 0, 0, 0, 0, 0], [0, 0, 0, 0, 0, 0, 0, 0], [0, 0, 0, 0, 0, 0, 0, 0], [0, 0, 0, 0, 0, 0, 0, 0]]\n"
          ]
        }
      ]
    },
    {
      "cell_type": "code",
      "source": [
        "def is_move_valid(cur_x, cur_y, n):\n",
        "  if cur_x < 0 or cur_x >= n or cur_y < 0 or cur_y >= n: # checking bounds\n",
        "    return False\n",
        "  return True\n",
        "\n",
        "def minimum_knight_move(n, target_x, target_y, knight_x, knight_y):\n",
        "  queue = deque() # ((knight_x, knight_y), level)\n",
        "  visited = set()\n",
        "  possible_pos = [(2,1), (-2,1), (1,2), (-1,2), (-1, -2), (2, -1), (1, -2), (-2, 1)]\n",
        "  queue.append(((knight_x, knight_y), 0))\n",
        "  while queue:\n",
        "    (cur_x, cur_y), cur_level = queue.popleft()\n",
        "    if cur_x == target_x and cur_y == target_y:\n",
        "      return cur_level\n",
        "\n",
        "    for dx, dy in possible_pos:\n",
        "      new_x, new_y = cur_x + dx, cur_y + dy\n",
        "\n",
        "      if not is_move_valid(new_x, new_y, n) or (new_x, new_y) in visited:\n",
        "        continue\n",
        "\n",
        "      visited.add((new_x, new_y))\n",
        "      queue.append(((new_x, new_y), cur_level + 1))\n",
        "\n",
        "\n",
        "  return -1 # Impossible to reach as BFS completed without returning levels\n",
        "\n",
        "\n",
        "print(minimum_knight_move(n=8, target_x=5, target_y=5, knight_x=2, knight_y=2))\n"
      ],
      "metadata": {
        "colab": {
          "base_uri": "https://localhost:8080/"
        },
        "id": "6fdyjFbCLN0J",
        "outputId": "726cc5fc-9d85-4e7d-c3be-274a658a2be9"
      },
      "execution_count": 97,
      "outputs": [
        {
          "output_type": "stream",
          "name": "stdout",
          "text": [
            "2\n"
          ]
        }
      ]
    },
    {
      "cell_type": "markdown",
      "source": [
        "# Topological Sort\n",
        " Algorithm that orders the vertices of a Directed Acyclic Graph (DAG) such that for every directed edge u → v, vertex u comes before vertex v in the ordering.\n",
        "\n",
        "🧠 Use Cases:\n",
        "Task scheduling (where tasks depend on other tasks)\n",
        "\n",
        "Build systems (file dependencies)\n",
        "\n",
        "Course prerequisite planning\n",
        "\n",
        "✅ Two Common Algorithms:\n",
        "\n",
        "- Kahn’s Algorithm (BFS-based)\n",
        "- DFS-based Topological Sort\n"
      ],
      "metadata": {
        "id": "l-4F9PykbwZo"
      }
    },
    {
      "cell_type": "code",
      "source": [
        "# DFS-Based Topological Sort\n",
        "\n",
        "def topological_sort_dfs(graph):\n",
        "  visited = set()\n",
        "  stack = []\n",
        "\n",
        "  def dfs(node):\n",
        "    visited.add(node)\n",
        "    for neighbor in graph[node]:\n",
        "      if neighbor not in visited:\n",
        "        dfs(neighbor)\n",
        "    stack.append(node)\n",
        "\n",
        "\n",
        "  for node in graph:\n",
        "    if node not in visited:\n",
        "      dfs(node)\n",
        "\n",
        "\n",
        "  return stack[::-1] # DFS version naturally gives a reverse postorder"
      ],
      "metadata": {
        "id": "I42cyh3AO8G4"
      },
      "execution_count": 112,
      "outputs": []
    },
    {
      "cell_type": "markdown",
      "source": [],
      "metadata": {
        "id": "Iah9t2xTigwN"
      }
    },
    {
      "cell_type": "code",
      "source": [
        "graph = {\n",
        "    5: [2, 0],\n",
        "    4: [0, 1],\n",
        "    2: [3],\n",
        "    3: [1],\n",
        "    1: [],\n",
        "    0: []\n",
        "}\n",
        "\n",
        "print(topological_sort_dfs(graph))\n"
      ],
      "metadata": {
        "colab": {
          "base_uri": "https://localhost:8080/"
        },
        "id": "QUCTvOs2cBWj",
        "outputId": "090eb848-f4a2-4962-f8c8-0b0d4ff216e5"
      },
      "execution_count": 113,
      "outputs": [
        {
          "output_type": "stream",
          "name": "stdout",
          "text": [
            "[4, 5, 0, 2, 3, 1]\n"
          ]
        }
      ]
    },
    {
      "cell_type": "code",
      "source": [
        "from collections import deque, defaultdict\n",
        "\n",
        "def topological_sort_kahn(graph):\n",
        "    indegree = defaultdict(int)\n",
        "    for u in graph:\n",
        "        for v in graph[u]:\n",
        "            indegree[v] += 1\n",
        "\n",
        "    queue = deque([node for node in graph if indegree[node] == 0])\n",
        "    topo_order = []\n",
        "\n",
        "    while queue:\n",
        "        node = queue.popleft()\n",
        "        topo_order.append(node)\n",
        "        for neighbor in graph[node]:\n",
        "            indegree[neighbor] -= 1\n",
        "            if indegree[neighbor] == 0:\n",
        "                queue.append(neighbor)\n",
        "\n",
        "    if len(topo_order) != len(graph):\n",
        "        return []  # Cycle detected, topological sort not possible\n",
        "\n",
        "    return topo_order\n"
      ],
      "metadata": {
        "id": "iW4JOA7PcDQE"
      },
      "execution_count": 115,
      "outputs": []
    },
    {
      "cell_type": "code",
      "source": [
        "graph = {\n",
        "    5: [2, 0],\n",
        "    4: [0, 1],\n",
        "    2: [3],\n",
        "    3: [1],\n",
        "    1: [],\n",
        "    0: []\n",
        "}\n",
        "\n",
        "print(topological_sort_kahn(graph))\n",
        "# Example Output: [4, 5, 2, 3, 1, 0] or similar valid topological order\n"
      ],
      "metadata": {
        "colab": {
          "base_uri": "https://localhost:8080/"
        },
        "id": "fjinjgEoddoX",
        "outputId": "5ed380bc-b2fd-4ec4-e0cd-719d4260941c"
      },
      "execution_count": 116,
      "outputs": [
        {
          "output_type": "stream",
          "name": "stdout",
          "text": [
            "[5, 4, 2, 0, 3, 1]\n"
          ]
        }
      ]
    },
    {
      "cell_type": "code",
      "source": [],
      "metadata": {
        "id": "d-mHOd1gdfWG"
      },
      "execution_count": 114,
      "outputs": []
    },
    {
      "cell_type": "markdown",
      "source": [
        "# Dijkstra’s Algorithm Overview\n",
        "It finds the shortest path from a start node to all other nodes in a graph with non-negative edge weights.\n",
        "\n",
        "It uses a priority queue (min-heap) to always pick the closest node not yet processed.\n",
        "\n",
        "For each node processed, it tries to relax the edges going out from that node.\n",
        "\n",
        "\n",
        "## Step-by-step explanation\n",
        "- Initialize the distance to the start node as 0, and all others as infinity.\n",
        "\n",
        "- Put the start node in a priority queue with distance 0.\n",
        "\n",
        "- While the priority queue is not empty:\n",
        "\n",
        "  - Extract the node u with the smallest tentative distance.\n",
        "\n",
        "  - For each neighbor v of u, relax the edge (u, v):\n",
        "\n",
        "    - If dist[v] > dist[u] + weight(u, v), update dist[v] and push v into the queue with the updated distance."
      ],
      "metadata": {
        "id": "j_IWb4Wsihwo"
      }
    },
    {
      "cell_type": "code",
      "source": [
        "import heapq\n",
        "def dijkstra(graph, start):\n",
        "\n",
        "  # Init distance to infinite\n",
        "  dist = { node: float('inf') for node in graph}\n",
        "  dist[start] = 0\n",
        "  # Min-heap priority queue ; (dist, node)\n",
        "  pq = [(0, start)]\n",
        "\n",
        "  while pq:\n",
        "    current_dist, u = heapq.heappop(pq)\n",
        "\n",
        "    # Check current distance is better, skip calc\n",
        "\n",
        "    if current_dist > dist[u]:\n",
        "      continue\n",
        "\n",
        "    # Relaxation step of all neighbors\n",
        "\n",
        "    for v, weight in graph[u]:\n",
        "      if dist[v] > dist[u] + weight:\n",
        "        dist[v] = dist[u] + weight\n",
        "        heapq.heappush(pq, (dist[v], v))\n",
        "\n",
        "  return dist\n"
      ],
      "metadata": {
        "id": "_Cv7t92qilRS"
      },
      "execution_count": 121,
      "outputs": []
    },
    {
      "cell_type": "code",
      "source": [
        "# Example usage\n",
        "graph = {\n",
        "    'A': [('B', 2), ('C', 5)],\n",
        "    'B': [('C', 1), ('D', 2)],\n",
        "    'C': [('D', 3)],\n",
        "    'D': []\n",
        "}\n",
        "\n",
        "distances = dijkstra(graph, 'A')\n",
        "print(distances)  # {'A': 0, 'B': 2, 'C': 3, 'D': 4}"
      ],
      "metadata": {
        "colab": {
          "base_uri": "https://localhost:8080/"
        },
        "id": "TEWJJBZjkf-S",
        "outputId": "09f12f99-475a-4673-b89f-0c2b367918d7"
      },
      "execution_count": 122,
      "outputs": [
        {
          "output_type": "stream",
          "name": "stdout",
          "text": [
            "{'A': 0, 'B': 2, 'C': 3, 'D': 4}\n"
          ]
        }
      ]
    },
    {
      "cell_type": "code",
      "source": [
        "# Changes when using adjacency matrix in Dijkstra\n",
        "\n",
        "import heapq\n",
        "\n",
        "def dijkstra_matrix(graph, start):\n",
        "    V = len(graph)\n",
        "    dist = [float('inf')] * V\n",
        "    dist[start] = 0\n",
        "\n",
        "    pq = [(0, start)]  # (distance, node)\n",
        "\n",
        "    while pq:\n",
        "        current_dist, u = heapq.heappop(pq)\n",
        "\n",
        "        if current_dist > dist[u]:\n",
        "            continue\n",
        "\n",
        "        # Instead of adjacency list, iterate over all possible vertices\n",
        "        for v in range(V):\n",
        "            weight = graph[u][v]\n",
        "            if weight != 0:  # or weight != INF depending on representation\n",
        "                if dist[v] > dist[u] + weight:\n",
        "                    dist[v] = dist[u] + weight\n",
        "                    heapq.heappush(pq, (dist[v], v))\n",
        "\n",
        "    return dist\n",
        "\n",
        "# Example adjacency matrix (0 means no edge)\n",
        "graph = [\n",
        "    [0, 2, 5, 0],\n",
        "    [0, 0, 1, 2],\n",
        "    [0, 0, 0, 3],\n",
        "    [0, 0, 0, 0]\n",
        "]\n",
        "\n",
        "distances = dijkstra_matrix(graph, 0)\n",
        "print(distances)  # Output: [0, 2, 3, 4]\n"
      ],
      "metadata": {
        "colab": {
          "base_uri": "https://localhost:8080/"
        },
        "id": "VcXlFsRpmL7N",
        "outputId": "16adeefc-17de-4531-a8f3-07d189e0d348"
      },
      "execution_count": 123,
      "outputs": [
        {
          "output_type": "stream",
          "name": "stdout",
          "text": [
            "[0, 2, 3, 4]\n"
          ]
        }
      ]
    },
    {
      "cell_type": "code",
      "source": [],
      "metadata": {
        "id": "xc6HrE0unMbT"
      },
      "execution_count": null,
      "outputs": []
    },
    {
      "cell_type": "markdown",
      "source": [
        "✅ Bellman-Ford Algorithm: Key Points\n",
        "- Works on both directed and undirected graphs.\n",
        "- Can handle negative edge weights, unlike Dijkstra.\n",
        "-Detects negative weight cycles.\n",
        "-Time Complexity: O(V × E), for complete graph can be O(n3)\n",
        "- Uses Dyanmic Programming Approach\n",
        "\n",
        "🧠 Concept\n",
        "- Initialize the distance to the start node as 0, and all other nodes as infinity.\n",
        "\n",
        "- For V - 1 times, go through all edges and try to relax them:\n",
        "\n",
        " - If dist[u] + weight < dist[v], then update dist[v] = dist[u] + weight\n",
        "\n",
        "- After that, do one more pass over all edges to check for negative cycles:\n",
        "\n",
        " - If any distance can still be reduced, a negative cycle exists."
      ],
      "metadata": {
        "id": "p7HH8_Wrpq9S"
      }
    },
    {
      "cell_type": "code",
      "source": [
        "def bellman_ford(adj_list, V, start):\n",
        "\n",
        "  dist = [float('inf')] * V\n",
        "  dist[start] = 0\n",
        "\n",
        "  # Flatten the adj_list to costmap\n",
        "  edges = []\n",
        "  for u in adj_list:\n",
        "    for v, weight in adj_list[u]:\n",
        "      edges.append((u,v,weight))\n",
        "\n",
        "  # For Adjacency Matrix:\n",
        "  # for u in range(V)\n",
        "  #   for v in range(V):\n",
        "  #     if adj_matrix[u][v] != 0:\n",
        "  #       weight = adj_matrix[u][v]\n",
        "  #       edges.append((u,v,weight))\n",
        "\n",
        "\n",
        "  # Relax for V-1 times\n",
        "  for _ in range(V-1):\n",
        "    for u, v, weight in edges:\n",
        "      if dist[u] != float('inf') and dist[u] + weight < dist[v]:\n",
        "        dist[v] = dist[u] + weight\n",
        "\n",
        "  # Check for negatives cycles\n",
        "\n",
        "  for u, v, weight in edges:\n",
        "    if dist[u] != float('inf') and dist[u] + weight < dist[v]:\n",
        "      print(\"Negative Cycle present. \")\n",
        "      return None\n",
        "\n",
        "\n",
        "  return dist\n"
      ],
      "metadata": {
        "id": "xeEqo_hMpv_n"
      },
      "execution_count": 126,
      "outputs": []
    },
    {
      "cell_type": "markdown",
      "source": [],
      "metadata": {
        "id": "BVowbbuNvjZS"
      }
    },
    {
      "cell_type": "code",
      "source": [
        "adj_list = {\n",
        "    0: [(1, 4), (2, 5)],\n",
        "    1: [(2, -3)],\n",
        "    2: [(3, 4)],\n",
        "    3: [(1, -6)]\n",
        "}\n",
        "\n",
        "\n",
        "V = 4  # number of vertices\n",
        "start = 0\n",
        "\n",
        "result = bellman_ford(adj_list, V, start)\n",
        "if result:\n",
        "    print(\"Shortest distances from node\", start, \":\", result)"
      ],
      "metadata": {
        "colab": {
          "base_uri": "https://localhost:8080/"
        },
        "id": "kal6Ikvyr1Qf",
        "outputId": "15fdbb43-f646-41da-8a55-b5d379428499"
      },
      "execution_count": 127,
      "outputs": [
        {
          "output_type": "stream",
          "name": "stdout",
          "text": [
            "Negative Cycle present. \n"
          ]
        }
      ]
    },
    {
      "cell_type": "code",
      "source": [],
      "metadata": {
        "id": "QacZfNobtOeE"
      },
      "execution_count": null,
      "outputs": []
    },
    {
      "cell_type": "markdown",
      "source": [
        "# 🧠 Floyd-Warshall Algorithm - All Pairs Shortest Path\n",
        "\n",
        "The **Floyd-Warshall algorithm** is a classic dynamic programming approach to find the shortest distances between **all pairs of vertices** in a weighted graph.\n",
        "\n",
        "---\n",
        "\n",
        "## ✅ Key Properties\n",
        "\n",
        "- Works with **directed** or **undirected** graphs\n",
        "- Handles **negative edge weights**\n",
        "- **Does not work** with negative **weight cycles**\n",
        "- Time Complexity: **O(V³)**\n",
        "\n",
        "---\n",
        "\n",
        "## 📌 Algorithm Steps\n",
        "\n",
        "1. **Initialize Distance Matrix:**\n",
        "   - If there is a direct edge from `i → j`, use its weight\n",
        "   - If `i == j`, set distance to 0\n",
        "   - Otherwise, set distance to ∞ (infinity)\n",
        "\n",
        "2. **Iterate Over Intermediate Nodes `k`:**\n",
        "   - For every pair `(i, j)`, check if going through `k` is shorter:\n",
        "     ```\n",
        "     dist[i][j] = min(dist[i][j], dist[i][k] + dist[k][j])\n",
        "     ```\n",
        "\n",
        "3. **(Optional)** Check for **negative weight cycles**:\n",
        "   - If `dist[i][i] < 0` for any `i`, a negative cycle exists\n",
        "\n",
        "---\n",
        "\n",
        "## 🔍 Example Use Case\n",
        "\n",
        "Given a graph with 4 nodes and weighted edges:\n",
        "\n",
        "graph = [\n",
        "[0, 3, ∞, 5],\n",
        "[2, 0, ∞, 4],\n",
        "[∞, 1, 0, ∞],\n",
        "[∞, ∞, 2, 0]\n",
        "]\n",
        "\n",
        "\n",
        "The Floyd-Warshall algorithm will return a new matrix showing the **shortest distances** between every pair of nodes.\n",
        "\n",
        "---\n",
        "\n",
        "## 🧠 Why Use Floyd-Warshall?\n",
        "\n",
        "- Great for **dense graphs**\n",
        "- Simpler than running Dijkstra for every node\n",
        "- Perfect when you need to answer many shortest-path queries efficiently\n",
        "\n",
        "---\n",
        "\n",
        "_✨ Tip: For path reconstruction (i.e., to retrieve actual paths, not just distances), maintain a predecessor matrix during updates._\n"
      ],
      "metadata": {
        "id": "eOpajWsyvkZx"
      }
    },
    {
      "cell_type": "code",
      "source": [
        "def floyd_warshall(graph):\n",
        "    V = len(graph)\n",
        "    dist = [row[:] for row in graph]  # deep copy of matrix\n",
        "\n",
        "    for k in range(V):\n",
        "        for i in range(V):\n",
        "            for j in range(V):\n",
        "                if dist[i][k] != float('inf') and dist[k][j] != float('inf'):\n",
        "                    dist[i][j] = min(dist[i][j], dist[i][k] + dist[k][j])\n",
        "\n",
        "    # Check for negative weight cycle\n",
        "    for i in range(V):\n",
        "        if dist[i][i] < 0:\n",
        "            print(\"Graph contains a negative weight cycle\")\n",
        "            return None\n",
        "\n",
        "    return dist\n"
      ],
      "metadata": {
        "id": "Jbu9_6qevzmV"
      },
      "execution_count": 128,
      "outputs": []
    },
    {
      "cell_type": "code",
      "source": [
        "INF = float('inf')\n",
        "graph = [\n",
        "    [0,     3,     INF,   5],\n",
        "    [2,     0,     INF,   4],\n",
        "    [INF,   1,     0,     INF],\n",
        "    [INF,   INF,   2,     0]\n",
        "]\n",
        "\n",
        "shortest = floyd_warshall(graph)\n",
        "for row in shortest:\n",
        "    print(row)"
      ],
      "metadata": {
        "colab": {
          "base_uri": "https://localhost:8080/"
        },
        "id": "wsPsG7iMwD_d",
        "outputId": "b33af1fe-79aa-4a8f-b2e5-85ce7b200176"
      },
      "execution_count": 129,
      "outputs": [
        {
          "output_type": "stream",
          "name": "stdout",
          "text": [
            "[0, 3, 7, 5]\n",
            "[2, 0, 6, 4]\n",
            "[3, 1, 0, 5]\n",
            "[5, 3, 2, 0]\n"
          ]
        }
      ]
    },
    {
      "cell_type": "code",
      "source": [],
      "metadata": {
        "id": "U-JuSdQfwPWh"
      },
      "execution_count": null,
      "outputs": []
    },
    {
      "cell_type": "markdown",
      "source": [
        "# Graph Populer Questions  "
      ],
      "metadata": {
        "id": "PqP_ykWmxNAO"
      }
    },
    {
      "cell_type": "code",
      "source": [
        "# Graph/Grid Problems - BFS, DFS, and Topological Sort\n",
        "\n",
        "# Problem 1: Number of Islands (DFS)\n",
        "# ------------------------------------------------------\n",
        "# Problem: Given a 2D grid map of '1's (land) and '0's (water), count the number of islands.\n",
        "# An island is surrounded by water and is formed by connecting adjacent lands horizontally or vertically.\n",
        "# Approach: Use DFS to explore each island and mark it as visited.\n",
        "def num_islands(grid):\n",
        "    if not grid:\n",
        "        return 0\n",
        "\n",
        "    rows, cols = len(grid), len(grid[0])\n",
        "    visited = set()\n",
        "\n",
        "    def dfs(r, c):\n",
        "        # Skip invalid or already visited cells\n",
        "        if r < 0 or r >= rows or c < 0 or c >= cols or grid[r][c] == '0' or (r, c) in visited:\n",
        "            return\n",
        "        visited.add((r, c))\n",
        "        # Explore all four directions\n",
        "        for dr, dc in [(0,1), (1,0), (0,-1), (-1,0)]:\n",
        "            dfs(r + dr, c + dc)\n",
        "\n",
        "    count = 0\n",
        "    for r in range(rows):\n",
        "        for c in range(cols):\n",
        "            # Start DFS when an unvisited land cell is found\n",
        "            if grid[r][c] == '1' and (r, c) not in visited:\n",
        "                dfs(r, c)\n",
        "                count += 1\n",
        "    return count\n",
        "\n",
        "\n",
        "# Problem 2: Rotting Oranges (BFS)\n",
        "# ------------------------------------------------------\n",
        "# Problem: Given a grid, each cell can be empty (0), fresh orange (1), or rotten orange (2).\n",
        "# Each minute, any fresh orange adjacent to a rotten one becomes rotten.\n",
        "# Return the minimum number of minutes until no fresh oranges remain. If impossible, return -1.\n",
        "from collections import deque\n",
        "\n",
        "def oranges_rotting(grid):\n",
        "    rows, cols = len(grid), len(grid[0])\n",
        "    queue = deque()\n",
        "    fresh = 0\n",
        "\n",
        "    # Initialize the queue with all initially rotten oranges\n",
        "    for r in range(rows):\n",
        "        for c in range(cols):\n",
        "            if grid[r][c] == 2:\n",
        "                queue.append((r, c, 0))\n",
        "            elif grid[r][c] == 1:\n",
        "                fresh += 1\n",
        "\n",
        "    minutes = 0\n",
        "    while queue:\n",
        "        r, c, time = queue.popleft()\n",
        "        for dr, dc in [(0,1), (1,0), (0,-1), (-1,0)]:\n",
        "            nr, nc = r + dr, c + dc\n",
        "            # Infect adjacent fresh orange\n",
        "            if 0 <= nr < rows and 0 <= nc < cols and grid[nr][nc] == 1:\n",
        "                grid[nr][nc] = 2\n",
        "                fresh -= 1\n",
        "                queue.append((nr, nc, time + 1))\n",
        "                minutes = time + 1\n",
        "\n",
        "    return minutes if fresh == 0 else -1\n",
        "\n",
        "\n",
        "# Problem 3: Minimum Steps to Reach Cell 9 in Grid (BFS)\n",
        "# ------------------------------------------------------\n",
        "# Problem: In a 2D grid, start from (0,0) and find the shortest path to a cell with value 9.\n",
        "# Return the number of steps required or -1 if unreachable.\n",
        "\n",
        "def min_steps_to_target(grid):\n",
        "    from collections import deque\n",
        "    rows, cols = len(grid), len(grid[0])\n",
        "    visited = set()\n",
        "    queue = deque([(0, 0, 0)])  # (row, col, steps)\n",
        "\n",
        "    while queue:\n",
        "        r, c, steps = queue.popleft()\n",
        "        if grid[r][c] == 9:\n",
        "            return steps\n",
        "        for dr, dc in [(0,1), (1,0), (0,-1), (-1,0)]:\n",
        "            nr, nc = r + dr, c + dc\n",
        "            if 0 <= nr < rows and 0 <= nc < cols and grid[nr][nc] != 0 and (nr, nc) not in visited:\n",
        "                visited.add((nr, nc))\n",
        "                queue.append((nr, nc, steps + 1))\n",
        "    return -1\n",
        "\n",
        "\n",
        "# Problem 4: Keys and Rooms (DFS)\n",
        "# ------------------------------------------------------\n",
        "# Problem: Each room may contain keys to other rooms.\n",
        "# Starting from room 0, check if we can visit all rooms.\n",
        "\n",
        "def can_visit_all_rooms(rooms):\n",
        "    visited = set()\n",
        "\n",
        "    def dfs(room):\n",
        "        if room in visited:\n",
        "            return\n",
        "        visited.add(room)\n",
        "        for key in rooms[room]:  # Visit rooms that can be unlocked\n",
        "            dfs(key)\n",
        "\n",
        "    dfs(0)\n",
        "    return len(visited) == len(rooms)\n",
        "\n",
        "\n",
        "# Problem 5: Course Schedule II (Topological Sort)\n",
        "# ------------------------------------------------------\n",
        "# Problem: Return an order in which you can finish all courses given prerequisites.\n",
        "# If not possible (cycle exists), return empty list.\n",
        "# Use Kahn's algorithm (BFS-based topological sort).\n",
        "from collections import deque, defaultdict\n",
        "\n",
        "def find_order(numCourses, prerequisites):\n",
        "    graph = defaultdict(list)\n",
        "    indegree = [0] * numCourses\n",
        "\n",
        "    # Build the graph and compute in-degrees\n",
        "    for dest, src in prerequisites:\n",
        "        graph[src].append(dest)\n",
        "        indegree[dest] += 1\n",
        "\n",
        "    # Initialize queue with nodes having 0 indegree\n",
        "    queue = deque([i for i in range(numCourses) if indegree[i] == 0])\n",
        "    topo_order = []\n",
        "\n",
        "    while queue:\n",
        "        course = queue.popleft()\n",
        "        topo_order.append(course)\n",
        "        for neighbor in graph[course]:\n",
        "            indegree[neighbor] -= 1\n",
        "            if indegree[neighbor] == 0:\n",
        "                queue.append(neighbor)\n",
        "\n",
        "    # Return ordering only if all courses are included\n",
        "    return topo_order if len(topo_order) == numCourses else []\n",
        "\n",
        "\n",
        "# Problem 6: Minimum Knight Moves (BFS)\n",
        "# ------------------------------------------------------\n",
        "# Problem: On an infinite chessboard, return the minimum number of moves for a knight to reach target (x, y).\n",
        "# Use BFS and symmetry to optimize search.\n",
        "\n",
        "def min_knight_moves(x, y):\n",
        "    from collections import deque\n",
        "    x, y = abs(x), abs(y)  # Symmetry: mirror coordinates to 1st quadrant\n",
        "    directions = [(2, 1), (1, 2), (-1, 2), (-2, 1),\n",
        "                  (-2, -1), (-1, -2), (1, -2), (2, -1)]\n",
        "\n",
        "    visited = set()\n",
        "    queue = deque([(0, 0, 0)])  # (row, col, steps)\n",
        "\n",
        "    while queue:\n",
        "        r, c, steps = queue.popleft()\n",
        "        if (r, c) == (x, y):\n",
        "            return steps\n",
        "        for dr, dc in directions:\n",
        "            nr, nc = r + dr, c + dc\n",
        "            # Avoid unnecessary backward moves\n",
        "            if (nr, nc) not in visited and nr >= -2 and nc >= -2:\n",
        "                visited.add((nr, nc))\n",
        "                queue.append((nr, nc, steps + 1))\n"
      ],
      "metadata": {
        "id": "kJpNW8EXxP7_"
      },
      "execution_count": 131,
      "outputs": []
    },
    {
      "cell_type": "code",
      "source": [],
      "metadata": {
        "id": "14ygFVZ4xQap"
      },
      "execution_count": null,
      "outputs": []
    }
  ]
}
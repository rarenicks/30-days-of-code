{
  "nbformat": 4,
  "nbformat_minor": 0,
  "metadata": {
    "colab": {
      "provenance": [],
      "authorship_tag": "ABX9TyObF922Ed76VsRrVGna9plI",
      "include_colab_link": true
    },
    "kernelspec": {
      "name": "python3",
      "display_name": "Python 3"
    },
    "language_info": {
      "name": "python"
    }
  },
  "cells": [
    {
      "cell_type": "markdown",
      "metadata": {
        "id": "view-in-github",
        "colab_type": "text"
      },
      "source": [
        "<a href=\"https://colab.research.google.com/github/rarenicks/30-days-of-code/blob/main/Graph.ipynb\" target=\"_parent\"><img src=\"https://colab.research.google.com/assets/colab-badge.svg\" alt=\"Open In Colab\"/></a>"
      ]
    },
    {
      "cell_type": "code",
      "execution_count": null,
      "metadata": {
        "id": "n1SQxgSXMb0n"
      },
      "outputs": [],
      "source": []
    },
    {
      "cell_type": "markdown",
      "source": [
        "# 📘 Introduction to Graph Data Structures\n",
        "\n",
        "A **graph** is a powerful and flexible data structure used to model **relationships** between objects. It is composed of:\n",
        "\n",
        "- **Vertices (or Nodes)**: The fundamental units that represent entities (e.g., people, cities, web pages).\n",
        "- **Edges**: Connections between pairs of vertices that represent relationships (e.g., friendships, roads, hyperlinks).\n",
        "\n",
        "## 🔗 Types of Graphs\n",
        "\n",
        "- **Directed Graph (Digraph)**: Edges have a direction (A ➝ B).\n",
        "- **Undirected Graph**: Edges do not have direction (A — B).\n",
        "- **Weighted Graph**: Edges carry weights (e.g., distance, cost).\n",
        "- **Unweighted Graph**: All edges are considered equal.\n",
        "- **Cyclic vs. Acyclic**: Graphs with or without cycles.\n",
        "- **Connected Graph**: There is a path between every pair of nodes.\n",
        "\n",
        "## 🧠 Real-World Applications\n",
        "\n",
        "- **Social Networks**: Modeling users and their connections.\n",
        "- **Navigation Systems**: Finding the shortest path between locations.\n",
        "- **Recommendation Engines**: Suggesting products based on user-item\n",
        "relationships.\n",
        "- **Web Crawling**: Representing links between websites.\n",
        "- **Biological Networks**: Modeling protein interactions or gene regulation.\n",
        "\n",
        "## 🧰 Graph Representations\n",
        "\n",
        "1. **Adjacency List** – Efficient for sparse graphs.\n",
        "2. **Adjacency Matrix** – Efficient for dense graphs.\n",
        "3. **Edge List** – Simple and intuitive for small graphs."
      ],
      "metadata": {
        "id": "BuryhHvTNFE9"
      }
    },
    {
      "cell_type": "code",
      "source": [
        "# A way to represent graph.\n",
        "class node:\n",
        "  def __init(self, val):\n",
        "    self.data = val\n",
        "    self.edges = []\n",
        "\n",
        "To represent vertex\n",
        "\n",
        "To Represent edge\n",
        "- Edge List\n",
        "- Adjancecy list\n",
        "- Adjacency matrix\n"
      ],
      "metadata": {
        "id": "ngd2eUTGNFXq"
      },
      "execution_count": null,
      "outputs": []
    },
    {
      "cell_type": "markdown",
      "source": [
        "## 📍 Graph Representation Basics\n",
        "\n",
        "To work with graphs in code, we need ways to represent both **vertices** and **edges** efficiently.\n",
        "\n",
        "### 🧊 To Represent Vertices\n",
        "Vertices (also called nodes) can be represented in various ways depending on the implementation:\n",
        "- As elements in a list or set: `[\"A\", \"B\", \"C\"]`\n",
        "- As keys in a dictionary: `{ \"A\": [...], \"B\": [...] }`\n",
        "- As objects in a class-based graph representation\n",
        "\n",
        "---\n",
        "\n",
        "### 🔗 To Represent Edges\n",
        "\n",
        "Edges define the relationships or connections between vertices. There are three common ways to represent edges in a graph:\n",
        "\n",
        "#### 1. 📝 Edge List\n",
        "A list of all edges as pairs (or triplets if weighted):\n",
        "```python\n",
        "edges = [(\"A\", \"B\"), (\"A\", \"C\"), (\"B\", \"C\")]\n",
        "\n",
        "- For weighted graphs: [(\"A\", \"B\", 5), (\"A\", \"C\", 3)]\n",
        "\n",
        "2. 📋 Adjacency List\n",
        "A dictionary (or array) mapping each vertex to a list of its adjacent vertices:\n",
        "adj_list = {\n",
        "    \"A\": [\"B\", \"C\"],\n",
        "    \"B\": [\"C\"],\n",
        "    \"C\": []\n",
        "}\n",
        "\n",
        "- For weighted graphs: {\"A\": [(\"B\", 5), (\"C\", 3)], ...}\n",
        "3. 🧮 Adjacency Matrix\n",
        "A 2D array where matrix[i][j] = 1 (or weight) if there is an edge from vertex i to vertex j:\n",
        "\n",
        "- For vertices A, B, C\n",
        "\n",
        "matrix = [\n",
        "    [0, 1, 1],  # A -> B, A -> C\n",
        "    [0, 0, 1],  # B -> C\n",
        "    [0, 0, 0]   # C -> no one\n",
        "]\n",
        "Each representation has trade-offs in space and time complexity. You'll choose based on the graph's density, operations required, and memory constraints.\n"
      ],
      "metadata": {
        "id": "46yf6KLKO08W"
      }
    },
    {
      "cell_type": "code",
      "source": [],
      "metadata": {
        "id": "e7s2ooUjO1KB"
      },
      "execution_count": null,
      "outputs": []
    }
  ]
}
{
  "nbformat": 4,
  "nbformat_minor": 0,
  "metadata": {
    "colab": {
      "provenance": [],
      "authorship_tag": "ABX9TyPm+PeVBK5IVWWzORBw7eqG",
      "include_colab_link": true
    },
    "kernelspec": {
      "name": "python3",
      "display_name": "Python 3"
    },
    "language_info": {
      "name": "python"
    }
  },
  "cells": [
    {
      "cell_type": "markdown",
      "metadata": {
        "id": "view-in-github",
        "colab_type": "text"
      },
      "source": [
        "<a href=\"https://colab.research.google.com/github/rarenicks/30-days-of-code/blob/main/Trie.ipynb\" target=\"_parent\"><img src=\"https://colab.research.google.com/assets/colab-badge.svg\" alt=\"Open In Colab\"/></a>"
      ]
    },
    {
      "cell_type": "markdown",
      "source": [
        "# 🔠 Trie (Prefix Tree) - Data Structure\n",
        "\n",
        "## 📘 Introduction\n",
        "A **Trie** (pronounced *try*) is a tree-like data structure that stores a dynamic set of strings, typically used for efficient retrieval of words, especially in scenarios involving **prefix searches**.\n",
        "\n",
        "Unlike hash tables, Tries do not suffer from hash collisions and can provide better worst-case complexity for word lookups.\n",
        "\n",
        "---\n",
        "\n",
        "## ⭐ Key Features\n",
        "\n",
        "- **Each node represents a character** of a word.\n",
        "- The **root node is empty** and branches out to first characters of words.\n",
        "- Words sharing common prefixes share common paths in the tree.\n",
        "- Supports **insert**, **search**, and **startsWith (prefix search)** operations.\n",
        "\n",
        "---\n",
        "\n",
        "## 🚀 Time Complexities\n",
        "\n",
        "| Operation   | Time Complexity |\n",
        "|-------------|------------------|\n",
        "| Insert      | O(L)             |\n",
        "| Search      | O(L)             |\n",
        "| StartsWith  | O(L)             |\n",
        "\n",
        "Where `L` is the length of the word or prefix.\n",
        "\n",
        "---\n",
        "\n",
        "## 📌 Common Use Cases\n",
        "\n",
        "- 📖 **Autocomplete engines**\n",
        "- 🔍 **Spell checking**\n",
        "- 🧭 **Prefix-based search**\n",
        "- 💬 **IP routing (Longest prefix match)**\n",
        "- 🧩 **Word games (e.g., Boggle, Scrabble AI)**\n",
        "\n",
        "---\n",
        "\n",
        "\n"
      ],
      "metadata": {
        "id": "GsovnQ_t50j9"
      }
    },
    {
      "cell_type": "markdown",
      "source": [],
      "metadata": {
        "id": "60O6zYRI5rb5"
      }
    },
    {
      "cell_type": "code",
      "source": [
        "## 🧠 Python Implementation\n",
        "\n",
        "class TrieNode:\n",
        "    def __init__(self):\n",
        "        self.children = {}\n",
        "        self.end_of_word = False\n",
        "\n",
        "class Trie:\n",
        "    def __init__(self):\n",
        "        self.root = TrieNode()\n",
        "\n",
        "    def insert(self, word):\n",
        "        node = self.root\n",
        "        for ch in word:\n",
        "            if ch not in node.children:\n",
        "                node.children[ch] = TrieNode()\n",
        "            node = node.children[ch]\n",
        "        node.end_of_word = True\n",
        "\n",
        "    def search(self, word):\n",
        "        node = self.root\n",
        "        for ch in word:\n",
        "            if ch not in node.children:\n",
        "                return False\n",
        "            node = node.children[ch]\n",
        "        return node.end_of_word\n",
        "\n",
        "    def startsWith(self, prefix):\n",
        "        node = self.root\n",
        "        for ch in prefix:\n",
        "            if ch not in node.children:\n",
        "                return False\n",
        "            node = node.children[ch]\n",
        "        return True"
      ],
      "metadata": {
        "id": "3AeymaOh6EUR"
      },
      "execution_count": 7,
      "outputs": []
    },
    {
      "cell_type": "code",
      "source": [
        "trie = Trie()\n",
        "trie.insert(\"apple\")\n",
        "print(trie.search(\"apple\"))     # True\n",
        "print(trie.search(\"app\"))       # False\n",
        "print(trie.startsWith(\"app\"))   # True\n",
        "trie.insert(\"app\")\n",
        "print(trie.search(\"app\"))       # True\n"
      ],
      "metadata": {
        "colab": {
          "base_uri": "https://localhost:8080/"
        },
        "id": "zGPARXmY5rsB",
        "outputId": "00e5d428-7001-480c-9cd4-f44c2d4bd70a"
      },
      "execution_count": 8,
      "outputs": [
        {
          "output_type": "stream",
          "name": "stdout",
          "text": [
            "True\n",
            "False\n",
            "True\n",
            "True\n"
          ]
        }
      ]
    },
    {
      "cell_type": "code",
      "source": [],
      "metadata": {
        "id": "2fqPBTyk5xbn"
      },
      "execution_count": null,
      "outputs": []
    }
  ]
}
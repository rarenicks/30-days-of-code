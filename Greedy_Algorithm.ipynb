{
  "nbformat": 4,
  "nbformat_minor": 0,
  "metadata": {
    "colab": {
      "provenance": [],
      "authorship_tag": "ABX9TyN/q7jGvyOWI0ghBr42sYNk",
      "include_colab_link": true
    },
    "kernelspec": {
      "name": "python3",
      "display_name": "Python 3"
    },
    "language_info": {
      "name": "python"
    }
  },
  "cells": [
    {
      "cell_type": "markdown",
      "metadata": {
        "id": "view-in-github",
        "colab_type": "text"
      },
      "source": [
        "<a href=\"https://colab.research.google.com/github/rarenicks/30-days-of-code/blob/main/Greedy_Algorithm.ipynb\" target=\"_parent\"><img src=\"https://colab.research.google.com/assets/colab-badge.svg\" alt=\"Open In Colab\"/></a>"
      ]
    },
    {
      "cell_type": "markdown",
      "source": [
        "# Greedy Algorithm :\n",
        "Greedy algorithms make the locally optimal choice at each step with the hope of finding a global optimum.Focus: Simply on \"what is the best step from this point.\n",
        "\n"
      ],
      "metadata": {
        "id": "wW-T4PsN18ZO"
      }
    },
    {
      "cell_type": "markdown",
      "source": [
        "## Meeting Scheduling / Activity Selection\n"
      ],
      "metadata": {
        "id": "1WwXzx7Y2JwG"
      }
    },
    {
      "cell_type": "code",
      "execution_count": 12,
      "metadata": {
        "colab": {
          "base_uri": "https://localhost:8080/"
        },
        "id": "Oy_3o7un10_N",
        "outputId": "b4864eba-9daa-4229-a9ee-f5c59777645b"
      },
      "outputs": [
        {
          "output_type": "stream",
          "name": "stdout",
          "text": [
            "1 2\n",
            "3 4\n",
            "5 6\n",
            "Total Meetings :  3\n"
          ]
        }
      ],
      "source": [
        "def sortMeetings(element):\n",
        "  return element[1]\n",
        "\n",
        "def meetingSchedule(meetings):\n",
        "  meetings.sort(key=sortMeetings)\n",
        "  endsAt = -1\n",
        "  meetingCounter = 0\n",
        "  for start,end in meetings:\n",
        "    if endsAt == -1:\n",
        "      endsAt = end\n",
        "      print(start,end)\n",
        "      meetingCounter+=1\n",
        "      continue\n",
        "    else:\n",
        "      if start > endsAt:\n",
        "        endsAt = end\n",
        "        print(start,end)\n",
        "        meetingCounter+=1\n",
        "  return meetingCounter\n",
        "\n",
        "\n",
        "meetings = [(1,4), (3,4), (1,2), (5,6)]\n",
        "print(\"Total Meetings : \", meetingSchedule(meetings))\n"
      ]
    },
    {
      "cell_type": "markdown",
      "source": [
        "## Fractional Knapsack :\n",
        "\n",
        "Types of knapsack:\n",
        "1. Fractional knapsack : Solved by Greedy Algo\n",
        "2. 0,1 knapsack : Solved by Dynamic Programming\n",
        "3. Unbounded knapsack : Solved by Dynamic Programming"
      ],
      "metadata": {
        "id": "XyLeR0xT4vUx"
      }
    },
    {
      "cell_type": "code",
      "source": [
        "from inspect import ClosureVars\n",
        "def pairSort(ele):\n",
        "  return ele[1] / ele[0] # Val / Wt = value per weight\n",
        "\n",
        "def fractionalKnapsack(wt, val, target):\n",
        "\n",
        "  pairs = []\n",
        "  for i in range(len(wt)):\n",
        "    if val[i] != 0 : # No benefit in keeping 0 value item, as we have to maximize\n",
        "      pairs.append([wt[i], val[i]])\n",
        "\n",
        "  pairs.sort(key=pairSort, reverse=True)\n",
        "  ansVal = 0\n",
        "  ansWt = 0\n",
        "  for curWt, curVal in pairs:\n",
        "    if ansWt+curWt <= target: # Deciding if adding this wt (max at this point) is ok\n",
        "      ansWt += curWt\n",
        "      ansVal += curVal\n",
        "    else: # if not then getting fractional weight\n",
        "      frac = target - ansWt # Remaining weight\n",
        "      ansVal +=  curVal * (frac/curWt) # Getting value of fractional weight\n",
        "      break\n",
        "\n",
        "  return ansVal\n",
        "\n",
        "wt = [6,2,1]\n",
        "val = [10,20,5]\n",
        "target = 1\n",
        "\n",
        "print(fractionalKnapsack(wt, val, target))"
      ],
      "metadata": {
        "colab": {
          "base_uri": "https://localhost:8080/"
        },
        "id": "Ehpuv1aE3DCY",
        "outputId": "4e7840b7-e76d-4bfd-9f65-89182057e3f0"
      },
      "execution_count": 25,
      "outputs": [
        {
          "output_type": "stream",
          "name": "stdout",
          "text": [
            "[[2, 20], [1, 5], [6, 10]]\n",
            "10.0\n"
          ]
        }
      ]
    },
    {
      "cell_type": "markdown",
      "source": [
        "## Shop in a candy store"
      ],
      "metadata": {
        "id": "OVeCgUza-xoX"
      }
    },
    {
      "cell_type": "code",
      "source": [
        "def MaxcandyCost(candies, k_free):\n",
        "  candies.sort()\n",
        "  start = 0\n",
        "  end = len(candies)-1\n",
        "\n",
        "  ansMinCost = 0\n",
        "\n",
        "  while start <= end :\n",
        "    ansMinCost += candies[end]\n",
        "    start += k_free\n",
        "    end -=1\n",
        "\n",
        "  return ansMinCost\n",
        "\n",
        "def MincandyCost(candies, k_free):\n",
        "  candies.sort()\n",
        "  start = 0\n",
        "  end = len(candies)-1\n",
        "\n",
        "  ansMinCost = 0\n",
        "\n",
        "  while start <= end :\n",
        "    ansMinCost += candies[start]\n",
        "    start += 1\n",
        "    end -= k_free\n",
        "\n",
        "  return ansMinCost\n",
        "\n",
        "k_free = 2\n",
        "candies = [3,2,1,4]\n",
        "print(\"Candy Costs: \", candies)\n",
        "print(\"Minimum Cost : \", MincandyCost(candies, k_free))\n",
        "print(\"Maximum Cost : \", MaxcandyCost(candies, k_free))"
      ],
      "metadata": {
        "colab": {
          "base_uri": "https://localhost:8080/"
        },
        "id": "AX_ZDEVa821k",
        "outputId": "8d51ecf8-6813-44ee-9c17-3c8fbf500c37"
      },
      "execution_count": 32,
      "outputs": [
        {
          "output_type": "stream",
          "name": "stdout",
          "text": [
            "Candy Costs:  [3, 2, 1, 4]\n",
            "Minimum Cost :  3\n",
            "Maximum Cost :  7\n"
          ]
        }
      ]
    },
    {
      "cell_type": "code",
      "source": [],
      "metadata": {
        "id": "Jg5rJsdDCHaS"
      },
      "execution_count": null,
      "outputs": []
    },
    {
      "cell_type": "markdown",
      "source": [
        "## Minimum cost of Rope"
      ],
      "metadata": {
        "id": "YqCe25M4DAol"
      }
    },
    {
      "cell_type": "code",
      "source": [
        "\n",
        "\n",
        "import heapq\n",
        "\n",
        "def min_cost_of_ropes(ropes):\n",
        "    # Create a min-heap from the list of ropes\n",
        "    heapq.heapify(ropes)\n",
        "\n",
        "    total_cost = 0\n",
        "\n",
        "    # While there is more than one rope in the heap\n",
        "    while len(ropes) > 1:\n",
        "        # Extract the two smallest ropes\n",
        "        first = heapq.heappop(ropes)\n",
        "        second = heapq.heappop(ropes)\n",
        "\n",
        "        # Calculate the cost of connecting them\n",
        "        cost = first + second\n",
        "\n",
        "        # Add the cost to the total cost\n",
        "        total_cost += cost\n",
        "\n",
        "        # Add the new rope back to the heap\n",
        "        heapq.heappush(ropes, cost)\n",
        "\n",
        "    return total_cost\n",
        "\n",
        "# Example usage\n",
        "ropes = [4, 3, 2, 6]\n",
        "print(f\"The minimum cost to connect all ropes is: {min_cost_of_ropes(ropes)}\")"
      ],
      "metadata": {
        "colab": {
          "base_uri": "https://localhost:8080/"
        },
        "id": "1xyhUR8YDFH9",
        "outputId": "dffe2c54-e0d7-4dc6-9902-f8433d2f0ede"
      },
      "execution_count": 33,
      "outputs": [
        {
          "output_type": "stream",
          "name": "stdout",
          "text": [
            "The minimum cost to connect all ropes is: 29\n"
          ]
        }
      ]
    },
    {
      "cell_type": "code",
      "source": [],
      "metadata": {
        "id": "Y6AlxVOnFjrx"
      },
      "execution_count": null,
      "outputs": []
    }
  ]
}
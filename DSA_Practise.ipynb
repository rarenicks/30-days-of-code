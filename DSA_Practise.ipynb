{
  "nbformat": 4,
  "nbformat_minor": 0,
  "metadata": {
    "colab": {
      "provenance": [],
      "gpuType": "T4",
      "include_colab_link": true
    },
    "kernelspec": {
      "name": "python3",
      "display_name": "Python 3"
    },
    "language_info": {
      "name": "python"
    }
  },
  "cells": [
    {
      "cell_type": "markdown",
      "metadata": {
        "id": "view-in-github",
        "colab_type": "text"
      },
      "source": [
        "<a href=\"https://colab.research.google.com/github/rarenicks/30-days-of-code/blob/main/DSA_Practise.ipynb\" target=\"_parent\"><img src=\"https://colab.research.google.com/assets/colab-badge.svg\" alt=\"Open In Colab\"/></a>"
      ]
    },
    {
      "cell_type": "markdown",
      "source": [
        "***DSA with Python***"
      ],
      "metadata": {
        "id": "huOLfs4zTgSx"
      }
    },
    {
      "cell_type": "markdown",
      "source": [],
      "metadata": {
        "id": "ucJ0Hzbsr3BJ"
      }
    },
    {
      "cell_type": "code",
      "source": [
        "import time"
      ],
      "metadata": {
        "id": "kwoQki8Vr4-v"
      },
      "execution_count": null,
      "outputs": []
    },
    {
      "cell_type": "markdown",
      "source": [
        "Accepting input integer list"
      ],
      "metadata": {
        "id": "LHqkQTz9Zn0Y"
      }
    },
    {
      "cell_type": "code",
      "source": [
        "input_list = input().split(\" \")\n",
        "for i in range(len(input_list)):\n",
        "  input_list[i] = int(input_list[i])\n",
        "\n",
        "print(input_list)\n",
        "\n",
        "# List Comprehension\n",
        "\n",
        "input_list = [int(a) for a in input().split(\" \")]\n",
        "print(input_list)\n"
      ],
      "metadata": {
        "colab": {
          "base_uri": "https://localhost:8080/"
        },
        "id": "Qp32_foeZ6Ix",
        "outputId": "afa7e6f8-7106-41f6-bd01-ddb38f51d4c8"
      },
      "execution_count": null,
      "outputs": [
        {
          "output_type": "stream",
          "name": "stdout",
          "text": [
            "1 2 3 4 5\n",
            "[1, 2, 3, 4, 5]\n",
            "1 2 3 4 5\n",
            "[1, 2, 3, 4, 5]\n"
          ]
        }
      ]
    },
    {
      "cell_type": "markdown",
      "source": [
        "# Code for sum on numbers accepted from user input"
      ],
      "metadata": {
        "id": "awbYJDSzbZaa"
      }
    },
    {
      "cell_type": "code",
      "source": [
        "# n  = int(input())\n",
        "# myList = input().split(\" \")\n",
        "# sum = 0\n",
        "# for i in range(n):\n",
        "#   sum+=int(myList[i])\n",
        "# print(sum)\n",
        "# del sum\n",
        "\n",
        "# List Comprehension\n",
        "myList = [int(a) for a in input().split(\" \")]\n",
        "print(sum(myList), type(myList))\n"
      ],
      "metadata": {
        "id": "RObH3xvNbZI7",
        "colab": {
          "base_uri": "https://localhost:8080/"
        },
        "outputId": "f87635df-fb6b-4c0e-9433-fc8da7f9d1d2"
      },
      "execution_count": null,
      "outputs": [
        {
          "output_type": "stream",
          "name": "stdout",
          "text": [
            "1 2 3 4 5\n",
            "15 <class 'list'>\n"
          ]
        }
      ]
    },
    {
      "cell_type": "markdown",
      "source": [],
      "metadata": {
        "id": "fM2BoH58elEi"
      }
    },
    {
      "cell_type": "markdown",
      "source": [
        "Mean, Median and Mode in Python input list"
      ],
      "metadata": {
        "id": "H_HNFTNwelRr"
      }
    },
    {
      "cell_type": "code",
      "source": [
        "myList = [int(a) for a in input().split(\" \")]\n",
        "print(myList)\n",
        "\n",
        "# Mean : Average of all values in the list\n",
        "mean = sum(myList)/len(myList)\n",
        "print(\"Mean : \" ,mean)\n",
        "\n",
        "# Median : Middle element\n",
        "\n",
        "if (len(myList)%2==1): #Odd\n",
        "  median=myList[len(myList)//2]\n",
        "else: # Even\n",
        "  median = (myList[len(myList)//2] + myList[len(myList)//2 - 1])/2\n",
        "\n",
        "print(\"Median : \", median)\n",
        "\n",
        "# Mode : highest frequency\n",
        "\n",
        "startTime = time.time()\n",
        "# Using Another Dict\n",
        "countDict = {}\n",
        "for i in range(len(myList)):\n",
        "  if myList[i] in countDict.keys():\n",
        "      countDict[myList[i]]+=1\n",
        "  else:\n",
        "      countDict[myList[i]] = 1\n",
        "\n",
        "mode = max(countDict, key=countDict.get)\n",
        "endTime = time.time()\n",
        "print(\"Mode : \", mode, \"Time taken :\", endTime - startTime)\n",
        "\n",
        "# Brute Force : Using two loops\n",
        "startTime = time.time()\n",
        "maxCount=0\n",
        "maxEle=myList[0]\n",
        "for curEle in myList:\n",
        "  curCount=0\n",
        "  for eachEle in myList:\n",
        "    if curEle==eachEle:\n",
        "      curCount+=1\n",
        "    if curCount > maxCount:\n",
        "      maxCount=curCount\n",
        "      maxEle=curEle\n",
        "endTime = time.time()\n",
        "\n",
        "print(\"Mode : \", maxEle, \"Time taken :\", endTime - startTime)\n",
        "\n",
        "\n",
        "# Using Single loop : require sorted array\n",
        "sortedList = sorted(myList)\n",
        "startTime = time.time()\n",
        "\n",
        "maxCount=0\n",
        "curCount=1\n",
        "maxEle=myList[0]\n",
        "\n",
        "for i in range(len(myList)-1):\n",
        "  if myList[i] == myList[i+1]: # If adjacent elements are same, increment the counter\n",
        "    curCount+=1\n",
        "  else:\n",
        "    if curCount > maxCount:\n",
        "      maxCount=curCount\n",
        "      maxEle=myList[i]\n",
        "    curCount=1\n",
        "\n",
        "if curCount>maxCount:   #Checking for last element as missed while running loop n-1 times\n",
        "    maxCount=curCount\n",
        "    maxEle=myList[-1]\n",
        "endTime = time.time()\n",
        "\n",
        "print(\"Mode : \", maxEle, \"Time taken :\", endTime - startTime)"
      ],
      "metadata": {
        "colab": {
          "base_uri": "https://localhost:8080/"
        },
        "id": "gnnrTVaFelng",
        "outputId": "346b7975-e0d4-4ef0-ddd2-c6285ece44ce"
      },
      "execution_count": null,
      "outputs": [
        {
          "output_type": "stream",
          "name": "stdout",
          "text": [
            "12 1 19 10 10 12 12 34 42 123\n",
            "[12, 1, 19, 10, 10, 12, 12, 34, 42, 123]\n",
            "Mean :  27.5\n",
            "Median :  11.0\n",
            "Mode :  12 Time taken : 0.0003294944763183594\n",
            "Mode :  12 Time taken : 0.0002913475036621094\n",
            "Mode :  10 Time taken : 0.000400543212890625\n"
          ]
        }
      ]
    },
    {
      "cell_type": "code",
      "source": [],
      "metadata": {
        "id": "zdTgs06hnpwX"
      },
      "execution_count": null,
      "outputs": []
    },
    {
      "cell_type": "markdown",
      "source": [],
      "metadata": {
        "id": "ykV6QcgvelT9"
      }
    },
    {
      "cell_type": "markdown",
      "source": [
        "2D Lists"
      ],
      "metadata": {
        "id": "TFrsnsfmelXV"
      }
    },
    {
      "cell_type": "code",
      "source": [
        "n=int(input())\n",
        "\n",
        "myGrid=[]\n",
        "for i in range(n):\n",
        "  myGrid.append([int(item) for item in input(n).split(\" \")])\n",
        "\n",
        "print(myGrid)"
      ],
      "metadata": {
        "id": "WHUaLxAtelpv",
        "colab": {
          "base_uri": "https://localhost:8080/"
        },
        "outputId": "a6a11211-ae21-491f-8493-e15f64ccd541"
      },
      "execution_count": 2,
      "outputs": [
        {
          "output_type": "stream",
          "name": "stdout",
          "text": [
            "3\n",
            "31 2 3\n",
            "34 5 6\n",
            "37 8 9\n",
            "[[1, 2, 3], [4, 5, 6], [7, 8, 9]]\n"
          ]
        }
      ]
    },
    {
      "cell_type": "markdown",
      "source": [
        "Find Trace of the Matrix"
      ],
      "metadata": {
        "id": "xI1MdxuQEXEE"
      }
    },
    {
      "cell_type": "code",
      "source": [
        "sumTrace=0\n",
        "for i in range(n):\n",
        "  for j in range(n):\n",
        "    if i==j:\n",
        "      sumTrace+=myGrid[i][j]\n",
        "\n",
        "print(\"Sum Trace : \", sumTrace)\n",
        "\n",
        "\n",
        "# For sqaure matrices\n",
        "trace=[]\n",
        "for i in range(n):\n",
        "  trace.append(myGrid[i][i])\n",
        "print(\"Trace : \", trace)"
      ],
      "metadata": {
        "id": "IxGW2zo8eltS",
        "colab": {
          "base_uri": "https://localhost:8080/"
        },
        "outputId": "7cffc6f7-f037-45ea-f19b-444957207e59"
      },
      "execution_count": 3,
      "outputs": [
        {
          "output_type": "stream",
          "name": "stdout",
          "text": [
            "Sum Trace :  15\n",
            "Trace :  [1, 5, 9]\n"
          ]
        }
      ]
    },
    {
      "cell_type": "markdown",
      "source": [
        "Transpose of the Matrix"
      ],
      "metadata": {
        "id": "O9KKxrwQGCfG"
      }
    },
    {
      "cell_type": "code",
      "source": [
        "transposeGrid=myGrid\n",
        "for i in range(n):\n",
        "  for j in range(n):\n",
        "    if j>i:\n",
        "      temp=transposeGrid[j][i]\n",
        "      transposeGrid[j][i]=transposeGrid[i][j]\n",
        "      transposeGrid[i][j]=temp\n",
        "\n",
        "print(transposeGrid)"
      ],
      "metadata": {
        "colab": {
          "base_uri": "https://localhost:8080/"
        },
        "id": "5FbI1UW8GIgS",
        "outputId": "a314bf0b-64cc-4a67-e6d7-d452d7a0efe2"
      },
      "execution_count": 8,
      "outputs": [
        {
          "output_type": "stream",
          "name": "stdout",
          "text": [
            "[[1, 4, 7], [2, 5, 8], [3, 6, 9]]\n"
          ]
        }
      ]
    },
    {
      "cell_type": "markdown",
      "source": [
        "Recursion"
      ],
      "metadata": {
        "id": "xVZ1MEBbTicI"
      }
    },
    {
      "cell_type": "markdown",
      "source": [
        "Factorial with Recursion"
      ],
      "metadata": {
        "id": "mRecmPFoTifs"
      }
    },
    {
      "cell_type": "code",
      "execution_count": null,
      "metadata": {
        "colab": {
          "base_uri": "https://localhost:8080/"
        },
        "id": "JR1UlYfLTbiU",
        "outputId": "883b1600-1d28-47db-b6d0-e36a72fd3f1b"
      },
      "outputs": [
        {
          "output_type": "stream",
          "name": "stdout",
          "text": [
            "5\n",
            "120\n"
          ]
        }
      ],
      "source": [
        "def fact(n):\n",
        "  if n == 1 or n == 0:\n",
        "    return 1\n",
        "  else:\n",
        "    return n*fact(n-1)\n",
        "\n",
        "num = int(input())\n",
        "print(fact(num))"
      ]
    },
    {
      "cell_type": "markdown",
      "source": [
        "Fibonacci with Recursion"
      ],
      "metadata": {
        "id": "AjpAW5hGWPDE"
      }
    },
    {
      "cell_type": "code",
      "source": [
        "def fib(n):\n",
        "  if n == 1 or n == 0:\n",
        "    return 1\n",
        "  else:\n",
        "    return fib(n-1) + fib(n-2)\n",
        "num = int(input())\n",
        "print(fib(num))"
      ],
      "metadata": {
        "colab": {
          "base_uri": "https://localhost:8080/"
        },
        "id": "c2vn-fD-UHKU",
        "outputId": "bb7c98dc-d82e-4c1a-c65d-6a77a7b04391"
      },
      "execution_count": null,
      "outputs": [
        {
          "output_type": "stream",
          "name": "stdout",
          "text": [
            "5\n",
            "8\n"
          ]
        }
      ]
    },
    {
      "cell_type": "code",
      "source": [],
      "metadata": {
        "id": "rFoEiTNOXABN"
      },
      "execution_count": null,
      "outputs": []
    },
    {
      "cell_type": "markdown",
      "source": [
        "# Strings"
      ],
      "metadata": {
        "id": "Hw2SpPeZKHPb"
      }
    },
    {
      "cell_type": "code",
      "source": [
        "myStr=' rarenicks'\n",
        "print(myStr.count('a'))\n",
        "\n",
        "print(myStr.split('a'))\n",
        "\n",
        "print(myStr.strip())"
      ],
      "metadata": {
        "colab": {
          "base_uri": "https://localhost:8080/"
        },
        "id": "2P0oDV5wKI5m",
        "outputId": "a011b1e9-56ab-4d10-996c-4ffe4be26d88"
      },
      "execution_count": 12,
      "outputs": [
        {
          "output_type": "stream",
          "name": "stdout",
          "text": [
            "1\n",
            "[' r', 'renicks']\n",
            "rarenicks\n"
          ]
        }
      ]
    },
    {
      "cell_type": "code",
      "source": [
        "# ASCII values\n",
        "\n",
        "# A : 65 .... Z : 90\n",
        "# a : 97 .....z : 122\n",
        "\n",
        "char='a'\n",
        "print(char, ord(char), chr(ord(char)))\n",
        "char='z'\n",
        "print(char, ord(char), chr(ord(char)))\n",
        "\n",
        "# Converting lower case to Uppercase using ascii\n",
        "\n",
        "myStr=\"ascsvaAAvasfvnjANJUBFVasd\"\n",
        "print(\"My String: \", myStr)\n",
        "upperStr=\"\" #Creating new string as strings are immutables\n",
        "for char in myStr:\n",
        "  if ord(char) > 90:\n",
        "    upperStr+=chr( ord(char) - ( ord('a') - ord('A') )  )\n",
        "  else:\n",
        "    upperStr+=char\n",
        "\n",
        "print(\"UpperCase String :\", upperStr)"
      ],
      "metadata": {
        "colab": {
          "base_uri": "https://localhost:8080/"
        },
        "id": "QxXAlBJWKbWf",
        "outputId": "196e589e-6248-4d5f-8c51-30b1dcff0b0e"
      },
      "execution_count": 16,
      "outputs": [
        {
          "output_type": "stream",
          "name": "stdout",
          "text": [
            "a 97 a\n",
            "z 122 z\n",
            "My String:  ascsvaAAvasfvnjANJUBFVasd\n",
            "UpperCase String : ASCSVAAAVASFVNJANJUBFVASD\n"
          ]
        }
      ]
    },
    {
      "cell_type": "markdown",
      "source": [
        "## Check if string is palindrom or not"
      ],
      "metadata": {
        "id": "l2QOssOhcnP6"
      }
    },
    {
      "cell_type": "code",
      "source": [
        "myStr = \"abba\"\n",
        "\n",
        "# Approach 1 : Slicing\n",
        "if myStr == myStr[::-1]:\n",
        "  print(\"Palindrome\")\n",
        "else:\n",
        "  print(\"Not Palindrome\")\n",
        "\n",
        "\n",
        "# Approach 2 : looping\n",
        "isPalindrome=True\n",
        "for i in range(len(myStr) / 2): # Checking for half will check for whole string\n",
        "  if myStr[i] != myStr[len(myStr) - i -1]:\n",
        "    isPalindrome = False\n",
        "\n",
        "if isPalindrome:\n",
        "  print(\"Palindrome\")\n",
        "else:\n",
        "  print(\"Not Palindrome\")"
      ],
      "metadata": {
        "colab": {
          "base_uri": "https://localhost:8080/"
        },
        "id": "Kauug-E2cm85",
        "outputId": "f5a8de6a-f126-462d-f52a-52ea0e56ec82"
      },
      "execution_count": 23,
      "outputs": [
        {
          "output_type": "stream",
          "name": "stdout",
          "text": [
            "Palindrome\n",
            "Palindrome\n"
          ]
        }
      ]
    },
    {
      "cell_type": "code",
      "source": [],
      "metadata": {
        "id": "MgJHRYU_acom"
      },
      "execution_count": null,
      "outputs": []
    },
    {
      "cell_type": "markdown",
      "source": [],
      "metadata": {
        "id": "tSjlhAKhlXNN"
      }
    },
    {
      "cell_type": "markdown",
      "source": [],
      "metadata": {
        "id": "-XEXkAjhlXQj"
      }
    },
    {
      "cell_type": "markdown",
      "source": [
        "## Finding Largest Subarray sum : Kadane Algorithm"
      ],
      "metadata": {
        "id": "C_C0Xg4NlYKL"
      }
    },
    {
      "cell_type": "code",
      "source": [
        "import sys\n",
        "\n",
        "def kadaneAlgo(givenList):\n",
        "  start, end = 0, 0\n",
        "  curSum, maxSum = 0,  - sys.maxsize -1\n",
        "\n",
        "  while end < len(givenList) :\n",
        "\n",
        "    while curSum < 0:\n",
        "      curSum-=givenList[start]\n",
        "      start+=1\n",
        "\n",
        "    curSum+=givenList[end]\n",
        "    end+=1\n",
        "    maxSum = max(curSum, maxSum)\n",
        "\n",
        "  return maxSum\n",
        "\n",
        "# givenList = [1, 4, -3, 10, -20, 12]\n",
        "givenList = [1, 12, -30, 4, 8, 9]\n",
        "print(kadaneAlgo(givenList))"
      ],
      "metadata": {
        "colab": {
          "base_uri": "https://localhost:8080/"
        },
        "id": "Oz5EnavylirO",
        "outputId": "f0871a61-972c-4564-e236-bf960b652dbe"
      },
      "execution_count": 5,
      "outputs": [
        {
          "output_type": "stream",
          "name": "stdout",
          "text": [
            "21\n"
          ]
        }
      ]
    },
    {
      "cell_type": "code",
      "source": [],
      "metadata": {
        "id": "HhRtIgw6m3Bs"
      },
      "execution_count": null,
      "outputs": []
    },
    {
      "cell_type": "markdown",
      "source": [
        "## Flip Bits : Find largest subarray, obtained by getting flips bits in a binary"
      ],
      "metadata": {
        "id": "MbV03T-X5VB7"
      }
    },
    {
      "cell_type": "code",
      "source": [
        "def getFlippedNum(char):\n",
        "  if char == \"0\":\n",
        "    return 1\n",
        "  return -1\n",
        "\n",
        "def findMaxBits(givenStr):\n",
        "  start, end = 0, 0\n",
        "  curSum, maxSum = 0,  - sys.maxsize -1\n",
        "  oneCount=0\n",
        "\n",
        "  for i in givenStr:\n",
        "    if i == \"1\":\n",
        "      oneCount+=1\n",
        "\n",
        "  # If the entire string is '1's, return the length of the string\n",
        "  if oneCount == len(givenStr):\n",
        "    return oneCount\n",
        "\n",
        "\n",
        "  while end < len(givenStr):\n",
        "    while curSum < 0:\n",
        "      curSum-= getFlippedNum(givenStr[start])\n",
        "      start+=1\n",
        "\n",
        "    curSum+=getFlippedNum(givenStr[end])\n",
        "    end+=1\n",
        "    maxSum = max(curSum, maxSum)\n",
        "\n",
        "  return oneCount + maxSum\n",
        "\n",
        "\n",
        "givenStr = \"1110011\"\n",
        "print(findMaxBits(givenStr))"
      ],
      "metadata": {
        "colab": {
          "base_uri": "https://localhost:8080/"
        },
        "id": "N8GHO6CI5Vi1",
        "outputId": "422f7d4b-ac0a-451b-f711-4e186ea0b28f"
      },
      "execution_count": 29,
      "outputs": [
        {
          "output_type": "stream",
          "name": "stdout",
          "text": [
            "7\n"
          ]
        }
      ]
    },
    {
      "cell_type": "code",
      "source": [],
      "metadata": {
        "colab": {
          "base_uri": "https://localhost:8080/"
        },
        "id": "DOqIqtte6jnV",
        "outputId": "b144886d-e770-4592-bc59-6dc3691c026d"
      },
      "execution_count": 1,
      "outputs": [
        {
          "output_type": "execute_result",
          "data": {
            "text/plain": [
              "13"
            ]
          },
          "metadata": {},
          "execution_count": 1
        }
      ]
    },
    {
      "cell_type": "code",
      "source": [],
      "metadata": {
        "id": "nSJz0XBfbpGb"
      },
      "execution_count": null,
      "outputs": []
    },
    {
      "cell_type": "markdown",
      "source": [
        "## 2D - Kadane : Finding maximum sum rectangle in a matrix"
      ],
      "metadata": {
        "id": "P6U1M5qOmdXU"
      }
    },
    {
      "cell_type": "code",
      "source": [
        "import sys\n",
        "\n",
        "def kadaneAlgo(givenList):\n",
        "  start, end = 0, 0\n",
        "  curSum, maxSum = 0,  - sys.maxsize -1\n",
        "\n",
        "  while end < len(givenList) :\n",
        "\n",
        "    while curSum < 0:\n",
        "      curSum-=givenList[start]\n",
        "      start+=1\n",
        "\n",
        "    curSum+=givenList[end]\n",
        "    end+=1\n",
        "    maxSum = max(curSum, maxSum)\n",
        "\n",
        "  return maxSum\n",
        "\n",
        "myGrid = [[1,-2,3,7], [3,1,-6,6], [-2,-5,-2,3]]\n",
        "print(\"-----\")\n",
        "for i in myGrid:\n",
        "  print(i)\n",
        "\n",
        "lenRows = len(myGrid)\n",
        "lenCol = len(myGrid[0])\n",
        "ans = - sys.maxsize - 1\n",
        "\n",
        "for i in range(lenCol):\n",
        "  tempList   = []\n",
        "\n",
        "  for j in range(lenRows):\n",
        "    tempList.append(myGrid[j][i])\n",
        "\n",
        "  ans = max(ans, kadaneAlgo(tempList))\n",
        "  for j in range(i+1, lenCol):\n",
        "    for k in range(lenRows):\n",
        "      tempList[k] += myGrid[k][j]\n",
        "\n",
        "    ans = max(ans, kadaneAlgo(tempList))\n",
        "\n",
        "\n",
        "print(\"Maximum Recatangle Sum : \", ans)"
      ],
      "metadata": {
        "colab": {
          "base_uri": "https://localhost:8080/"
        },
        "id": "p7VakoXWmmEk",
        "outputId": "1d5f2464-15fb-4e56-f8b6-878e3e8d3e65"
      },
      "execution_count": 3,
      "outputs": [
        {
          "output_type": "stream",
          "name": "stdout",
          "text": [
            "-----\n",
            "[1, -2, 3, 7]\n",
            "[3, 1, -6, 6]\n",
            "[-2, -5, -2, 3]\n",
            "Maximum Recatangle Sum :  16\n"
          ]
        }
      ]
    },
    {
      "cell_type": "code",
      "source": [],
      "metadata": {
        "id": "7NFHwCgHm1uR"
      },
      "execution_count": null,
      "outputs": []
    },
    {
      "cell_type": "code",
      "source": [],
      "metadata": {
        "id": "nZ8ZBzzOxhO_"
      },
      "execution_count": null,
      "outputs": []
    },
    {
      "cell_type": "markdown",
      "source": [],
      "metadata": {
        "id": "CAhp2s4Wxhik"
      }
    },
    {
      "cell_type": "markdown",
      "source": [
        "## 2-SUM:\n",
        "- Q: Find the pair in the list the adds up to the target variable.\n",
        "- A: First Sorts the list in nlog(n) complexity and find 2sum in n hence solves in nlog(n)"
      ],
      "metadata": {
        "id": "Awqh7I1PxhmH"
      }
    },
    {
      "cell_type": "code",
      "source": [
        "myList = [1,2,5,8,10]\n",
        "targetSum=12\n",
        "\n",
        "def twoSum(myList, targetSum):\n",
        "  myList.sort()\n",
        "  start=0\n",
        "  end=len(myList)-1\n",
        "\n",
        "  while start < end:\n",
        "    currSum = myList[start] + myList[end]\n",
        "    if currSum < targetSum:\n",
        "      start+=1\n",
        "    if currSum > targetSum:\n",
        "      end-=1\n",
        "    if currSum == targetSum:\n",
        "      return myList[start], myList[end]\n",
        "\n",
        "  return -1\n",
        "\n",
        "print(twoSum(myList, targetSum))\n"
      ],
      "metadata": {
        "colab": {
          "base_uri": "https://localhost:8080/"
        },
        "id": "rnHbQLwTxhST",
        "outputId": "3275e877-8cd3-40d8-82f7-a7763e71675e"
      },
      "execution_count": 29,
      "outputs": [
        {
          "output_type": "stream",
          "name": "stdout",
          "text": [
            "(2, 10)\n"
          ]
        }
      ]
    },
    {
      "cell_type": "code",
      "source": [
        "##"
      ],
      "metadata": {
        "id": "2QuSMyV10fDE"
      },
      "execution_count": null,
      "outputs": []
    },
    {
      "cell_type": "markdown",
      "source": [
        "## 3-SUM\n",
        "- Q: Find the triplet in the list the adds up to the target variable.\n",
        "- A: First Sorts the list and for each element in list, apply the 2-sum to get the triplet\n"
      ],
      "metadata": {
        "id": "rTDC9cQb3vmO"
      }
    },
    {
      "cell_type": "code",
      "source": [
        "myList = [1,2,5,8,10]\n",
        "targetSum=13\n",
        "\n",
        "def threeSum(myList, targetSum):\n",
        "  myList.sort()\n",
        "  tempTarget = targetSum\n",
        "  for i in range(len(myList)):\n",
        "    tempTarget-=myList[i] # Already selected this element\n",
        "    start=i\n",
        "    end=len(myList)-1\n",
        "\n",
        "    while start < end:\n",
        "      currSum = myList[start] + myList[end]\n",
        "      if currSum < tempTarget:\n",
        "        start+=1\n",
        "      if currSum > tempTarget:\n",
        "        end-=1\n",
        "      if currSum == tempTarget:\n",
        "        return myList[i], myList[start], myList[end]\n",
        "\n",
        "    return -1\n",
        "\n",
        "print(threeSum(myList, targetSum))\n"
      ],
      "metadata": {
        "colab": {
          "base_uri": "https://localhost:8080/"
        },
        "id": "UaPSH0Lw4a0i",
        "outputId": "a5780f8b-6ccf-4558-ea05-c1d5245ca083"
      },
      "execution_count": 30,
      "outputs": [
        {
          "output_type": "stream",
          "name": "stdout",
          "text": [
            "(1, 2, 10)\n"
          ]
        }
      ]
    },
    {
      "cell_type": "code",
      "source": [],
      "metadata": {
        "id": "wKLG6Snv44yj"
      },
      "execution_count": null,
      "outputs": []
    }
  ]
}